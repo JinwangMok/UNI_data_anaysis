{
  "nbformat": 4,
  "nbformat_minor": 0,
  "metadata": {
    "colab": {
      "name": "preprocessing.ipynb",
      "provenance": [],
      "collapsed_sections": [
        "v2lvqvbpH6AP"
      ],
      "authorship_tag": "ABX9TyN+HA+oHiIF60cnJjtsi7FF",
      "include_colab_link": true
    },
    "kernelspec": {
      "name": "python3",
      "display_name": "Python 3"
    },
    "language_info": {
      "name": "python"
    }
  },
  "cells": [
    {
      "cell_type": "markdown",
      "metadata": {
        "id": "view-in-github",
        "colab_type": "text"
      },
      "source": [
        "<a href=\"https://colab.research.google.com/github/JinwangMok/UNI_data_anaysis/blob/main/preprocessing.ipynb\" target=\"_parent\"><img src=\"https://colab.research.google.com/assets/colab-badge.svg\" alt=\"Open In Colab\"/></a>"
      ]
    },
    {
      "cell_type": "markdown",
      "source": [
        "# 📘 Preprocessing.ipynb\n",
        "\n",
        ">## Information\n",
        ">\n",
        ">> Semester : `2022년 1학기`\n",
        ">>\n",
        ">> Class : `데이터 분석 이론 및 실습`\n",
        ">>\n",
        ">> Team : `장바구니`\n",
        ">>\n",
        ">> Author : `목진왕`\n"
      ],
      "metadata": {
        "id": "TItzGut1yklm"
      }
    },
    {
      "cell_type": "markdown",
      "source": [
        "```\n",
        "본 노트북은 데이터 분석에 앞서 원본 데이터를 가공하는 전처리(preprocessing) 단계에 대한 내용입니다.\n",
        "```"
      ],
      "metadata": {
        "id": "IHO2Kq1z0F_s"
      }
    },
    {
      "cell_type": "markdown",
      "source": [
        "> ## Preview\n",
        "> \n",
        ">> #### 🗃 개요\n",
        ">> 저희 `장바구니` 조는 `날씨🌤와 농·임산물의 가격 및 생산량의 상관관계`를 주제로 데이터 분석을 진행했습니다.\n",
        ">> \n",
        ">> 저는 먼저 __`날씨(강수량, 기온, 지면온도)에 따라 복분자의 가격이 변동할 것이다.`__라고 생각해보았습니다. \n",
        ">>\n",
        ">>\n",
        ">>> 📄참고자료\n",
        ">>>\n",
        ">>> <a href=\"https://folkency.nfm.go.kr/kr/topic/detail/7680\"><img src=\"https://folkency.nfm.go.kr/upload/img/20190304/20190304123721_w_.jpg\" alt=\"복분자-한국민속대백과사전\" width=\"160\" height=\"96\"></a>\n",
        ">>> \n",
        ">>> 🔗[농촌진흥청 복분자의 상성 및 경종기술 문서](http://www.nongsaro.go.kr/portal/ps/psb/psbk/kidoContentsFileView.mo?kidofcomdtyNo=26627)\n",
        ">> \n",
        ">> 이후 조사한 결과 위 문서에 따르면 복분자는 다음과 같은 특성을 가지고 있습니다.\n",
        ">> ```\n",
        ">> [식물 형태]\n",
        ">> 5～6월에 꽃이 피며, 산방화서가 가지 끝에 달린다. \n",
        ">> 꽃받침잎은 난상 피침형이며 꽃잎은 꽃받침보다 짧고 도난형으로 연한 홍색이다. 꽃과 꽃받침잎, 자방에 털이 있다. \n",
        ">> 열매는 둥글고 7～8월에 적색으로 익지만 나중에는 흑색으로 된다.\n",
        ">>\n",
        ">> [재배환경]\n",
        ">> 기후 : 복분자딸기는 장미과 식물로 줄기의 수(髓)가 60～90%를 차지하고 있어 겨울철에 가지가 동사와 건조사하는 경우가 많다. \n",
        ">> 겨울철 일교차가 심하면 낮 동안에는 상대습도가 낮아지면서 줄기의 상처부위를 통해서 수분이 수탈되여 건조해를 입을 수 있다.\n",
        ">> 토양 : 뿌리는 지표 30㎝ 이내에 대부분 분포되어 있고, 염류에 약할 뿐만 아니라 습해에 잘 견디지 못하므로 재배적지는 지하수위가 낮고, \n",
        ">> 토심이 깊으며 물빠짐이 좋고, 공기의 유통이 잘되는 양토 및 사양토로서 유기물이 풍부한 토양이어야 한다. \n",
        ">> ```\n",
        ">---\n",
        ">---\n",
        ">> #### ✍🏼 가설\n",
        ">> 이에 따라 세워본 가설은 아래와 같습니다.\n",
        ">>> 1️⃣\n",
        ">>> \n",
        ">>> 겨울철(12~1월) 일교차에 따라 복분자 생산량이 감소할 것으로 예상되므로 품귀 현상이 발생해 가격이 상승할 것이다.\n",
        ">>\n",
        ">>> 2️⃣  \n",
        ">>>\n",
        ">>> 겨울이 지나고 3월부터 수확철인 8월까지의 지면 30cm 온도가 높을 수록 낮과 밤의 일교차로 인한 습도가 증가할 수 있으므로 과실의 품질이 떨어져 가격이 하락할 것이다.\n",
        ">>\n",
        ">>> 3️⃣\n",
        ">>> \n",
        ">>> 2번과 동기간에 동일한 이유로 강수량이 증가하면 과실의 품질이 떨어져 가격이 하락할 것이다.\n",
        ">>\n",
        ">---\n",
        ">---\n",
        ">\n",
        ">> #### 🚀 데이터 전처리\n",
        ">> 본 프로젝트에 사용할 원본 데이터는 다음과 같습니다.\n",
        ">>> 1. ☀️ [기상청 지상(종관, ASOS) 일자료 조회서비스](https://www.data.go.kr/tcs/dss/selectApiDataDetailView.do?publicDataPk=15059093)\n",
        ">>>\n",
        ">>> 2. 🍄 [한국임업진흥원_일일 임산물 도매시장가격](https://www.data.go.kr/data/15020663/fileData.do)\n",
        ">>>\n",
        ">>> ```\n",
        ">>> ASOS 기상 데이터의 경우 전지역을 다루면 데이터의 양이 필요 이상으로 방대하고 정확도가 떨어질 수 있기 때문에\n",
        ">>> 국내 복분자의 주요 생산 지역인 \"고창\", \"정읍\", \"순창\" 이상 세 지역의 기상 정보만을 활용합니다.\n",
        ">>> ```\n",
        ">>\n",
        ">> 위 데이터에서 사용할 `column`은  다음과 같습니다.\n",
        ">>> 1. ☀️ ASOS\n",
        ">>>> `tm` : 일시\n",
        ">>>>\n",
        ">>>> `avgTa` : 평균 기온\n",
        ">>>>\n",
        ">>>> `maxTa` : 최대 기온\n",
        ">>>>\n",
        ">>>> `minTa` : 최소 기온\n",
        ">>>>\n",
        ">>>> `avgCm30Te` : 지면 30cm 온도\n",
        ">>>>\n",
        ">>>> `sumRn` : 일 강수량(mm)\n",
        ">>>\n",
        ">>> 2. 🍄 Forestry : \n",
        ">>>> `경락일` : 일시\n",
        ">>>>\n",
        ">>>> `도매시장` : 지역 구분\n",
        ">>>>\n",
        ">>>> `품목` : 품목 구분\n",
        ">>>>\n",
        ">>>> `세부품목` : 품목 세부 정보 조회\n",
        ">>>>\n",
        ">>>> `거래단량` : 판매량 계산\n",
        ">>>>\n",
        ">>>> `거래량` : 판매량 계산\n",
        ">>>>\n",
        ">>>> `규격` : 판매량 계산\n",
        ">>>>\n",
        ">>>> `등급` : 품질 정보 조회\n",
        ">>>>\n",
        ">>>> `가격` : 판매량 계산\n",
        ">>>>\n"
      ],
      "metadata": {
        "id": "j2Ht1ssG0ouc"
      }
    },
    {
      "cell_type": "markdown",
      "source": [
        "## 0. 💼 Before we start...\n",
        "\n",
        "시작하기 전에 먼저 필요한 라이브러리들과 데이터를 불러오고 저장하기 용이하도록 구글 드라이브를 마운트하도록 하겠습니다."
      ],
      "metadata": {
        "id": "v2lvqvbpH6AP"
      }
    },
    {
      "cell_type": "code",
      "source": [
        "import pandas as pd\n",
        "import numpy as np\n",
        "import json\n",
        "import requests\n",
        "import pathlib\n",
        "from tqdm import tqdm"
      ],
      "metadata": {
        "id": "h4cOQOMlI3X4"
      },
      "execution_count": null,
      "outputs": []
    },
    {
      "cell_type": "code",
      "source": [
        "from google.colab import drive\n",
        "drive.mount('/content/gdrive')"
      ],
      "metadata": {
        "colab": {
          "base_uri": "https://localhost:8080/"
        },
        "id": "_V9lE9JEJOfG",
        "outputId": "89b2f60a-44c6-42df-d9b5-3f4d66abfebe"
      },
      "execution_count": null,
      "outputs": [
        {
          "output_type": "stream",
          "name": "stdout",
          "text": [
            "Drive already mounted at /content/gdrive; to attempt to forcibly remount, call drive.mount(\"/content/gdrive\", force_remount=True).\n"
          ]
        }
      ]
    },
    {
      "cell_type": "markdown",
      "source": [
        "임산물 가격 데이터를 `data.go.kr`에서 다운로드 받고 압축을 풀면 아래와 같은 구조를 가지고 있습니다.\n",
        "\n",
        "> 📁 210405_월별_임산물_도매시장_가격정보_DB(2016_2021.03)\n",
        ">> 📁 2016\n",
        ">>> 201601.csv\n",
        ">>>\n",
        ">>> 201602.csv\n",
        ">>>\n",
        ">>> ...\n",
        ">>>\n",
        ">>> 201612.csv\n",
        ">>>\n",
        ">> ...\n",
        ">>\n",
        ">> 📁 2020\n",
        ">> \n",
        ">> 📁 2021\n",
        "\n",
        "따라서 이 데이터를 모두 다루는 방법으로 저는 `pathlib`과 `pandas` 데이터 프레임을 활용했습니다.\n",
        "\n",
        "이를 위해 임산물 가격 데이터의 `root` 폴더 디렉토리를 `FORESTRY_DATA_PATH`로 지정해줬습니다."
      ],
      "metadata": {
        "id": "n7zOQKulJXko"
      }
    },
    {
      "cell_type": "code",
      "source": [
        "# 자신의 구글 드라이브 내의 임산물 가격 데이터 디렉토리 위치\n",
        "FORESTRY_DATA_PATH = '/content/gdrive/MyDrive/Classroom/[데이터분석 이론 및 실습(01)-강윤희] 컴퓨터공학부-2022-1/22-1_텀프로젝트/210405_월별_임산물_도매시장_가격정보_DB(2016_2021.03)/'"
      ],
      "metadata": {
        "id": "CwWcpT0T_QLy"
      },
      "execution_count": null,
      "outputs": []
    },
    {
      "cell_type": "markdown",
      "source": [
        "##1. ☀️ ASOS 전처리"
      ],
      "metadata": {
        "id": "NmlRf-LZHnwR"
      }
    },
    {
      "cell_type": "code",
      "source": [
        "def get_ASOS_df(\n",
        "    stnIds:int,\n",
        "    startDt:str,\n",
        "    endDt:str,\n",
        "    pageNo:int=1,\n",
        "    numOfRows:int=500,\n",
        "    dataType:str='JSON',\n",
        "    dataCd:str='ASOS',\n",
        "    dateCd:str='DAY',\n",
        "    serviceKey='your key'\n",
        "    ):\n",
        "    \"\"\"\n",
        "    지역 ID와 측정 시작 및 종료 날짜를 받아 Pandas DataFrame을 반환합니다.\n",
        "    \n",
        "    :params\n",
        "    stnIds: 관측 지역의 stnId(필수)\n",
        "    startDt: 측정 시작 날짜(필수)\n",
        "    endDt: 측정 종료 날짜(필수)\n",
        "    pageNo: 페이지 번호(default=1)\n",
        "    numOfRows: 페이지당 행(데이터) 개수(default=500, max=999)\n",
        "    dataType: 요청 데이터 타입. 'JSON' 또는 'XML'(default='JSON')\n",
        "    dataCd: 데이터 제공자(default='ASOS')\n",
        "    dateCd: 데이터 분류(default='DAY')\n",
        "    serviceKey: 공공데이터포털(data.go.kr)에서 발급받은 인증키\n",
        "    \"\"\"\n",
        "    ASOS_datas = []\n",
        "    while(True):\n",
        "      \n",
        "        API = f'http://apis.data.go.kr/1360000/AsosDalyInfoService/getWthrDataList?serviceKey={serviceKey}&numOfRows={numOfRows}&pageNo={pageNo}&dataType={dataType}&dataCd={dataCd}&dateCd={dateCd}&startDt={startDt}&endDt={endDt}&stnIds={stnIds}'\n",
        "        json_data = requests.get(API).json()\n",
        "        \n",
        "        assert json_data['response']['header']['resultCode'] == '00', '잘못된 응답입니다. resultCode is NOT 00.'\n",
        "    \n",
        "        total_count = json_data['response']['body']['totalCount']\n",
        "        ASOS_datas += json_data['response']['body']['items']['item']\n",
        "\n",
        "        if total_count > (pageNo * numOfRows):\n",
        "            pageNo += 1\n",
        "        else:\n",
        "            break\n",
        "    \n",
        "    return pd.DataFrame(ASOS_datas)\n",
        "    "
      ],
      "metadata": {
        "id": "VD27WsigL3MY"
      },
      "execution_count": null,
      "outputs": []
    },
    {
      "cell_type": "code",
      "source": [
        "\"\"\"\n",
        "Parameters\n",
        "\n",
        "stnIds : 복분자의 주요 생산지인 고창을 비롯해 주변 지역인 순창과 정읍의 stnId를 통해 세 지역의 기상 정보를 가져옵니다.\n",
        "startDt, endDt : 임산물 가격 데이터가 2016~2021년 사이의 데이터이므로 2016년 1월 1일부터 2021년 12월 31일까지의 ASOS 기상 데이터를 수집합니다.\n",
        "\"\"\"\n",
        "stnIds = {\n",
        "    '고창군': 251,\n",
        "    '순창군': 254,\n",
        "    '정읍': 245\n",
        "}\n",
        "startDt = '20160101'\n",
        "endDt = '20211231'"
      ],
      "metadata": {
        "id": "7lXs6e82L2uv"
      },
      "execution_count": null,
      "outputs": []
    },
    {
      "cell_type": "code",
      "source": [
        "ASOS_df_dict = {}\n",
        "\n",
        "for stnId in tqdm(stnIds, desc=\"기상 데이터를 가져오고 있습니다..🌱\"):\n",
        "    ASOS_df_dict[stnId] = get_ASOS_df(stnIds[stnId], startDt, endDt)"
      ],
      "metadata": {
        "colab": {
          "base_uri": "https://localhost:8080/"
        },
        "id": "ow31bOwVL3SU",
        "outputId": "c351d12c-c3cd-490c-8ac1-835d83dbcd4c"
      },
      "execution_count": null,
      "outputs": [
        {
          "output_type": "stream",
          "name": "stderr",
          "text": [
            "기상 데이터를 가져오고 있습니다..🌱: 100%|██████████| 3/3 [00:45<00:00, 15.17s/it]\n"
          ]
        }
      ]
    },
    {
      "cell_type": "code",
      "source": [
        "ASOS_df_dict['고창군'].columns"
      ],
      "metadata": {
        "colab": {
          "base_uri": "https://localhost:8080/"
        },
        "id": "pLJ7TzFaL3XB",
        "outputId": "01f2c9d2-25c3-48cc-c24a-1950ab081777"
      },
      "execution_count": null,
      "outputs": [
        {
          "output_type": "execute_result",
          "data": {
            "text/plain": [
              "Index(['stnId', 'stnNm', 'tm', 'avgTa', 'minTa', 'minTaHrmt', 'maxTa',\n",
              "       'maxTaHrmt', 'mi10MaxRn', 'mi10MaxRnHrmt', 'hr1MaxRn', 'hr1MaxRnHrmt',\n",
              "       'sumRnDur', 'sumRn', 'maxInsWs', 'maxInsWsWd', 'maxInsWsHrmt', 'maxWs',\n",
              "       'maxWsWd', 'maxWsHrmt', 'avgWs', 'hr24SumRws', 'maxWd', 'avgTd',\n",
              "       'minRhm', 'minRhmHrmt', 'avgRhm', 'avgPv', 'avgPa', 'maxPs',\n",
              "       'maxPsHrmt', 'minPs', 'minPsHrmt', 'avgPs', 'ssDur', 'sumSsHr',\n",
              "       'hr1MaxIcsrHrmt', 'hr1MaxIcsr', 'sumGsr', 'ddMefs', 'ddMefsHrmt',\n",
              "       'ddMes', 'ddMesHrmt', 'sumDpthFhsc', 'avgTca', 'avgLmac', 'avgTs',\n",
              "       'minTg', 'avgCm5Te', 'avgCm10Te', 'avgCm20Te', 'avgCm30Te', 'avgM05Te',\n",
              "       'avgM10Te', 'avgM15Te', 'avgM30Te', 'avgM50Te', 'sumLrgEv', 'sumSmlEv',\n",
              "       'n99Rn', 'iscs', 'sumFogDur'],\n",
              "      dtype='object')"
            ]
          },
          "metadata": {},
          "execution_count": 92
        }
      ]
    },
    {
      "cell_type": "markdown",
      "source": [
        "> 이때 데이터로 활용하고자 하는 column은 `tm`, `avgTa`, `maxTa`, `minTa`, `avgCm30Te`, `sumRn` 5개 열이므로 세 지역의 데이터 프레임을 재구성합니다."
      ],
      "metadata": {
        "id": "7BU8ibbWP-vm"
      }
    },
    {
      "cell_type": "code",
      "source": [
        "target_columns = ['tm', 'avgTa', 'maxTa', 'minTa', 'avgCm30Te', 'sumRn']\n",
        "\n",
        "for k in ASOS_df_dict.keys():\n",
        "    ASOS_df_dict[k] = ASOS_df_dict[k][target_columns]"
      ],
      "metadata": {
        "id": "-eplEHQYQMbU"
      },
      "execution_count": null,
      "outputs": []
    },
    {
      "cell_type": "markdown",
      "source": [
        "> 최종적인 ASOS 데이터는 다음과 같은 형태입니다."
      ],
      "metadata": {
        "id": "UDiKg7eMRPSM"
      }
    },
    {
      "cell_type": "code",
      "source": [
        "ASOS_df_dict['고창군'].tail()"
      ],
      "metadata": {
        "colab": {
          "base_uri": "https://localhost:8080/",
          "height": 206
        },
        "id": "rfPJ7HB8RLYb",
        "outputId": "8931e7e5-2aac-464f-a5cf-09ca55ad25e6"
      },
      "execution_count": null,
      "outputs": [
        {
          "output_type": "execute_result",
          "data": {
            "text/plain": [
              "              tm avgTa maxTa minTa avgCm30Te sumRn\n",
              "2187  2021-12-27  -3.7   0.7  -9.9       4.5   0.0\n",
              "2188  2021-12-28   2.3   6.0  -1.5       4.5      \n",
              "2189  2021-12-29   3.9   8.6   0.2       4.9   0.0\n",
              "2190  2021-12-30   0.7   3.7  -1.8       5.2   0.8\n",
              "2191  2021-12-31  -3.2  -0.9  -5.2       4.9   0.0"
            ],
            "text/html": [
              "\n",
              "  <div id=\"df-71354b3d-90df-4abd-a192-63d594070ef2\">\n",
              "    <div class=\"colab-df-container\">\n",
              "      <div>\n",
              "<style scoped>\n",
              "    .dataframe tbody tr th:only-of-type {\n",
              "        vertical-align: middle;\n",
              "    }\n",
              "\n",
              "    .dataframe tbody tr th {\n",
              "        vertical-align: top;\n",
              "    }\n",
              "\n",
              "    .dataframe thead th {\n",
              "        text-align: right;\n",
              "    }\n",
              "</style>\n",
              "<table border=\"1\" class=\"dataframe\">\n",
              "  <thead>\n",
              "    <tr style=\"text-align: right;\">\n",
              "      <th></th>\n",
              "      <th>tm</th>\n",
              "      <th>avgTa</th>\n",
              "      <th>maxTa</th>\n",
              "      <th>minTa</th>\n",
              "      <th>avgCm30Te</th>\n",
              "      <th>sumRn</th>\n",
              "    </tr>\n",
              "  </thead>\n",
              "  <tbody>\n",
              "    <tr>\n",
              "      <th>2187</th>\n",
              "      <td>2021-12-27</td>\n",
              "      <td>-3.7</td>\n",
              "      <td>0.7</td>\n",
              "      <td>-9.9</td>\n",
              "      <td>4.5</td>\n",
              "      <td>0.0</td>\n",
              "    </tr>\n",
              "    <tr>\n",
              "      <th>2188</th>\n",
              "      <td>2021-12-28</td>\n",
              "      <td>2.3</td>\n",
              "      <td>6.0</td>\n",
              "      <td>-1.5</td>\n",
              "      <td>4.5</td>\n",
              "      <td></td>\n",
              "    </tr>\n",
              "    <tr>\n",
              "      <th>2189</th>\n",
              "      <td>2021-12-29</td>\n",
              "      <td>3.9</td>\n",
              "      <td>8.6</td>\n",
              "      <td>0.2</td>\n",
              "      <td>4.9</td>\n",
              "      <td>0.0</td>\n",
              "    </tr>\n",
              "    <tr>\n",
              "      <th>2190</th>\n",
              "      <td>2021-12-30</td>\n",
              "      <td>0.7</td>\n",
              "      <td>3.7</td>\n",
              "      <td>-1.8</td>\n",
              "      <td>5.2</td>\n",
              "      <td>0.8</td>\n",
              "    </tr>\n",
              "    <tr>\n",
              "      <th>2191</th>\n",
              "      <td>2021-12-31</td>\n",
              "      <td>-3.2</td>\n",
              "      <td>-0.9</td>\n",
              "      <td>-5.2</td>\n",
              "      <td>4.9</td>\n",
              "      <td>0.0</td>\n",
              "    </tr>\n",
              "  </tbody>\n",
              "</table>\n",
              "</div>\n",
              "      <button class=\"colab-df-convert\" onclick=\"convertToInteractive('df-71354b3d-90df-4abd-a192-63d594070ef2')\"\n",
              "              title=\"Convert this dataframe to an interactive table.\"\n",
              "              style=\"display:none;\">\n",
              "        \n",
              "  <svg xmlns=\"http://www.w3.org/2000/svg\" height=\"24px\"viewBox=\"0 0 24 24\"\n",
              "       width=\"24px\">\n",
              "    <path d=\"M0 0h24v24H0V0z\" fill=\"none\"/>\n",
              "    <path d=\"M18.56 5.44l.94 2.06.94-2.06 2.06-.94-2.06-.94-.94-2.06-.94 2.06-2.06.94zm-11 1L8.5 8.5l.94-2.06 2.06-.94-2.06-.94L8.5 2.5l-.94 2.06-2.06.94zm10 10l.94 2.06.94-2.06 2.06-.94-2.06-.94-.94-2.06-.94 2.06-2.06.94z\"/><path d=\"M17.41 7.96l-1.37-1.37c-.4-.4-.92-.59-1.43-.59-.52 0-1.04.2-1.43.59L10.3 9.45l-7.72 7.72c-.78.78-.78 2.05 0 2.83L4 21.41c.39.39.9.59 1.41.59.51 0 1.02-.2 1.41-.59l7.78-7.78 2.81-2.81c.8-.78.8-2.07 0-2.86zM5.41 20L4 18.59l7.72-7.72 1.47 1.35L5.41 20z\"/>\n",
              "  </svg>\n",
              "      </button>\n",
              "      \n",
              "  <style>\n",
              "    .colab-df-container {\n",
              "      display:flex;\n",
              "      flex-wrap:wrap;\n",
              "      gap: 12px;\n",
              "    }\n",
              "\n",
              "    .colab-df-convert {\n",
              "      background-color: #E8F0FE;\n",
              "      border: none;\n",
              "      border-radius: 50%;\n",
              "      cursor: pointer;\n",
              "      display: none;\n",
              "      fill: #1967D2;\n",
              "      height: 32px;\n",
              "      padding: 0 0 0 0;\n",
              "      width: 32px;\n",
              "    }\n",
              "\n",
              "    .colab-df-convert:hover {\n",
              "      background-color: #E2EBFA;\n",
              "      box-shadow: 0px 1px 2px rgba(60, 64, 67, 0.3), 0px 1px 3px 1px rgba(60, 64, 67, 0.15);\n",
              "      fill: #174EA6;\n",
              "    }\n",
              "\n",
              "    [theme=dark] .colab-df-convert {\n",
              "      background-color: #3B4455;\n",
              "      fill: #D2E3FC;\n",
              "    }\n",
              "\n",
              "    [theme=dark] .colab-df-convert:hover {\n",
              "      background-color: #434B5C;\n",
              "      box-shadow: 0px 1px 3px 1px rgba(0, 0, 0, 0.15);\n",
              "      filter: drop-shadow(0px 1px 2px rgba(0, 0, 0, 0.3));\n",
              "      fill: #FFFFFF;\n",
              "    }\n",
              "  </style>\n",
              "\n",
              "      <script>\n",
              "        const buttonEl =\n",
              "          document.querySelector('#df-71354b3d-90df-4abd-a192-63d594070ef2 button.colab-df-convert');\n",
              "        buttonEl.style.display =\n",
              "          google.colab.kernel.accessAllowed ? 'block' : 'none';\n",
              "\n",
              "        async function convertToInteractive(key) {\n",
              "          const element = document.querySelector('#df-71354b3d-90df-4abd-a192-63d594070ef2');\n",
              "          const dataTable =\n",
              "            await google.colab.kernel.invokeFunction('convertToInteractive',\n",
              "                                                     [key], {});\n",
              "          if (!dataTable) return;\n",
              "\n",
              "          const docLinkHtml = 'Like what you see? Visit the ' +\n",
              "            '<a target=\"_blank\" href=https://colab.research.google.com/notebooks/data_table.ipynb>data table notebook</a>'\n",
              "            + ' to learn more about interactive tables.';\n",
              "          element.innerHTML = '';\n",
              "          dataTable['output_type'] = 'display_data';\n",
              "          await google.colab.output.renderOutput(dataTable, element);\n",
              "          const docLink = document.createElement('div');\n",
              "          docLink.innerHTML = docLinkHtml;\n",
              "          element.appendChild(docLink);\n",
              "        }\n",
              "      </script>\n",
              "    </div>\n",
              "  </div>\n",
              "  "
            ]
          },
          "metadata": {},
          "execution_count": 94
        }
      ]
    },
    {
      "cell_type": "markdown",
      "source": [
        "> 마지막으로 세 지역의 데이터를 csv 파일로 저장합니다."
      ],
      "metadata": {
        "id": "ihaUUOT2ReAW"
      }
    },
    {
      "cell_type": "code",
      "source": [
        "for k in ASOS_df_dict.keys():\n",
        "    ASOS_df_dict[k].to_csv(f'ASOS_{k}_기상데이터.csv', encoding='cp949')\n",
        "    # if you want to save these files to your google drive\n",
        "    # then change the file path to target directory.\n",
        "    # this code doesn't make csv file reusable."
      ],
      "metadata": {
        "id": "QF7_iHA4Rs50"
      },
      "execution_count": null,
      "outputs": []
    },
    {
      "cell_type": "markdown",
      "source": [
        "Done✅"
      ],
      "metadata": {
        "id": "QzGtcfaMTRF1"
      }
    },
    {
      "cell_type": "markdown",
      "source": [
        "---"
      ],
      "metadata": {
        "id": "pC9f_zXy-NNM"
      }
    },
    {
      "cell_type": "markdown",
      "source": [
        "## 2. 🍄 임산물 데이터 전처리"
      ],
      "metadata": {
        "id": "OhWJVJwW-PSv"
      }
    },
    {
      "cell_type": "markdown",
      "source": [
        "> pathlib 라이브러리는 파일 구조의 탐색을 쉽게 해줍니다.\n",
        "> \n",
        "> 아래와 같이 rglob 메소드를 사용해 임산물 가격 데이터 디렉토리 내의 모든 csv 파일의 경로를 읽어올 수 있습니다."
      ],
      "metadata": {
        "id": "2zRkG5hDUFXT"
      }
    },
    {
      "cell_type": "code",
      "source": [
        "FORESTRY_DATA_PATHs = list(pathlib.Path(FORESTRY_DATA_PATH).rglob('**/*.csv'))\n",
        "\n",
        "for path in FORESTRY_DATA_PATHs[::12]:\n",
        "    print(path)"
      ],
      "metadata": {
        "colab": {
          "base_uri": "https://localhost:8080/"
        },
        "id": "ET4Vv0_7UUMx",
        "outputId": "09f537e2-ae6a-45ae-ffa1-6c027c17c667"
      },
      "execution_count": null,
      "outputs": [
        {
          "output_type": "stream",
          "name": "stdout",
          "text": [
            "/content/gdrive/MyDrive/Classroom/[데이터분석 이론 및 실습(01)-강윤희] 컴퓨터공학부-2022-1/22-1_텀프로젝트/210405_월별_임산물_도매시장_가격정보_DB(2016_2021.03)/2021/202101.csv\n",
            "/content/gdrive/MyDrive/Classroom/[데이터분석 이론 및 실습(01)-강윤희] 컴퓨터공학부-2022-1/22-1_텀프로젝트/210405_월별_임산물_도매시장_가격정보_DB(2016_2021.03)/2018/201810.csv\n",
            "/content/gdrive/MyDrive/Classroom/[데이터분석 이론 및 실습(01)-강윤희] 컴퓨터공학부-2022-1/22-1_텀프로젝트/210405_월별_임산물_도매시장_가격정보_DB(2016_2021.03)/2019/201910.csv\n",
            "/content/gdrive/MyDrive/Classroom/[데이터분석 이론 및 실습(01)-강윤희] 컴퓨터공학부-2022-1/22-1_텀프로젝트/210405_월별_임산물_도매시장_가격정보_DB(2016_2021.03)/2020/202010.csv\n",
            "/content/gdrive/MyDrive/Classroom/[데이터분석 이론 및 실습(01)-강윤희] 컴퓨터공학부-2022-1/22-1_텀프로젝트/210405_월별_임산물_도매시장_가격정보_DB(2016_2021.03)/2017/201710.csv\n",
            "/content/gdrive/MyDrive/Classroom/[데이터분석 이론 및 실습(01)-강윤희] 컴퓨터공학부-2022-1/22-1_텀프로젝트/210405_월별_임산물_도매시장_가격정보_DB(2016_2021.03)/2016/201610.csv\n"
          ]
        }
      ]
    },
    {
      "cell_type": "markdown",
      "source": [
        "> 경로의 순서가 뒤죽박죽이지만 데이터 프레임으로 구성한 후 정렬해도 좋을 것 같습니다.\n",
        "> \n",
        "> 따라서, 디렉토리 내의 모든 파일을 하나의 데이터 프레임으로 읽어오겠습니다."
      ],
      "metadata": {
        "id": "x2VhAVIVUnX-"
      }
    },
    {
      "cell_type": "code",
      "source": [
        "Forestry_df = pd.read_csv(FORESTRY_DATA_PATHs[0], encoding='cp949')\n",
        "\n",
        "for path in tqdm(FORESTRY_DATA_PATHs[1:], desc=\"임산물 가격 데이터를 가져오고 있습니다..🌱\"):\n",
        "  Forestry_df = pd.concat([Forestry_df, pd.read_csv(path, encoding='cp949')])"
      ],
      "metadata": {
        "colab": {
          "base_uri": "https://localhost:8080/"
        },
        "id": "Y2fzSorf-YgR",
        "outputId": "4e7a9e23-741b-445b-b025-13b1a6994227"
      },
      "execution_count": null,
      "outputs": [
        {
          "output_type": "stream",
          "name": "stderr",
          "text": [
            "임산물 가격 데이터를 가져오고 있습니다..🌱:  82%|████████▏ | 51/62 [00:10<00:05,  2.00it/s]/usr/local/lib/python3.7/dist-packages/IPython/core/interactiveshell.py:2882: DtypeWarning: Columns (3,5) have mixed types.Specify dtype option on import or set low_memory=False.\n",
            "  exec(code_obj, self.user_global_ns, self.user_ns)\n",
            "임산물 가격 데이터를 가져오고 있습니다..🌱: 100%|██████████| 62/62 [00:15<00:00,  3.93it/s]\n"
          ]
        }
      ]
    },
    {
      "cell_type": "code",
      "source": [
        "Forestry_df.iloc[[0, -1]]"
      ],
      "metadata": {
        "colab": {
          "base_uri": "https://localhost:8080/",
          "height": 112
        },
        "id": "oD5qk4fBVsJj",
        "outputId": "1258c43d-3089-482d-875d-93ad9d5aa316"
      },
      "execution_count": null,
      "outputs": [
        {
          "output_type": "execute_result",
          "data": {
            "text/plain": [
              "            경락일  공영도매시장코드    도매시장  품목코드   품목  세부품목코드     세부품목  거래량  거래단량  \\\n",
              "0      20210102    380401  진주도매시장  1406  참나물  140601  참나물(일반)   16   4.0   \n",
              "20608  20161231    370401  안동도매시장   702   대추   70202      건대추  108  10.0   \n",
              "\n",
              "         규격코드       규격 등급코드  등급     가격  \n",
              "0      120100   kg 상자    11   특  10867  \n",
              "20608  120500  kg 그물망    10  없음  41663  "
            ],
            "text/html": [
              "\n",
              "  <div id=\"df-eebf6951-1356-4731-9c5f-49c4022590ac\">\n",
              "    <div class=\"colab-df-container\">\n",
              "      <div>\n",
              "<style scoped>\n",
              "    .dataframe tbody tr th:only-of-type {\n",
              "        vertical-align: middle;\n",
              "    }\n",
              "\n",
              "    .dataframe tbody tr th {\n",
              "        vertical-align: top;\n",
              "    }\n",
              "\n",
              "    .dataframe thead th {\n",
              "        text-align: right;\n",
              "    }\n",
              "</style>\n",
              "<table border=\"1\" class=\"dataframe\">\n",
              "  <thead>\n",
              "    <tr style=\"text-align: right;\">\n",
              "      <th></th>\n",
              "      <th>경락일</th>\n",
              "      <th>공영도매시장코드</th>\n",
              "      <th>도매시장</th>\n",
              "      <th>품목코드</th>\n",
              "      <th>품목</th>\n",
              "      <th>세부품목코드</th>\n",
              "      <th>세부품목</th>\n",
              "      <th>거래량</th>\n",
              "      <th>거래단량</th>\n",
              "      <th>규격코드</th>\n",
              "      <th>규격</th>\n",
              "      <th>등급코드</th>\n",
              "      <th>등급</th>\n",
              "      <th>가격</th>\n",
              "    </tr>\n",
              "  </thead>\n",
              "  <tbody>\n",
              "    <tr>\n",
              "      <th>0</th>\n",
              "      <td>20210102</td>\n",
              "      <td>380401</td>\n",
              "      <td>진주도매시장</td>\n",
              "      <td>1406</td>\n",
              "      <td>참나물</td>\n",
              "      <td>140601</td>\n",
              "      <td>참나물(일반)</td>\n",
              "      <td>16</td>\n",
              "      <td>4.0</td>\n",
              "      <td>120100</td>\n",
              "      <td>kg 상자</td>\n",
              "      <td>11</td>\n",
              "      <td>특</td>\n",
              "      <td>10867</td>\n",
              "    </tr>\n",
              "    <tr>\n",
              "      <th>20608</th>\n",
              "      <td>20161231</td>\n",
              "      <td>370401</td>\n",
              "      <td>안동도매시장</td>\n",
              "      <td>702</td>\n",
              "      <td>대추</td>\n",
              "      <td>70202</td>\n",
              "      <td>건대추</td>\n",
              "      <td>108</td>\n",
              "      <td>10.0</td>\n",
              "      <td>120500</td>\n",
              "      <td>kg 그물망</td>\n",
              "      <td>10</td>\n",
              "      <td>없음</td>\n",
              "      <td>41663</td>\n",
              "    </tr>\n",
              "  </tbody>\n",
              "</table>\n",
              "</div>\n",
              "      <button class=\"colab-df-convert\" onclick=\"convertToInteractive('df-eebf6951-1356-4731-9c5f-49c4022590ac')\"\n",
              "              title=\"Convert this dataframe to an interactive table.\"\n",
              "              style=\"display:none;\">\n",
              "        \n",
              "  <svg xmlns=\"http://www.w3.org/2000/svg\" height=\"24px\"viewBox=\"0 0 24 24\"\n",
              "       width=\"24px\">\n",
              "    <path d=\"M0 0h24v24H0V0z\" fill=\"none\"/>\n",
              "    <path d=\"M18.56 5.44l.94 2.06.94-2.06 2.06-.94-2.06-.94-.94-2.06-.94 2.06-2.06.94zm-11 1L8.5 8.5l.94-2.06 2.06-.94-2.06-.94L8.5 2.5l-.94 2.06-2.06.94zm10 10l.94 2.06.94-2.06 2.06-.94-2.06-.94-.94-2.06-.94 2.06-2.06.94z\"/><path d=\"M17.41 7.96l-1.37-1.37c-.4-.4-.92-.59-1.43-.59-.52 0-1.04.2-1.43.59L10.3 9.45l-7.72 7.72c-.78.78-.78 2.05 0 2.83L4 21.41c.39.39.9.59 1.41.59.51 0 1.02-.2 1.41-.59l7.78-7.78 2.81-2.81c.8-.78.8-2.07 0-2.86zM5.41 20L4 18.59l7.72-7.72 1.47 1.35L5.41 20z\"/>\n",
              "  </svg>\n",
              "      </button>\n",
              "      \n",
              "  <style>\n",
              "    .colab-df-container {\n",
              "      display:flex;\n",
              "      flex-wrap:wrap;\n",
              "      gap: 12px;\n",
              "    }\n",
              "\n",
              "    .colab-df-convert {\n",
              "      background-color: #E8F0FE;\n",
              "      border: none;\n",
              "      border-radius: 50%;\n",
              "      cursor: pointer;\n",
              "      display: none;\n",
              "      fill: #1967D2;\n",
              "      height: 32px;\n",
              "      padding: 0 0 0 0;\n",
              "      width: 32px;\n",
              "    }\n",
              "\n",
              "    .colab-df-convert:hover {\n",
              "      background-color: #E2EBFA;\n",
              "      box-shadow: 0px 1px 2px rgba(60, 64, 67, 0.3), 0px 1px 3px 1px rgba(60, 64, 67, 0.15);\n",
              "      fill: #174EA6;\n",
              "    }\n",
              "\n",
              "    [theme=dark] .colab-df-convert {\n",
              "      background-color: #3B4455;\n",
              "      fill: #D2E3FC;\n",
              "    }\n",
              "\n",
              "    [theme=dark] .colab-df-convert:hover {\n",
              "      background-color: #434B5C;\n",
              "      box-shadow: 0px 1px 3px 1px rgba(0, 0, 0, 0.15);\n",
              "      filter: drop-shadow(0px 1px 2px rgba(0, 0, 0, 0.3));\n",
              "      fill: #FFFFFF;\n",
              "    }\n",
              "  </style>\n",
              "\n",
              "      <script>\n",
              "        const buttonEl =\n",
              "          document.querySelector('#df-eebf6951-1356-4731-9c5f-49c4022590ac button.colab-df-convert');\n",
              "        buttonEl.style.display =\n",
              "          google.colab.kernel.accessAllowed ? 'block' : 'none';\n",
              "\n",
              "        async function convertToInteractive(key) {\n",
              "          const element = document.querySelector('#df-eebf6951-1356-4731-9c5f-49c4022590ac');\n",
              "          const dataTable =\n",
              "            await google.colab.kernel.invokeFunction('convertToInteractive',\n",
              "                                                     [key], {});\n",
              "          if (!dataTable) return;\n",
              "\n",
              "          const docLinkHtml = 'Like what you see? Visit the ' +\n",
              "            '<a target=\"_blank\" href=https://colab.research.google.com/notebooks/data_table.ipynb>data table notebook</a>'\n",
              "            + ' to learn more about interactive tables.';\n",
              "          element.innerHTML = '';\n",
              "          dataTable['output_type'] = 'display_data';\n",
              "          await google.colab.output.renderOutput(dataTable, element);\n",
              "          const docLink = document.createElement('div');\n",
              "          docLink.innerHTML = docLinkHtml;\n",
              "          element.appendChild(docLink);\n",
              "        }\n",
              "      </script>\n",
              "    </div>\n",
              "  </div>\n",
              "  "
            ]
          },
          "metadata": {},
          "execution_count": 98
        }
      ]
    },
    {
      "cell_type": "markdown",
      "source": [
        "> 위에서 확인할 수 있듯이 데이터 프레임의 순서가 경락일 순서로 정렬되지 않음을 알 수 있습니다.\n",
        ">\n",
        "> 따라서 먼저 경락일 기준으로 데이터 프레임을 정렬합니다."
      ],
      "metadata": {
        "id": "svXFFE4MVp7F"
      }
    },
    {
      "cell_type": "code",
      "source": [
        "Forestry_df = Forestry_df.sort_values(by='경락일').reset_index(drop=True)"
      ],
      "metadata": {
        "id": "VlOzOABUCIq4"
      },
      "execution_count": null,
      "outputs": []
    },
    {
      "cell_type": "code",
      "source": [
        "Forestry_df.iloc[[0, -1]]"
      ],
      "metadata": {
        "colab": {
          "base_uri": "https://localhost:8080/",
          "height": 112
        },
        "id": "tL4wfv3jWP9O",
        "outputId": "c1af80a2-e6bf-44aa-acdd-113d331c82b6"
      },
      "execution_count": null,
      "outputs": [
        {
          "output_type": "execute_result",
          "data": {
            "text/plain": [
              "              경락일  공영도매시장코드      도매시장  품목코드    품목  세부품목코드 세부품목  거래량  거래단량  \\\n",
              "0        20160102    350301    익산도매시장  1704  표고버섯  170499   기타    7   4.0   \n",
              "2234726  20210331    380303  창원내서도매시장  1403    두릅  140305  참두릅    1   0.5   \n",
              "\n",
              "           규격코드      규격 등급코드   등급     가격  \n",
              "0        120100  kg 상자    1C  무농약  37000  \n",
              "2234726  120100  kg 상자    13   보통   6000  "
            ],
            "text/html": [
              "\n",
              "  <div id=\"df-4939e9db-5305-4883-a177-e9338d0aef71\">\n",
              "    <div class=\"colab-df-container\">\n",
              "      <div>\n",
              "<style scoped>\n",
              "    .dataframe tbody tr th:only-of-type {\n",
              "        vertical-align: middle;\n",
              "    }\n",
              "\n",
              "    .dataframe tbody tr th {\n",
              "        vertical-align: top;\n",
              "    }\n",
              "\n",
              "    .dataframe thead th {\n",
              "        text-align: right;\n",
              "    }\n",
              "</style>\n",
              "<table border=\"1\" class=\"dataframe\">\n",
              "  <thead>\n",
              "    <tr style=\"text-align: right;\">\n",
              "      <th></th>\n",
              "      <th>경락일</th>\n",
              "      <th>공영도매시장코드</th>\n",
              "      <th>도매시장</th>\n",
              "      <th>품목코드</th>\n",
              "      <th>품목</th>\n",
              "      <th>세부품목코드</th>\n",
              "      <th>세부품목</th>\n",
              "      <th>거래량</th>\n",
              "      <th>거래단량</th>\n",
              "      <th>규격코드</th>\n",
              "      <th>규격</th>\n",
              "      <th>등급코드</th>\n",
              "      <th>등급</th>\n",
              "      <th>가격</th>\n",
              "    </tr>\n",
              "  </thead>\n",
              "  <tbody>\n",
              "    <tr>\n",
              "      <th>0</th>\n",
              "      <td>20160102</td>\n",
              "      <td>350301</td>\n",
              "      <td>익산도매시장</td>\n",
              "      <td>1704</td>\n",
              "      <td>표고버섯</td>\n",
              "      <td>170499</td>\n",
              "      <td>기타</td>\n",
              "      <td>7</td>\n",
              "      <td>4.0</td>\n",
              "      <td>120100</td>\n",
              "      <td>kg 상자</td>\n",
              "      <td>1C</td>\n",
              "      <td>무농약</td>\n",
              "      <td>37000</td>\n",
              "    </tr>\n",
              "    <tr>\n",
              "      <th>2234726</th>\n",
              "      <td>20210331</td>\n",
              "      <td>380303</td>\n",
              "      <td>창원내서도매시장</td>\n",
              "      <td>1403</td>\n",
              "      <td>두릅</td>\n",
              "      <td>140305</td>\n",
              "      <td>참두릅</td>\n",
              "      <td>1</td>\n",
              "      <td>0.5</td>\n",
              "      <td>120100</td>\n",
              "      <td>kg 상자</td>\n",
              "      <td>13</td>\n",
              "      <td>보통</td>\n",
              "      <td>6000</td>\n",
              "    </tr>\n",
              "  </tbody>\n",
              "</table>\n",
              "</div>\n",
              "      <button class=\"colab-df-convert\" onclick=\"convertToInteractive('df-4939e9db-5305-4883-a177-e9338d0aef71')\"\n",
              "              title=\"Convert this dataframe to an interactive table.\"\n",
              "              style=\"display:none;\">\n",
              "        \n",
              "  <svg xmlns=\"http://www.w3.org/2000/svg\" height=\"24px\"viewBox=\"0 0 24 24\"\n",
              "       width=\"24px\">\n",
              "    <path d=\"M0 0h24v24H0V0z\" fill=\"none\"/>\n",
              "    <path d=\"M18.56 5.44l.94 2.06.94-2.06 2.06-.94-2.06-.94-.94-2.06-.94 2.06-2.06.94zm-11 1L8.5 8.5l.94-2.06 2.06-.94-2.06-.94L8.5 2.5l-.94 2.06-2.06.94zm10 10l.94 2.06.94-2.06 2.06-.94-2.06-.94-.94-2.06-.94 2.06-2.06.94z\"/><path d=\"M17.41 7.96l-1.37-1.37c-.4-.4-.92-.59-1.43-.59-.52 0-1.04.2-1.43.59L10.3 9.45l-7.72 7.72c-.78.78-.78 2.05 0 2.83L4 21.41c.39.39.9.59 1.41.59.51 0 1.02-.2 1.41-.59l7.78-7.78 2.81-2.81c.8-.78.8-2.07 0-2.86zM5.41 20L4 18.59l7.72-7.72 1.47 1.35L5.41 20z\"/>\n",
              "  </svg>\n",
              "      </button>\n",
              "      \n",
              "  <style>\n",
              "    .colab-df-container {\n",
              "      display:flex;\n",
              "      flex-wrap:wrap;\n",
              "      gap: 12px;\n",
              "    }\n",
              "\n",
              "    .colab-df-convert {\n",
              "      background-color: #E8F0FE;\n",
              "      border: none;\n",
              "      border-radius: 50%;\n",
              "      cursor: pointer;\n",
              "      display: none;\n",
              "      fill: #1967D2;\n",
              "      height: 32px;\n",
              "      padding: 0 0 0 0;\n",
              "      width: 32px;\n",
              "    }\n",
              "\n",
              "    .colab-df-convert:hover {\n",
              "      background-color: #E2EBFA;\n",
              "      box-shadow: 0px 1px 2px rgba(60, 64, 67, 0.3), 0px 1px 3px 1px rgba(60, 64, 67, 0.15);\n",
              "      fill: #174EA6;\n",
              "    }\n",
              "\n",
              "    [theme=dark] .colab-df-convert {\n",
              "      background-color: #3B4455;\n",
              "      fill: #D2E3FC;\n",
              "    }\n",
              "\n",
              "    [theme=dark] .colab-df-convert:hover {\n",
              "      background-color: #434B5C;\n",
              "      box-shadow: 0px 1px 3px 1px rgba(0, 0, 0, 0.15);\n",
              "      filter: drop-shadow(0px 1px 2px rgba(0, 0, 0, 0.3));\n",
              "      fill: #FFFFFF;\n",
              "    }\n",
              "  </style>\n",
              "\n",
              "      <script>\n",
              "        const buttonEl =\n",
              "          document.querySelector('#df-4939e9db-5305-4883-a177-e9338d0aef71 button.colab-df-convert');\n",
              "        buttonEl.style.display =\n",
              "          google.colab.kernel.accessAllowed ? 'block' : 'none';\n",
              "\n",
              "        async function convertToInteractive(key) {\n",
              "          const element = document.querySelector('#df-4939e9db-5305-4883-a177-e9338d0aef71');\n",
              "          const dataTable =\n",
              "            await google.colab.kernel.invokeFunction('convertToInteractive',\n",
              "                                                     [key], {});\n",
              "          if (!dataTable) return;\n",
              "\n",
              "          const docLinkHtml = 'Like what you see? Visit the ' +\n",
              "            '<a target=\"_blank\" href=https://colab.research.google.com/notebooks/data_table.ipynb>data table notebook</a>'\n",
              "            + ' to learn more about interactive tables.';\n",
              "          element.innerHTML = '';\n",
              "          dataTable['output_type'] = 'display_data';\n",
              "          await google.colab.output.renderOutput(dataTable, element);\n",
              "          const docLink = document.createElement('div');\n",
              "          docLink.innerHTML = docLinkHtml;\n",
              "          element.appendChild(docLink);\n",
              "        }\n",
              "      </script>\n",
              "    </div>\n",
              "  </div>\n",
              "  "
            ]
          },
          "metadata": {},
          "execution_count": 100
        }
      ]
    },
    {
      "cell_type": "markdown",
      "source": [
        "> 다음으로 사용할 `column`으로 구성된 데이터 프레임을 구성합니다."
      ],
      "metadata": {
        "id": "4KMzRlO2WXJv"
      }
    },
    {
      "cell_type": "code",
      "source": [
        "target_columns = ['경락일', '도매시장', '품목', '세부품목', '거래단량', '거래량', '규격', '등급', '가격']"
      ],
      "metadata": {
        "id": "Dmaf3txJWaGg"
      },
      "execution_count": null,
      "outputs": []
    },
    {
      "cell_type": "code",
      "source": [
        "Forestry_df = Forestry_df[target_columns]"
      ],
      "metadata": {
        "id": "j7loaUL0j10D"
      },
      "execution_count": null,
      "outputs": []
    },
    {
      "cell_type": "code",
      "source": [
        "Forestry_df.head()"
      ],
      "metadata": {
        "colab": {
          "base_uri": "https://localhost:8080/",
          "height": 206
        },
        "id": "dgOYsvwrj_or",
        "outputId": "94d86de5-390e-4b9c-cf84-a80ec750e32c"
      },
      "execution_count": null,
      "outputs": [
        {
          "output_type": "execute_result",
          "data": {
            "text/plain": [
              "        경락일    도매시장    품목 세부품목  거래단량  거래량         규격   등급     가격\n",
              "0  20160102  익산도매시장  표고버섯   기타   4.0    7     kg 상자   무농약  37000\n",
              "1  20160102  부산엄궁도매  표고버섯  생표고   1.0    2  kg P-BOX    보통   4000\n",
              "2  20160102  부산엄궁도매  표고버섯  생표고   0.1  240  kg P-BOX    보통    260\n",
              "3  20160102  부산엄궁도매  표고버섯  생표고   0.1  190  kg P-BOX    보통    460\n",
              "4  20160102  부산엄궁도매  표고버섯  생표고   0.1  179  kg P-BOX    보통    280"
            ],
            "text/html": [
              "\n",
              "  <div id=\"df-865a1726-c61f-4788-be27-da42617011fb\">\n",
              "    <div class=\"colab-df-container\">\n",
              "      <div>\n",
              "<style scoped>\n",
              "    .dataframe tbody tr th:only-of-type {\n",
              "        vertical-align: middle;\n",
              "    }\n",
              "\n",
              "    .dataframe tbody tr th {\n",
              "        vertical-align: top;\n",
              "    }\n",
              "\n",
              "    .dataframe thead th {\n",
              "        text-align: right;\n",
              "    }\n",
              "</style>\n",
              "<table border=\"1\" class=\"dataframe\">\n",
              "  <thead>\n",
              "    <tr style=\"text-align: right;\">\n",
              "      <th></th>\n",
              "      <th>경락일</th>\n",
              "      <th>도매시장</th>\n",
              "      <th>품목</th>\n",
              "      <th>세부품목</th>\n",
              "      <th>거래단량</th>\n",
              "      <th>거래량</th>\n",
              "      <th>규격</th>\n",
              "      <th>등급</th>\n",
              "      <th>가격</th>\n",
              "    </tr>\n",
              "  </thead>\n",
              "  <tbody>\n",
              "    <tr>\n",
              "      <th>0</th>\n",
              "      <td>20160102</td>\n",
              "      <td>익산도매시장</td>\n",
              "      <td>표고버섯</td>\n",
              "      <td>기타</td>\n",
              "      <td>4.0</td>\n",
              "      <td>7</td>\n",
              "      <td>kg 상자</td>\n",
              "      <td>무농약</td>\n",
              "      <td>37000</td>\n",
              "    </tr>\n",
              "    <tr>\n",
              "      <th>1</th>\n",
              "      <td>20160102</td>\n",
              "      <td>부산엄궁도매</td>\n",
              "      <td>표고버섯</td>\n",
              "      <td>생표고</td>\n",
              "      <td>1.0</td>\n",
              "      <td>2</td>\n",
              "      <td>kg P-BOX</td>\n",
              "      <td>보통</td>\n",
              "      <td>4000</td>\n",
              "    </tr>\n",
              "    <tr>\n",
              "      <th>2</th>\n",
              "      <td>20160102</td>\n",
              "      <td>부산엄궁도매</td>\n",
              "      <td>표고버섯</td>\n",
              "      <td>생표고</td>\n",
              "      <td>0.1</td>\n",
              "      <td>240</td>\n",
              "      <td>kg P-BOX</td>\n",
              "      <td>보통</td>\n",
              "      <td>260</td>\n",
              "    </tr>\n",
              "    <tr>\n",
              "      <th>3</th>\n",
              "      <td>20160102</td>\n",
              "      <td>부산엄궁도매</td>\n",
              "      <td>표고버섯</td>\n",
              "      <td>생표고</td>\n",
              "      <td>0.1</td>\n",
              "      <td>190</td>\n",
              "      <td>kg P-BOX</td>\n",
              "      <td>보통</td>\n",
              "      <td>460</td>\n",
              "    </tr>\n",
              "    <tr>\n",
              "      <th>4</th>\n",
              "      <td>20160102</td>\n",
              "      <td>부산엄궁도매</td>\n",
              "      <td>표고버섯</td>\n",
              "      <td>생표고</td>\n",
              "      <td>0.1</td>\n",
              "      <td>179</td>\n",
              "      <td>kg P-BOX</td>\n",
              "      <td>보통</td>\n",
              "      <td>280</td>\n",
              "    </tr>\n",
              "  </tbody>\n",
              "</table>\n",
              "</div>\n",
              "      <button class=\"colab-df-convert\" onclick=\"convertToInteractive('df-865a1726-c61f-4788-be27-da42617011fb')\"\n",
              "              title=\"Convert this dataframe to an interactive table.\"\n",
              "              style=\"display:none;\">\n",
              "        \n",
              "  <svg xmlns=\"http://www.w3.org/2000/svg\" height=\"24px\"viewBox=\"0 0 24 24\"\n",
              "       width=\"24px\">\n",
              "    <path d=\"M0 0h24v24H0V0z\" fill=\"none\"/>\n",
              "    <path d=\"M18.56 5.44l.94 2.06.94-2.06 2.06-.94-2.06-.94-.94-2.06-.94 2.06-2.06.94zm-11 1L8.5 8.5l.94-2.06 2.06-.94-2.06-.94L8.5 2.5l-.94 2.06-2.06.94zm10 10l.94 2.06.94-2.06 2.06-.94-2.06-.94-.94-2.06-.94 2.06-2.06.94z\"/><path d=\"M17.41 7.96l-1.37-1.37c-.4-.4-.92-.59-1.43-.59-.52 0-1.04.2-1.43.59L10.3 9.45l-7.72 7.72c-.78.78-.78 2.05 0 2.83L4 21.41c.39.39.9.59 1.41.59.51 0 1.02-.2 1.41-.59l7.78-7.78 2.81-2.81c.8-.78.8-2.07 0-2.86zM5.41 20L4 18.59l7.72-7.72 1.47 1.35L5.41 20z\"/>\n",
              "  </svg>\n",
              "      </button>\n",
              "      \n",
              "  <style>\n",
              "    .colab-df-container {\n",
              "      display:flex;\n",
              "      flex-wrap:wrap;\n",
              "      gap: 12px;\n",
              "    }\n",
              "\n",
              "    .colab-df-convert {\n",
              "      background-color: #E8F0FE;\n",
              "      border: none;\n",
              "      border-radius: 50%;\n",
              "      cursor: pointer;\n",
              "      display: none;\n",
              "      fill: #1967D2;\n",
              "      height: 32px;\n",
              "      padding: 0 0 0 0;\n",
              "      width: 32px;\n",
              "    }\n",
              "\n",
              "    .colab-df-convert:hover {\n",
              "      background-color: #E2EBFA;\n",
              "      box-shadow: 0px 1px 2px rgba(60, 64, 67, 0.3), 0px 1px 3px 1px rgba(60, 64, 67, 0.15);\n",
              "      fill: #174EA6;\n",
              "    }\n",
              "\n",
              "    [theme=dark] .colab-df-convert {\n",
              "      background-color: #3B4455;\n",
              "      fill: #D2E3FC;\n",
              "    }\n",
              "\n",
              "    [theme=dark] .colab-df-convert:hover {\n",
              "      background-color: #434B5C;\n",
              "      box-shadow: 0px 1px 3px 1px rgba(0, 0, 0, 0.15);\n",
              "      filter: drop-shadow(0px 1px 2px rgba(0, 0, 0, 0.3));\n",
              "      fill: #FFFFFF;\n",
              "    }\n",
              "  </style>\n",
              "\n",
              "      <script>\n",
              "        const buttonEl =\n",
              "          document.querySelector('#df-865a1726-c61f-4788-be27-da42617011fb button.colab-df-convert');\n",
              "        buttonEl.style.display =\n",
              "          google.colab.kernel.accessAllowed ? 'block' : 'none';\n",
              "\n",
              "        async function convertToInteractive(key) {\n",
              "          const element = document.querySelector('#df-865a1726-c61f-4788-be27-da42617011fb');\n",
              "          const dataTable =\n",
              "            await google.colab.kernel.invokeFunction('convertToInteractive',\n",
              "                                                     [key], {});\n",
              "          if (!dataTable) return;\n",
              "\n",
              "          const docLinkHtml = 'Like what you see? Visit the ' +\n",
              "            '<a target=\"_blank\" href=https://colab.research.google.com/notebooks/data_table.ipynb>data table notebook</a>'\n",
              "            + ' to learn more about interactive tables.';\n",
              "          element.innerHTML = '';\n",
              "          dataTable['output_type'] = 'display_data';\n",
              "          await google.colab.output.renderOutput(dataTable, element);\n",
              "          const docLink = document.createElement('div');\n",
              "          docLink.innerHTML = docLinkHtml;\n",
              "          element.appendChild(docLink);\n",
              "        }\n",
              "      </script>\n",
              "    </div>\n",
              "  </div>\n",
              "  "
            ]
          },
          "metadata": {},
          "execution_count": 103
        }
      ]
    },
    {
      "cell_type": "markdown",
      "source": [
        "> 본 프로젝트에서 사용하고자 하는 데이터는 복분자에 관련된 데이터이므로 품목이 복분자인 데이터만 선택해 데이터 프레임을 생성합니다.\n",
        ">\n",
        ">> 생산지에서 생산된 복분자는 비단 전라북도 지역뿐만 아니라 전국적으로 거래될 것이라고 판단하므로 도매시장을 필터링할 필요는 없다고 생각했습니다."
      ],
      "metadata": {
        "id": "ZxbAwHMSkD-A"
      }
    },
    {
      "cell_type": "code",
      "source": [
        "korean_black_raspberry_df = Forestry_df[Forestry_df['품목']==\"복분자\"]"
      ],
      "metadata": {
        "id": "pSkN5MdEkpbL"
      },
      "execution_count": null,
      "outputs": []
    },
    {
      "cell_type": "code",
      "source": [
        "korean_black_raspberry_df.head()"
      ],
      "metadata": {
        "colab": {
          "base_uri": "https://localhost:8080/",
          "height": 206
        },
        "id": "2BFjvh_olJot",
        "outputId": "1da2d037-e8b0-4547-d9fb-6c7372421cc3"
      },
      "execution_count": null,
      "outputs": [
        {
          "output_type": "execute_result",
          "data": {
            "text/plain": [
              "             경락일    도매시장   품목     세부품목  거래단량  거래량     규격 등급     가격\n",
              "552457  20160426  부산반여도매  복분자  복분자(일반)   1.0    1  kg     특  10000\n",
              "560385  20160427  부산반여도매  복분자  복분자(일반)   1.0    1  kg     특   9000\n",
              "573904  20160429  부산반여도매  복분자  복분자(일반)   1.0    3  kg     특  10200\n",
              "590930  20160502  부산반여도매  복분자  복분자(일반)   1.0   10  kg     특  11500\n",
              "603463  20160504  부산반여도매  복분자  복분자(일반)   1.0   10  kg     특  11700"
            ],
            "text/html": [
              "\n",
              "  <div id=\"df-17463776-6cf9-4789-ba9c-162b0eca80bd\">\n",
              "    <div class=\"colab-df-container\">\n",
              "      <div>\n",
              "<style scoped>\n",
              "    .dataframe tbody tr th:only-of-type {\n",
              "        vertical-align: middle;\n",
              "    }\n",
              "\n",
              "    .dataframe tbody tr th {\n",
              "        vertical-align: top;\n",
              "    }\n",
              "\n",
              "    .dataframe thead th {\n",
              "        text-align: right;\n",
              "    }\n",
              "</style>\n",
              "<table border=\"1\" class=\"dataframe\">\n",
              "  <thead>\n",
              "    <tr style=\"text-align: right;\">\n",
              "      <th></th>\n",
              "      <th>경락일</th>\n",
              "      <th>도매시장</th>\n",
              "      <th>품목</th>\n",
              "      <th>세부품목</th>\n",
              "      <th>거래단량</th>\n",
              "      <th>거래량</th>\n",
              "      <th>규격</th>\n",
              "      <th>등급</th>\n",
              "      <th>가격</th>\n",
              "    </tr>\n",
              "  </thead>\n",
              "  <tbody>\n",
              "    <tr>\n",
              "      <th>552457</th>\n",
              "      <td>20160426</td>\n",
              "      <td>부산반여도매</td>\n",
              "      <td>복분자</td>\n",
              "      <td>복분자(일반)</td>\n",
              "      <td>1.0</td>\n",
              "      <td>1</td>\n",
              "      <td>kg</td>\n",
              "      <td>특</td>\n",
              "      <td>10000</td>\n",
              "    </tr>\n",
              "    <tr>\n",
              "      <th>560385</th>\n",
              "      <td>20160427</td>\n",
              "      <td>부산반여도매</td>\n",
              "      <td>복분자</td>\n",
              "      <td>복분자(일반)</td>\n",
              "      <td>1.0</td>\n",
              "      <td>1</td>\n",
              "      <td>kg</td>\n",
              "      <td>특</td>\n",
              "      <td>9000</td>\n",
              "    </tr>\n",
              "    <tr>\n",
              "      <th>573904</th>\n",
              "      <td>20160429</td>\n",
              "      <td>부산반여도매</td>\n",
              "      <td>복분자</td>\n",
              "      <td>복분자(일반)</td>\n",
              "      <td>1.0</td>\n",
              "      <td>3</td>\n",
              "      <td>kg</td>\n",
              "      <td>특</td>\n",
              "      <td>10200</td>\n",
              "    </tr>\n",
              "    <tr>\n",
              "      <th>590930</th>\n",
              "      <td>20160502</td>\n",
              "      <td>부산반여도매</td>\n",
              "      <td>복분자</td>\n",
              "      <td>복분자(일반)</td>\n",
              "      <td>1.0</td>\n",
              "      <td>10</td>\n",
              "      <td>kg</td>\n",
              "      <td>특</td>\n",
              "      <td>11500</td>\n",
              "    </tr>\n",
              "    <tr>\n",
              "      <th>603463</th>\n",
              "      <td>20160504</td>\n",
              "      <td>부산반여도매</td>\n",
              "      <td>복분자</td>\n",
              "      <td>복분자(일반)</td>\n",
              "      <td>1.0</td>\n",
              "      <td>10</td>\n",
              "      <td>kg</td>\n",
              "      <td>특</td>\n",
              "      <td>11700</td>\n",
              "    </tr>\n",
              "  </tbody>\n",
              "</table>\n",
              "</div>\n",
              "      <button class=\"colab-df-convert\" onclick=\"convertToInteractive('df-17463776-6cf9-4789-ba9c-162b0eca80bd')\"\n",
              "              title=\"Convert this dataframe to an interactive table.\"\n",
              "              style=\"display:none;\">\n",
              "        \n",
              "  <svg xmlns=\"http://www.w3.org/2000/svg\" height=\"24px\"viewBox=\"0 0 24 24\"\n",
              "       width=\"24px\">\n",
              "    <path d=\"M0 0h24v24H0V0z\" fill=\"none\"/>\n",
              "    <path d=\"M18.56 5.44l.94 2.06.94-2.06 2.06-.94-2.06-.94-.94-2.06-.94 2.06-2.06.94zm-11 1L8.5 8.5l.94-2.06 2.06-.94-2.06-.94L8.5 2.5l-.94 2.06-2.06.94zm10 10l.94 2.06.94-2.06 2.06-.94-2.06-.94-.94-2.06-.94 2.06-2.06.94z\"/><path d=\"M17.41 7.96l-1.37-1.37c-.4-.4-.92-.59-1.43-.59-.52 0-1.04.2-1.43.59L10.3 9.45l-7.72 7.72c-.78.78-.78 2.05 0 2.83L4 21.41c.39.39.9.59 1.41.59.51 0 1.02-.2 1.41-.59l7.78-7.78 2.81-2.81c.8-.78.8-2.07 0-2.86zM5.41 20L4 18.59l7.72-7.72 1.47 1.35L5.41 20z\"/>\n",
              "  </svg>\n",
              "      </button>\n",
              "      \n",
              "  <style>\n",
              "    .colab-df-container {\n",
              "      display:flex;\n",
              "      flex-wrap:wrap;\n",
              "      gap: 12px;\n",
              "    }\n",
              "\n",
              "    .colab-df-convert {\n",
              "      background-color: #E8F0FE;\n",
              "      border: none;\n",
              "      border-radius: 50%;\n",
              "      cursor: pointer;\n",
              "      display: none;\n",
              "      fill: #1967D2;\n",
              "      height: 32px;\n",
              "      padding: 0 0 0 0;\n",
              "      width: 32px;\n",
              "    }\n",
              "\n",
              "    .colab-df-convert:hover {\n",
              "      background-color: #E2EBFA;\n",
              "      box-shadow: 0px 1px 2px rgba(60, 64, 67, 0.3), 0px 1px 3px 1px rgba(60, 64, 67, 0.15);\n",
              "      fill: #174EA6;\n",
              "    }\n",
              "\n",
              "    [theme=dark] .colab-df-convert {\n",
              "      background-color: #3B4455;\n",
              "      fill: #D2E3FC;\n",
              "    }\n",
              "\n",
              "    [theme=dark] .colab-df-convert:hover {\n",
              "      background-color: #434B5C;\n",
              "      box-shadow: 0px 1px 3px 1px rgba(0, 0, 0, 0.15);\n",
              "      filter: drop-shadow(0px 1px 2px rgba(0, 0, 0, 0.3));\n",
              "      fill: #FFFFFF;\n",
              "    }\n",
              "  </style>\n",
              "\n",
              "      <script>\n",
              "        const buttonEl =\n",
              "          document.querySelector('#df-17463776-6cf9-4789-ba9c-162b0eca80bd button.colab-df-convert');\n",
              "        buttonEl.style.display =\n",
              "          google.colab.kernel.accessAllowed ? 'block' : 'none';\n",
              "\n",
              "        async function convertToInteractive(key) {\n",
              "          const element = document.querySelector('#df-17463776-6cf9-4789-ba9c-162b0eca80bd');\n",
              "          const dataTable =\n",
              "            await google.colab.kernel.invokeFunction('convertToInteractive',\n",
              "                                                     [key], {});\n",
              "          if (!dataTable) return;\n",
              "\n",
              "          const docLinkHtml = 'Like what you see? Visit the ' +\n",
              "            '<a target=\"_blank\" href=https://colab.research.google.com/notebooks/data_table.ipynb>data table notebook</a>'\n",
              "            + ' to learn more about interactive tables.';\n",
              "          element.innerHTML = '';\n",
              "          dataTable['output_type'] = 'display_data';\n",
              "          await google.colab.output.renderOutput(dataTable, element);\n",
              "          const docLink = document.createElement('div');\n",
              "          docLink.innerHTML = docLinkHtml;\n",
              "          element.appendChild(docLink);\n",
              "        }\n",
              "      </script>\n",
              "    </div>\n",
              "  </div>\n",
              "  "
            ]
          },
          "metadata": {},
          "execution_count": 105
        }
      ]
    },
    {
      "cell_type": "markdown",
      "source": [
        "> `규격`의 경우 추후 계산을 위해 동일한 문자열로 구성되어있는지 확인할 필요가 있습니다."
      ],
      "metadata": {
        "id": "4DK67_lJlMnG"
      }
    },
    {
      "cell_type": "code",
      "source": [
        "korean_black_raspberry_df['규격'].unique()"
      ],
      "metadata": {
        "colab": {
          "base_uri": "https://localhost:8080/"
        },
        "id": "dVbceUF-lXER",
        "outputId": "e53b8bc5-a29e-4847-96a7-0a8c1fefb80c"
      },
      "execution_count": null,
      "outputs": [
        {
          "output_type": "execute_result",
          "data": {
            "text/plain": [
              "array(['kg   ', 'kg 상자 ', 'kg 개 ', 'kg 접시용기 트레이 ', 'kg 상자 1개',\n",
              "       'kg P-BOX ', 'kg   1개', 'g P-BOX ', 'kg 상자 11개', 'kg 그물망 ',\n",
              "       'kg PE대 ', 'g 단 ', 'kg 파렛트 ', 'kg 상자 50내'], dtype=object)"
            ]
          },
          "metadata": {},
          "execution_count": 106
        }
      ]
    },
    {
      "cell_type": "markdown",
      "source": [
        "> 하지만 이처럼 다양한 규격 표기법이 있음을 발견할 수 있습니다.\n",
        ">\n",
        "> 잘 살펴보면 kg이 포함된 문자열 또는 g이 포함된 문자열로 구성되어 있음을 알 수 있습니다.\n",
        "> \n",
        "> 따라서 kg을 포함한 문자열이라면 kg으로 변환해주고 아니라면 g으로 변환해줍니다."
      ],
      "metadata": {
        "id": "ACGHV86wlbbj"
      }
    },
    {
      "cell_type": "code",
      "source": [
        "new_standard_representations = ['kg' if 'kg' in rep else 'g' for rep in korean_black_raspberry_df['규격']]\n",
        "korean_black_raspberry_df.loc[:, '규격'] = new_standard_representations"
      ],
      "metadata": {
        "id": "Cg4L2ZI8lsP0"
      },
      "execution_count": null,
      "outputs": []
    },
    {
      "cell_type": "code",
      "source": [
        "korean_black_raspberry_df['규격'].unique()"
      ],
      "metadata": {
        "colab": {
          "base_uri": "https://localhost:8080/"
        },
        "id": "rXd_NPMKnfqe",
        "outputId": "16eb0b01-7760-473e-8d22-e978573f8ebf"
      },
      "execution_count": null,
      "outputs": [
        {
          "output_type": "execute_result",
          "data": {
            "text/plain": [
              "array(['kg', 'g'], dtype=object)"
            ]
          },
          "metadata": {},
          "execution_count": 108
        }
      ]
    },
    {
      "cell_type": "code",
      "source": [
        "korean_black_raspberry_df.head()"
      ],
      "metadata": {
        "colab": {
          "base_uri": "https://localhost:8080/",
          "height": 206
        },
        "id": "dj6e_2-lmqqf",
        "outputId": "2b78f893-1aed-45d7-916a-6426974a04a6"
      },
      "execution_count": null,
      "outputs": [
        {
          "output_type": "execute_result",
          "data": {
            "text/plain": [
              "             경락일    도매시장   품목     세부품목  거래단량  거래량  규격 등급     가격\n",
              "552457  20160426  부산반여도매  복분자  복분자(일반)   1.0    1  kg  특  10000\n",
              "560385  20160427  부산반여도매  복분자  복분자(일반)   1.0    1  kg  특   9000\n",
              "573904  20160429  부산반여도매  복분자  복분자(일반)   1.0    3  kg  특  10200\n",
              "590930  20160502  부산반여도매  복분자  복분자(일반)   1.0   10  kg  특  11500\n",
              "603463  20160504  부산반여도매  복분자  복분자(일반)   1.0   10  kg  특  11700"
            ],
            "text/html": [
              "\n",
              "  <div id=\"df-2bd4045d-68b2-495a-8f7a-49de6a483c9b\">\n",
              "    <div class=\"colab-df-container\">\n",
              "      <div>\n",
              "<style scoped>\n",
              "    .dataframe tbody tr th:only-of-type {\n",
              "        vertical-align: middle;\n",
              "    }\n",
              "\n",
              "    .dataframe tbody tr th {\n",
              "        vertical-align: top;\n",
              "    }\n",
              "\n",
              "    .dataframe thead th {\n",
              "        text-align: right;\n",
              "    }\n",
              "</style>\n",
              "<table border=\"1\" class=\"dataframe\">\n",
              "  <thead>\n",
              "    <tr style=\"text-align: right;\">\n",
              "      <th></th>\n",
              "      <th>경락일</th>\n",
              "      <th>도매시장</th>\n",
              "      <th>품목</th>\n",
              "      <th>세부품목</th>\n",
              "      <th>거래단량</th>\n",
              "      <th>거래량</th>\n",
              "      <th>규격</th>\n",
              "      <th>등급</th>\n",
              "      <th>가격</th>\n",
              "    </tr>\n",
              "  </thead>\n",
              "  <tbody>\n",
              "    <tr>\n",
              "      <th>552457</th>\n",
              "      <td>20160426</td>\n",
              "      <td>부산반여도매</td>\n",
              "      <td>복분자</td>\n",
              "      <td>복분자(일반)</td>\n",
              "      <td>1.0</td>\n",
              "      <td>1</td>\n",
              "      <td>kg</td>\n",
              "      <td>특</td>\n",
              "      <td>10000</td>\n",
              "    </tr>\n",
              "    <tr>\n",
              "      <th>560385</th>\n",
              "      <td>20160427</td>\n",
              "      <td>부산반여도매</td>\n",
              "      <td>복분자</td>\n",
              "      <td>복분자(일반)</td>\n",
              "      <td>1.0</td>\n",
              "      <td>1</td>\n",
              "      <td>kg</td>\n",
              "      <td>특</td>\n",
              "      <td>9000</td>\n",
              "    </tr>\n",
              "    <tr>\n",
              "      <th>573904</th>\n",
              "      <td>20160429</td>\n",
              "      <td>부산반여도매</td>\n",
              "      <td>복분자</td>\n",
              "      <td>복분자(일반)</td>\n",
              "      <td>1.0</td>\n",
              "      <td>3</td>\n",
              "      <td>kg</td>\n",
              "      <td>특</td>\n",
              "      <td>10200</td>\n",
              "    </tr>\n",
              "    <tr>\n",
              "      <th>590930</th>\n",
              "      <td>20160502</td>\n",
              "      <td>부산반여도매</td>\n",
              "      <td>복분자</td>\n",
              "      <td>복분자(일반)</td>\n",
              "      <td>1.0</td>\n",
              "      <td>10</td>\n",
              "      <td>kg</td>\n",
              "      <td>특</td>\n",
              "      <td>11500</td>\n",
              "    </tr>\n",
              "    <tr>\n",
              "      <th>603463</th>\n",
              "      <td>20160504</td>\n",
              "      <td>부산반여도매</td>\n",
              "      <td>복분자</td>\n",
              "      <td>복분자(일반)</td>\n",
              "      <td>1.0</td>\n",
              "      <td>10</td>\n",
              "      <td>kg</td>\n",
              "      <td>특</td>\n",
              "      <td>11700</td>\n",
              "    </tr>\n",
              "  </tbody>\n",
              "</table>\n",
              "</div>\n",
              "      <button class=\"colab-df-convert\" onclick=\"convertToInteractive('df-2bd4045d-68b2-495a-8f7a-49de6a483c9b')\"\n",
              "              title=\"Convert this dataframe to an interactive table.\"\n",
              "              style=\"display:none;\">\n",
              "        \n",
              "  <svg xmlns=\"http://www.w3.org/2000/svg\" height=\"24px\"viewBox=\"0 0 24 24\"\n",
              "       width=\"24px\">\n",
              "    <path d=\"M0 0h24v24H0V0z\" fill=\"none\"/>\n",
              "    <path d=\"M18.56 5.44l.94 2.06.94-2.06 2.06-.94-2.06-.94-.94-2.06-.94 2.06-2.06.94zm-11 1L8.5 8.5l.94-2.06 2.06-.94-2.06-.94L8.5 2.5l-.94 2.06-2.06.94zm10 10l.94 2.06.94-2.06 2.06-.94-2.06-.94-.94-2.06-.94 2.06-2.06.94z\"/><path d=\"M17.41 7.96l-1.37-1.37c-.4-.4-.92-.59-1.43-.59-.52 0-1.04.2-1.43.59L10.3 9.45l-7.72 7.72c-.78.78-.78 2.05 0 2.83L4 21.41c.39.39.9.59 1.41.59.51 0 1.02-.2 1.41-.59l7.78-7.78 2.81-2.81c.8-.78.8-2.07 0-2.86zM5.41 20L4 18.59l7.72-7.72 1.47 1.35L5.41 20z\"/>\n",
              "  </svg>\n",
              "      </button>\n",
              "      \n",
              "  <style>\n",
              "    .colab-df-container {\n",
              "      display:flex;\n",
              "      flex-wrap:wrap;\n",
              "      gap: 12px;\n",
              "    }\n",
              "\n",
              "    .colab-df-convert {\n",
              "      background-color: #E8F0FE;\n",
              "      border: none;\n",
              "      border-radius: 50%;\n",
              "      cursor: pointer;\n",
              "      display: none;\n",
              "      fill: #1967D2;\n",
              "      height: 32px;\n",
              "      padding: 0 0 0 0;\n",
              "      width: 32px;\n",
              "    }\n",
              "\n",
              "    .colab-df-convert:hover {\n",
              "      background-color: #E2EBFA;\n",
              "      box-shadow: 0px 1px 2px rgba(60, 64, 67, 0.3), 0px 1px 3px 1px rgba(60, 64, 67, 0.15);\n",
              "      fill: #174EA6;\n",
              "    }\n",
              "\n",
              "    [theme=dark] .colab-df-convert {\n",
              "      background-color: #3B4455;\n",
              "      fill: #D2E3FC;\n",
              "    }\n",
              "\n",
              "    [theme=dark] .colab-df-convert:hover {\n",
              "      background-color: #434B5C;\n",
              "      box-shadow: 0px 1px 3px 1px rgba(0, 0, 0, 0.15);\n",
              "      filter: drop-shadow(0px 1px 2px rgba(0, 0, 0, 0.3));\n",
              "      fill: #FFFFFF;\n",
              "    }\n",
              "  </style>\n",
              "\n",
              "      <script>\n",
              "        const buttonEl =\n",
              "          document.querySelector('#df-2bd4045d-68b2-495a-8f7a-49de6a483c9b button.colab-df-convert');\n",
              "        buttonEl.style.display =\n",
              "          google.colab.kernel.accessAllowed ? 'block' : 'none';\n",
              "\n",
              "        async function convertToInteractive(key) {\n",
              "          const element = document.querySelector('#df-2bd4045d-68b2-495a-8f7a-49de6a483c9b');\n",
              "          const dataTable =\n",
              "            await google.colab.kernel.invokeFunction('convertToInteractive',\n",
              "                                                     [key], {});\n",
              "          if (!dataTable) return;\n",
              "\n",
              "          const docLinkHtml = 'Like what you see? Visit the ' +\n",
              "            '<a target=\"_blank\" href=https://colab.research.google.com/notebooks/data_table.ipynb>data table notebook</a>'\n",
              "            + ' to learn more about interactive tables.';\n",
              "          element.innerHTML = '';\n",
              "          dataTable['output_type'] = 'display_data';\n",
              "          await google.colab.output.renderOutput(dataTable, element);\n",
              "          const docLink = document.createElement('div');\n",
              "          docLink.innerHTML = docLinkHtml;\n",
              "          element.appendChild(docLink);\n",
              "        }\n",
              "      </script>\n",
              "    </div>\n",
              "  </div>\n",
              "  "
            ]
          },
          "metadata": {},
          "execution_count": 109
        }
      ]
    },
    {
      "cell_type": "markdown",
      "source": [
        "> 복분자만 가져와 인덱스가 섞였으므로 인덱스를 초기화시켜줍니다."
      ],
      "metadata": {
        "id": "GbWHPreGotou"
      }
    },
    {
      "cell_type": "code",
      "source": [
        "korean_black_raspberry_df = korean_black_raspberry_df.reset_index(drop=True)"
      ],
      "metadata": {
        "id": "M6Fkzy8MoznW"
      },
      "execution_count": null,
      "outputs": []
    },
    {
      "cell_type": "code",
      "source": [
        "korean_black_raspberry_df.head()"
      ],
      "metadata": {
        "colab": {
          "base_uri": "https://localhost:8080/",
          "height": 206
        },
        "id": "OtRpmlvVo76K",
        "outputId": "16546078-c5c5-4acd-ca40-53eece2b24e5"
      },
      "execution_count": null,
      "outputs": [
        {
          "output_type": "execute_result",
          "data": {
            "text/plain": [
              "        경락일    도매시장   품목     세부품목  거래단량  거래량  규격 등급     가격\n",
              "0  20160426  부산반여도매  복분자  복분자(일반)   1.0    1  kg  특  10000\n",
              "1  20160427  부산반여도매  복분자  복분자(일반)   1.0    1  kg  특   9000\n",
              "2  20160429  부산반여도매  복분자  복분자(일반)   1.0    3  kg  특  10200\n",
              "3  20160502  부산반여도매  복분자  복분자(일반)   1.0   10  kg  특  11500\n",
              "4  20160504  부산반여도매  복분자  복분자(일반)   1.0   10  kg  특  11700"
            ],
            "text/html": [
              "\n",
              "  <div id=\"df-cfe6b0b7-7414-49ec-8f38-6e65a9695562\">\n",
              "    <div class=\"colab-df-container\">\n",
              "      <div>\n",
              "<style scoped>\n",
              "    .dataframe tbody tr th:only-of-type {\n",
              "        vertical-align: middle;\n",
              "    }\n",
              "\n",
              "    .dataframe tbody tr th {\n",
              "        vertical-align: top;\n",
              "    }\n",
              "\n",
              "    .dataframe thead th {\n",
              "        text-align: right;\n",
              "    }\n",
              "</style>\n",
              "<table border=\"1\" class=\"dataframe\">\n",
              "  <thead>\n",
              "    <tr style=\"text-align: right;\">\n",
              "      <th></th>\n",
              "      <th>경락일</th>\n",
              "      <th>도매시장</th>\n",
              "      <th>품목</th>\n",
              "      <th>세부품목</th>\n",
              "      <th>거래단량</th>\n",
              "      <th>거래량</th>\n",
              "      <th>규격</th>\n",
              "      <th>등급</th>\n",
              "      <th>가격</th>\n",
              "    </tr>\n",
              "  </thead>\n",
              "  <tbody>\n",
              "    <tr>\n",
              "      <th>0</th>\n",
              "      <td>20160426</td>\n",
              "      <td>부산반여도매</td>\n",
              "      <td>복분자</td>\n",
              "      <td>복분자(일반)</td>\n",
              "      <td>1.0</td>\n",
              "      <td>1</td>\n",
              "      <td>kg</td>\n",
              "      <td>특</td>\n",
              "      <td>10000</td>\n",
              "    </tr>\n",
              "    <tr>\n",
              "      <th>1</th>\n",
              "      <td>20160427</td>\n",
              "      <td>부산반여도매</td>\n",
              "      <td>복분자</td>\n",
              "      <td>복분자(일반)</td>\n",
              "      <td>1.0</td>\n",
              "      <td>1</td>\n",
              "      <td>kg</td>\n",
              "      <td>특</td>\n",
              "      <td>9000</td>\n",
              "    </tr>\n",
              "    <tr>\n",
              "      <th>2</th>\n",
              "      <td>20160429</td>\n",
              "      <td>부산반여도매</td>\n",
              "      <td>복분자</td>\n",
              "      <td>복분자(일반)</td>\n",
              "      <td>1.0</td>\n",
              "      <td>3</td>\n",
              "      <td>kg</td>\n",
              "      <td>특</td>\n",
              "      <td>10200</td>\n",
              "    </tr>\n",
              "    <tr>\n",
              "      <th>3</th>\n",
              "      <td>20160502</td>\n",
              "      <td>부산반여도매</td>\n",
              "      <td>복분자</td>\n",
              "      <td>복분자(일반)</td>\n",
              "      <td>1.0</td>\n",
              "      <td>10</td>\n",
              "      <td>kg</td>\n",
              "      <td>특</td>\n",
              "      <td>11500</td>\n",
              "    </tr>\n",
              "    <tr>\n",
              "      <th>4</th>\n",
              "      <td>20160504</td>\n",
              "      <td>부산반여도매</td>\n",
              "      <td>복분자</td>\n",
              "      <td>복분자(일반)</td>\n",
              "      <td>1.0</td>\n",
              "      <td>10</td>\n",
              "      <td>kg</td>\n",
              "      <td>특</td>\n",
              "      <td>11700</td>\n",
              "    </tr>\n",
              "  </tbody>\n",
              "</table>\n",
              "</div>\n",
              "      <button class=\"colab-df-convert\" onclick=\"convertToInteractive('df-cfe6b0b7-7414-49ec-8f38-6e65a9695562')\"\n",
              "              title=\"Convert this dataframe to an interactive table.\"\n",
              "              style=\"display:none;\">\n",
              "        \n",
              "  <svg xmlns=\"http://www.w3.org/2000/svg\" height=\"24px\"viewBox=\"0 0 24 24\"\n",
              "       width=\"24px\">\n",
              "    <path d=\"M0 0h24v24H0V0z\" fill=\"none\"/>\n",
              "    <path d=\"M18.56 5.44l.94 2.06.94-2.06 2.06-.94-2.06-.94-.94-2.06-.94 2.06-2.06.94zm-11 1L8.5 8.5l.94-2.06 2.06-.94-2.06-.94L8.5 2.5l-.94 2.06-2.06.94zm10 10l.94 2.06.94-2.06 2.06-.94-2.06-.94-.94-2.06-.94 2.06-2.06.94z\"/><path d=\"M17.41 7.96l-1.37-1.37c-.4-.4-.92-.59-1.43-.59-.52 0-1.04.2-1.43.59L10.3 9.45l-7.72 7.72c-.78.78-.78 2.05 0 2.83L4 21.41c.39.39.9.59 1.41.59.51 0 1.02-.2 1.41-.59l7.78-7.78 2.81-2.81c.8-.78.8-2.07 0-2.86zM5.41 20L4 18.59l7.72-7.72 1.47 1.35L5.41 20z\"/>\n",
              "  </svg>\n",
              "      </button>\n",
              "      \n",
              "  <style>\n",
              "    .colab-df-container {\n",
              "      display:flex;\n",
              "      flex-wrap:wrap;\n",
              "      gap: 12px;\n",
              "    }\n",
              "\n",
              "    .colab-df-convert {\n",
              "      background-color: #E8F0FE;\n",
              "      border: none;\n",
              "      border-radius: 50%;\n",
              "      cursor: pointer;\n",
              "      display: none;\n",
              "      fill: #1967D2;\n",
              "      height: 32px;\n",
              "      padding: 0 0 0 0;\n",
              "      width: 32px;\n",
              "    }\n",
              "\n",
              "    .colab-df-convert:hover {\n",
              "      background-color: #E2EBFA;\n",
              "      box-shadow: 0px 1px 2px rgba(60, 64, 67, 0.3), 0px 1px 3px 1px rgba(60, 64, 67, 0.15);\n",
              "      fill: #174EA6;\n",
              "    }\n",
              "\n",
              "    [theme=dark] .colab-df-convert {\n",
              "      background-color: #3B4455;\n",
              "      fill: #D2E3FC;\n",
              "    }\n",
              "\n",
              "    [theme=dark] .colab-df-convert:hover {\n",
              "      background-color: #434B5C;\n",
              "      box-shadow: 0px 1px 3px 1px rgba(0, 0, 0, 0.15);\n",
              "      filter: drop-shadow(0px 1px 2px rgba(0, 0, 0, 0.3));\n",
              "      fill: #FFFFFF;\n",
              "    }\n",
              "  </style>\n",
              "\n",
              "      <script>\n",
              "        const buttonEl =\n",
              "          document.querySelector('#df-cfe6b0b7-7414-49ec-8f38-6e65a9695562 button.colab-df-convert');\n",
              "        buttonEl.style.display =\n",
              "          google.colab.kernel.accessAllowed ? 'block' : 'none';\n",
              "\n",
              "        async function convertToInteractive(key) {\n",
              "          const element = document.querySelector('#df-cfe6b0b7-7414-49ec-8f38-6e65a9695562');\n",
              "          const dataTable =\n",
              "            await google.colab.kernel.invokeFunction('convertToInteractive',\n",
              "                                                     [key], {});\n",
              "          if (!dataTable) return;\n",
              "\n",
              "          const docLinkHtml = 'Like what you see? Visit the ' +\n",
              "            '<a target=\"_blank\" href=https://colab.research.google.com/notebooks/data_table.ipynb>data table notebook</a>'\n",
              "            + ' to learn more about interactive tables.';\n",
              "          element.innerHTML = '';\n",
              "          dataTable['output_type'] = 'display_data';\n",
              "          await google.colab.output.renderOutput(dataTable, element);\n",
              "          const docLink = document.createElement('div');\n",
              "          docLink.innerHTML = docLinkHtml;\n",
              "          element.appendChild(docLink);\n",
              "        }\n",
              "      </script>\n",
              "    </div>\n",
              "  </div>\n",
              "  "
            ]
          },
          "metadata": {},
          "execution_count": 111
        }
      ]
    },
    {
      "cell_type": "markdown",
      "source": [
        "> 마지막으로 만들어진 복분자 데이터 프레임을 csv로 저장합니다."
      ],
      "metadata": {
        "id": "5PLDIkvSniLx"
      }
    },
    {
      "cell_type": "code",
      "source": [
        "korean_black_raspberry_df.to_csv('복분자_가격_데이터.csv', encoding='cp949')"
      ],
      "metadata": {
        "id": "f8U8g1DmnpkU"
      },
      "execution_count": null,
      "outputs": []
    },
    {
      "cell_type": "markdown",
      "source": [
        "## 이상으로 전처리 과정을 마쳤습니다!\n",
        "> [데이터 분석 노트북](https://colab.research.google.com/drive/1yp1nZzreOTXOF0Rf5oVQhH89Ut6crOTw?usp=sharing)으로 이어집니다.\n",
        ">\n",
        "> 소중한 시간 내어주셔서 감사합니다.😄\n"
      ],
      "metadata": {
        "id": "4iO_8HtZoMMt"
      }
    }
  ]
}