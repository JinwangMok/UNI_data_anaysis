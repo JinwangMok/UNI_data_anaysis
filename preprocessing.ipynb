{
  "nbformat": 4,
  "nbformat_minor": 0,
  "metadata": {
    "colab": {
      "name": "preprocessing.ipynb",
      "provenance": [],
      "collapsed_sections": [],
      "authorship_tag": "ABX9TyOaEpcWQNwm1usBjvQnWpL2",
      "include_colab_link": true
    },
    "kernelspec": {
      "name": "python3",
      "display_name": "Python 3"
    },
    "language_info": {
      "name": "python"
    }
  },
  "cells": [
    {
      "cell_type": "markdown",
      "metadata": {
        "id": "view-in-github",
        "colab_type": "text"
      },
      "source": [
        "<a href=\"https://colab.research.google.com/github/JinwangMok/UNI_data_anaysis/blob/main/preprocessing.ipynb\" target=\"_parent\"><img src=\"https://colab.research.google.com/assets/colab-badge.svg\" alt=\"Open In Colab\"/></a>"
      ]
    },
    {
      "cell_type": "markdown",
      "source": [
        "# 📘 Preprocessing.ipynb\n",
        "\n",
        ">## Information\n",
        ">\n",
        ">> Semester : `2022년 1학기`\n",
        ">>\n",
        ">> Class : `데이터 분석 이론 및 실습`\n",
        ">>\n",
        ">> Team : `장바구니`\n",
        ">>\n",
        ">> Author : `목진왕`\n"
      ],
      "metadata": {
        "id": "TItzGut1yklm"
      }
    },
    {
      "cell_type": "markdown",
      "source": [
        "```\n",
        "본 노트북은 데이터 분석에 앞서 원본 데이터를 가공하는 전처리(preprocessing) 단계에 대한 내용입니다.\n",
        "```"
      ],
      "metadata": {
        "id": "IHO2Kq1z0F_s"
      }
    },
    {
      "cell_type": "markdown",
      "source": [
        "> ## Preview\n",
        "> \n",
        ">> #### 🗃 개요\n",
        ">> 저희 `장바구니` 조는 `날씨🌤와 농·임산물의 가격 및 생산량의 상관관계`를 주제로 데이터 분석을 진행했습니다.\n",
        ">> \n",
        ">> 저는 먼저 __`날씨(강수량, 기온, 지면온도)에 따라 복분자의 가격이 변동할 것이다.`__라고 생각해보았습니다. \n",
        ">>\n",
        ">>\n",
        ">>> 📄참고자료\n",
        ">>>\n",
        ">>> <a href=\"https://folkency.nfm.go.kr/kr/topic/detail/7680\"><img src=\"https://folkency.nfm.go.kr/upload/img/20190304/20190304123721_w_.jpg\" alt=\"복분자-한국민속대백과사전\" width=\"160\" height=\"96\"></a>\n",
        ">>> \n",
        ">>> 🔗[농촌진흥청 복분자의 상성 및 경종기술 문서](http://www.nongsaro.go.kr/portal/ps/psb/psbk/kidoContentsFileView.mo?kidofcomdtyNo=26627)\n",
        ">> \n",
        ">> 이후 조사한 결과 위 문서에 따르면 복분자는 다음과 같은 특성을 가지고 있습니다.\n",
        ">> ```\n",
        ">> [식물 형태]\n",
        ">> 5～6월에 꽃이 피며, 산방화서가 가지 끝에 달린다. \n",
        ">> 꽃받침잎은 난상 피침형이며 꽃잎은 꽃받침보다 짧고 도난형으로 연한 홍색이다. 꽃과 꽃받침잎, 자방에 털이 있다. \n",
        ">> 열매는 둥글고 7～8월에 적색으로 익지만 나중에는 흑색으로 된다.\n",
        ">>\n",
        ">> [재배환경]\n",
        ">> 기후 : 복분자딸기는 장미과 식물로 줄기의 수(髓)가 60～90%를 차지하고 있어 겨울철에 가지가 동사와 건조사하는 경우가 많다. \n",
        ">> 겨울철 일교차가 심하면 낮 동안에는 상대습도가 낮아지면서 줄기의 상처부위를 통해서 수분이 수탈되여 건조해를 입을 수 있다.\n",
        ">> 토양 : 뿌리는 지표 30㎝ 이내에 대부분 분포되어 있고, 염류에 약할 뿐만 아니라 습해에 잘 견디지 못하므로 재배적지는 지하수위가 낮고, \n",
        ">> 토심이 깊으며 물빠짐이 좋고, 공기의 유통이 잘되는 양토 및 사양토로서 유기물이 풍부한 토양이어야 한다. \n",
        ">> ```\n",
        ">---\n",
        ">---\n",
        ">> #### ✍🏼 가설\n",
        ">> 이에 따라 세워본 가설은 아래와 같습니다.\n",
        ">>> 1️⃣\n",
        ">>> \n",
        ">>> 겨울철(12~1월) 일교차에 따라 복분자 생산량이 감소할 것으로 예상되므로 품귀 현상이 발생해 가격이 상승할 것이다.\n",
        ">>\n",
        ">>> 2️⃣  \n",
        ">>>\n",
        ">>> 겨울이 지나고 3월부터 수확철인 8월까지의 지면 30cm 온도가 높을 수록 낮과 밤의 일교차로 인한 습도가 증가할 수 있으므로 생산량이 떨어져 가격이 상승할 것이다.\n",
        ">>\n",
        ">>> 3️⃣\n",
        ">>> \n",
        ">>> 겨울이 지나고 3월부터 수확철인 8월까지의 강수량이 증가하면 생산량이 떨어져 가격이 상승할 것이다.\n",
        ">>\n",
        ">---\n",
        ">---\n",
        ">\n",
        ">> #### 🚀 데이터 전처리\n",
        ">> 본 프로젝트에 사용할 원본 데이터는 다음과 같습니다.\n",
        ">>> 1. ☀️ [기상청 지상(종관, ASOS) 일자료 조회서비스](https://www.data.go.kr/tcs/dss/selectApiDataDetailView.do?publicDataPk=15059093)\n",
        ">>>\n",
        ">>> 2. 🍄 [한국임업진흥원_일일 임산물 도매시장가격](https://www.data.go.kr/data/15020663/fileData.do)\n",
        ">>>\n",
        ">>> ```\n",
        ">>> ASOS 기상 데이터의 경우 전지역을 다루면 데이터의 양이 필요 이상으로 방대하고 정확도가 떨어질 수 있기 때문에\n",
        ">>> 국내 복분자의 주요 생산 지역인 \"고창\", \"정읍\", \"순창\" 이상 세 지역의 기상 정보만을 활용합니다.\n",
        ">>> ```\n",
        ">>\n",
        ">> 위 데이터에서 사용할 `column`은  다음과 같습니다.\n",
        ">>> 1. ☀️ ASOS\n",
        ">>>> `tm` : 일시\n",
        ">>>>\n",
        ">>>> `avgTa` : 평균 기온\n",
        ">>>>\n",
        ">>>> `maxTa` : 최대 기온\n",
        ">>>>\n",
        ">>>> `minTa` : 최소 기온\n",
        ">>>>\n",
        ">>>> `avgCm30Te` : 지면 30cm 온도\n",
        ">>>>\n",
        ">>>> `sumRn` : 일 강수량(mm)\n",
        ">>>\n",
        ">>> 2. 🍄 Forestry : \n",
        ">>>> `경락일` : 일시\n",
        ">>>>\n",
        ">>>> `도매시장` : 지역 구분\n",
        ">>>>\n",
        ">>>> `품목` : 품목 구분\n",
        ">>>>\n",
        ">>>> `세부품목` : 품목 세부 정보 조회\n",
        ">>>>\n",
        ">>>> `거래단량` : 판매량 계산\n",
        ">>>>\n",
        ">>>> `거래량` : 판매량 계산\n",
        ">>>>\n",
        ">>>> `규격` : 판매량 계산\n",
        ">>>>\n",
        ">>>> `등급` : 품질 정보 조회\n",
        ">>>>\n",
        ">>>> `가격` : 판매량 계산\n",
        ">>>>\n"
      ],
      "metadata": {
        "id": "j2Ht1ssG0ouc"
      }
    },
    {
      "cell_type": "markdown",
      "source": [
        "## 0. 💼 Before we start...\n",
        "\n",
        "시작하기 전에 먼저 필요한 라이브러리들과 데이터를 불러오고 저장하기 용이하도록 구글 드라이브를 마운트하도록 하겠습니다."
      ],
      "metadata": {
        "id": "v2lvqvbpH6AP"
      }
    },
    {
      "cell_type": "code",
      "source": [
        "import pandas as pd\n",
        "import numpy as np\n",
        "import requests\n",
        "import pathlib\n",
        "import math\n",
        "from tqdm import tqdm"
      ],
      "metadata": {
        "id": "h4cOQOMlI3X4"
      },
      "execution_count": 1,
      "outputs": []
    },
    {
      "cell_type": "code",
      "source": [
        "from google.colab import drive\n",
        "drive.mount('/content/gdrive')"
      ],
      "metadata": {
        "colab": {
          "base_uri": "https://localhost:8080/"
        },
        "id": "_V9lE9JEJOfG",
        "outputId": "82bcb25f-5db8-46f8-9109-84de0de2c878"
      },
      "execution_count": 2,
      "outputs": [
        {
          "output_type": "stream",
          "name": "stdout",
          "text": [
            "Mounted at /content/gdrive\n"
          ]
        }
      ]
    },
    {
      "cell_type": "markdown",
      "source": [
        "임산물 가격 데이터를 `data.go.kr`에서 다운로드 받고 압축을 풀면 아래와 같은 구조를 가지고 있습니다.\n",
        "\n",
        "> 📁 210405_월별_임산물_도매시장_가격정보_DB(2016_2021.03)\n",
        ">> 📁 2016\n",
        ">>> 201601.csv\n",
        ">>>\n",
        ">>> 201602.csv\n",
        ">>>\n",
        ">>> ...\n",
        ">>>\n",
        ">>> 201612.csv\n",
        ">>>\n",
        ">> ...\n",
        ">>\n",
        ">> 📁 2020\n",
        ">> \n",
        ">> 📁 2021\n",
        "\n",
        "따라서 이 데이터를 모두 다루는 방법으로 저는 `pathlib`과 `pandas` 데이터 프레임을 활용했습니다.\n",
        "\n",
        "이를 위해 임산물 가격 데이터의 `root` 폴더 디렉토리를 `FORESTRY_DATA_PATH`로 지정해줬습니다."
      ],
      "metadata": {
        "id": "n7zOQKulJXko"
      }
    },
    {
      "cell_type": "code",
      "source": [
        "# 자신의 구글 드라이브 내의 임산물 가격 데이터 디렉토리 위치\n",
        "FORESTRY_DATA_PATH = '/content/gdrive/MyDrive/Classroom/[데이터분석 이론 및 실습(01)-강윤희] 컴퓨터공학부-2022-1/22-1_텀프로젝트/210405_월별_임산물_도매시장_가격정보_DB(2016_2021.03)/'"
      ],
      "metadata": {
        "id": "CwWcpT0T_QLy"
      },
      "execution_count": 3,
      "outputs": []
    },
    {
      "cell_type": "markdown",
      "source": [
        "##1. ☀️ ASOS 전처리\n",
        "\n",
        "먼저 Open API를 통해 ASOS 데이터를 요청하고 데이터 프레임으로 변환하도록 하겠습니다."
      ],
      "metadata": {
        "id": "NmlRf-LZHnwR"
      }
    },
    {
      "cell_type": "code",
      "source": [
        "def get_ASOS_df(\n",
        "    stnIds:int,\n",
        "    startDt:str,\n",
        "    endDt:str,\n",
        "    pageNo:int=1,\n",
        "    numOfRows:int=500,\n",
        "    dataType:str='JSON',\n",
        "    dataCd:str='ASOS',\n",
        "    dateCd:str='DAY',\n",
        "    serviceKey='***INPUT YOUR KEY***'\n",
        "    ):\n",
        "    \"\"\"\n",
        "    지역 ID와 측정 시작 및 종료 날짜를 받아 Pandas DataFrame을 반환합니다.\n",
        "    \n",
        "    :params\n",
        "    stnIds: 관측 지역의 stnId(필수)\n",
        "    startDt: 측정 시작 날짜(필수)\n",
        "    endDt: 측정 종료 날짜(필수)\n",
        "    pageNo: 페이지 번호(default=1)\n",
        "    numOfRows: 페이지당 행(데이터) 개수(default=500, max=999)\n",
        "    dataType: 요청 데이터 타입. 'JSON' 또는 'XML'(default='JSON')\n",
        "    dataCd: 데이터 제공자(default='ASOS')\n",
        "    dateCd: 데이터 분류(default='DAY')\n",
        "    serviceKey: 공공데이터포털(data.go.kr)에서 발급받은 인증키\n",
        "    \"\"\"\n",
        "    ASOS_datas = []\n",
        "    while(True):\n",
        "      \n",
        "        API = f'http://apis.data.go.kr/1360000/AsosDalyInfoService/getWthrDataList?serviceKey={serviceKey}&numOfRows={numOfRows}&pageNo={pageNo}&dataType={dataType}&dataCd={dataCd}&dateCd={dateCd}&startDt={startDt}&endDt={endDt}&stnIds={stnIds}'\n",
        "        json_data = requests.get(API).json()\n",
        "        \n",
        "        assert json_data['response']['header']['resultCode'] == '00', '잘못된 응답입니다. resultCode is NOT 00.'\n",
        "    \n",
        "        total_count = json_data['response']['body']['totalCount']\n",
        "        ASOS_datas += json_data['response']['body']['items']['item']\n",
        "\n",
        "        if total_count > (pageNo * numOfRows):\n",
        "            pageNo += 1\n",
        "        else:\n",
        "            break\n",
        "    \n",
        "    return pd.DataFrame(ASOS_datas)\n",
        "    "
      ],
      "metadata": {
        "id": "VD27WsigL3MY"
      },
      "execution_count": 8,
      "outputs": []
    },
    {
      "cell_type": "markdown",
      "source": [
        "\n",
        "> `stnIds` : 복분자의 주요 생산지인 고창을 비롯해 주변 지역인 순창과 정읍의 stnId를 통해 세 지역의 기상 정보를 가져옵니다.\n",
        ">\n",
        "> `startDt`, `endDt` : 임산물 가격 데이터가 2016~2021년 사이의 데이터이므로 영향을 줄 수 있는 2015년 1월 1일부터 2021년 12월 31일까지의 ASOS 기상 데이터를 수집합니다."
      ],
      "metadata": {
        "id": "A7vpCpwUEXc-"
      }
    },
    {
      "cell_type": "code",
      "source": [
        "stnIds = {\n",
        "    '고창군': 251,\n",
        "    '순창군': 254,\n",
        "    '정읍': 245\n",
        "}\n",
        "startDt = '20150101'\n",
        "endDt = '20211231'"
      ],
      "metadata": {
        "id": "7lXs6e82L2uv"
      },
      "execution_count": 9,
      "outputs": []
    },
    {
      "cell_type": "code",
      "source": [
        "ASOS_df_dict = {}\n",
        "\n",
        "for stnId in tqdm(stnIds, desc=\"기상 데이터를 가져오고 있습니다..🌱\"):\n",
        "    ASOS_df_dict[stnId] = get_ASOS_df(stnIds[stnId], startDt, endDt)"
      ],
      "metadata": {
        "colab": {
          "base_uri": "https://localhost:8080/"
        },
        "id": "ow31bOwVL3SU",
        "outputId": "e2c9ae94-8e0c-4190-e401-acc39b5735ef"
      },
      "execution_count": 10,
      "outputs": [
        {
          "output_type": "stream",
          "name": "stderr",
          "text": [
            "기상 데이터를 가져오고 있습니다..🌱: 100%|██████████| 3/3 [00:59<00:00, 19.92s/it]\n"
          ]
        }
      ]
    },
    {
      "cell_type": "code",
      "source": [
        "ASOS_df_dict['고창군'].columns"
      ],
      "metadata": {
        "colab": {
          "base_uri": "https://localhost:8080/"
        },
        "id": "pLJ7TzFaL3XB",
        "outputId": "cdfb7a44-e77b-4fa4-f1e9-d45134b0109f"
      },
      "execution_count": 11,
      "outputs": [
        {
          "output_type": "execute_result",
          "data": {
            "text/plain": [
              "Index(['stnId', 'stnNm', 'tm', 'avgTa', 'minTa', 'minTaHrmt', 'maxTa',\n",
              "       'maxTaHrmt', 'mi10MaxRn', 'mi10MaxRnHrmt', 'hr1MaxRn', 'hr1MaxRnHrmt',\n",
              "       'sumRnDur', 'sumRn', 'maxInsWs', 'maxInsWsWd', 'maxInsWsHrmt', 'maxWs',\n",
              "       'maxWsWd', 'maxWsHrmt', 'avgWs', 'hr24SumRws', 'maxWd', 'avgTd',\n",
              "       'minRhm', 'minRhmHrmt', 'avgRhm', 'avgPv', 'avgPa', 'maxPs',\n",
              "       'maxPsHrmt', 'minPs', 'minPsHrmt', 'avgPs', 'ssDur', 'sumSsHr',\n",
              "       'hr1MaxIcsrHrmt', 'hr1MaxIcsr', 'sumGsr', 'ddMefs', 'ddMefsHrmt',\n",
              "       'ddMes', 'ddMesHrmt', 'sumDpthFhsc', 'avgTca', 'avgLmac', 'avgTs',\n",
              "       'minTg', 'avgCm5Te', 'avgCm10Te', 'avgCm20Te', 'avgCm30Te', 'avgM05Te',\n",
              "       'avgM10Te', 'avgM15Te', 'avgM30Te', 'avgM50Te', 'sumLrgEv', 'sumSmlEv',\n",
              "       'n99Rn', 'iscs', 'sumFogDur'],\n",
              "      dtype='object')"
            ]
          },
          "metadata": {},
          "execution_count": 11
        }
      ]
    },
    {
      "cell_type": "markdown",
      "source": [
        "> 이때 데이터로 활용하고자 하는 column은 `tm`, `avgTa`, `maxTa`, `minTa`, `avgCm30Te`, `sumRn` 5개 열이므로 세 지역의 데이터 프레임을 재구성합니다."
      ],
      "metadata": {
        "id": "7BU8ibbWP-vm"
      }
    },
    {
      "cell_type": "code",
      "source": [
        "target_columns = ['tm', 'avgTa', 'maxTa', 'minTa', 'avgCm30Te', 'sumRn']\n",
        "\n",
        "for k in ASOS_df_dict.keys():\n",
        "    ASOS_df_dict[k] = ASOS_df_dict[k][target_columns]"
      ],
      "metadata": {
        "id": "-eplEHQYQMbU"
      },
      "execution_count": 12,
      "outputs": []
    },
    {
      "cell_type": "code",
      "source": [
        "ASOS_df_dict['고창군'].tail(3)"
      ],
      "metadata": {
        "colab": {
          "base_uri": "https://localhost:8080/",
          "height": 143
        },
        "id": "rfPJ7HB8RLYb",
        "outputId": "8ed6c8ac-5811-457b-f073-22df51570a34"
      },
      "execution_count": 13,
      "outputs": [
        {
          "output_type": "execute_result",
          "data": {
            "text/plain": [
              "              tm avgTa maxTa minTa avgCm30Te sumRn\n",
              "2554  2021-12-29   3.9   8.6   0.2       4.9   0.0\n",
              "2555  2021-12-30   0.7   3.7  -1.8       5.2   0.8\n",
              "2556  2021-12-31  -3.2  -0.9  -5.2       4.9   0.0"
            ],
            "text/html": [
              "\n",
              "  <div id=\"df-9fbc9231-1e98-433c-bee5-9405dd3520f7\">\n",
              "    <div class=\"colab-df-container\">\n",
              "      <div>\n",
              "<style scoped>\n",
              "    .dataframe tbody tr th:only-of-type {\n",
              "        vertical-align: middle;\n",
              "    }\n",
              "\n",
              "    .dataframe tbody tr th {\n",
              "        vertical-align: top;\n",
              "    }\n",
              "\n",
              "    .dataframe thead th {\n",
              "        text-align: right;\n",
              "    }\n",
              "</style>\n",
              "<table border=\"1\" class=\"dataframe\">\n",
              "  <thead>\n",
              "    <tr style=\"text-align: right;\">\n",
              "      <th></th>\n",
              "      <th>tm</th>\n",
              "      <th>avgTa</th>\n",
              "      <th>maxTa</th>\n",
              "      <th>minTa</th>\n",
              "      <th>avgCm30Te</th>\n",
              "      <th>sumRn</th>\n",
              "    </tr>\n",
              "  </thead>\n",
              "  <tbody>\n",
              "    <tr>\n",
              "      <th>2554</th>\n",
              "      <td>2021-12-29</td>\n",
              "      <td>3.9</td>\n",
              "      <td>8.6</td>\n",
              "      <td>0.2</td>\n",
              "      <td>4.9</td>\n",
              "      <td>0.0</td>\n",
              "    </tr>\n",
              "    <tr>\n",
              "      <th>2555</th>\n",
              "      <td>2021-12-30</td>\n",
              "      <td>0.7</td>\n",
              "      <td>3.7</td>\n",
              "      <td>-1.8</td>\n",
              "      <td>5.2</td>\n",
              "      <td>0.8</td>\n",
              "    </tr>\n",
              "    <tr>\n",
              "      <th>2556</th>\n",
              "      <td>2021-12-31</td>\n",
              "      <td>-3.2</td>\n",
              "      <td>-0.9</td>\n",
              "      <td>-5.2</td>\n",
              "      <td>4.9</td>\n",
              "      <td>0.0</td>\n",
              "    </tr>\n",
              "  </tbody>\n",
              "</table>\n",
              "</div>\n",
              "      <button class=\"colab-df-convert\" onclick=\"convertToInteractive('df-9fbc9231-1e98-433c-bee5-9405dd3520f7')\"\n",
              "              title=\"Convert this dataframe to an interactive table.\"\n",
              "              style=\"display:none;\">\n",
              "        \n",
              "  <svg xmlns=\"http://www.w3.org/2000/svg\" height=\"24px\"viewBox=\"0 0 24 24\"\n",
              "       width=\"24px\">\n",
              "    <path d=\"M0 0h24v24H0V0z\" fill=\"none\"/>\n",
              "    <path d=\"M18.56 5.44l.94 2.06.94-2.06 2.06-.94-2.06-.94-.94-2.06-.94 2.06-2.06.94zm-11 1L8.5 8.5l.94-2.06 2.06-.94-2.06-.94L8.5 2.5l-.94 2.06-2.06.94zm10 10l.94 2.06.94-2.06 2.06-.94-2.06-.94-.94-2.06-.94 2.06-2.06.94z\"/><path d=\"M17.41 7.96l-1.37-1.37c-.4-.4-.92-.59-1.43-.59-.52 0-1.04.2-1.43.59L10.3 9.45l-7.72 7.72c-.78.78-.78 2.05 0 2.83L4 21.41c.39.39.9.59 1.41.59.51 0 1.02-.2 1.41-.59l7.78-7.78 2.81-2.81c.8-.78.8-2.07 0-2.86zM5.41 20L4 18.59l7.72-7.72 1.47 1.35L5.41 20z\"/>\n",
              "  </svg>\n",
              "      </button>\n",
              "      \n",
              "  <style>\n",
              "    .colab-df-container {\n",
              "      display:flex;\n",
              "      flex-wrap:wrap;\n",
              "      gap: 12px;\n",
              "    }\n",
              "\n",
              "    .colab-df-convert {\n",
              "      background-color: #E8F0FE;\n",
              "      border: none;\n",
              "      border-radius: 50%;\n",
              "      cursor: pointer;\n",
              "      display: none;\n",
              "      fill: #1967D2;\n",
              "      height: 32px;\n",
              "      padding: 0 0 0 0;\n",
              "      width: 32px;\n",
              "    }\n",
              "\n",
              "    .colab-df-convert:hover {\n",
              "      background-color: #E2EBFA;\n",
              "      box-shadow: 0px 1px 2px rgba(60, 64, 67, 0.3), 0px 1px 3px 1px rgba(60, 64, 67, 0.15);\n",
              "      fill: #174EA6;\n",
              "    }\n",
              "\n",
              "    [theme=dark] .colab-df-convert {\n",
              "      background-color: #3B4455;\n",
              "      fill: #D2E3FC;\n",
              "    }\n",
              "\n",
              "    [theme=dark] .colab-df-convert:hover {\n",
              "      background-color: #434B5C;\n",
              "      box-shadow: 0px 1px 3px 1px rgba(0, 0, 0, 0.15);\n",
              "      filter: drop-shadow(0px 1px 2px rgba(0, 0, 0, 0.3));\n",
              "      fill: #FFFFFF;\n",
              "    }\n",
              "  </style>\n",
              "\n",
              "      <script>\n",
              "        const buttonEl =\n",
              "          document.querySelector('#df-9fbc9231-1e98-433c-bee5-9405dd3520f7 button.colab-df-convert');\n",
              "        buttonEl.style.display =\n",
              "          google.colab.kernel.accessAllowed ? 'block' : 'none';\n",
              "\n",
              "        async function convertToInteractive(key) {\n",
              "          const element = document.querySelector('#df-9fbc9231-1e98-433c-bee5-9405dd3520f7');\n",
              "          const dataTable =\n",
              "            await google.colab.kernel.invokeFunction('convertToInteractive',\n",
              "                                                     [key], {});\n",
              "          if (!dataTable) return;\n",
              "\n",
              "          const docLinkHtml = 'Like what you see? Visit the ' +\n",
              "            '<a target=\"_blank\" href=https://colab.research.google.com/notebooks/data_table.ipynb>data table notebook</a>'\n",
              "            + ' to learn more about interactive tables.';\n",
              "          element.innerHTML = '';\n",
              "          dataTable['output_type'] = 'display_data';\n",
              "          await google.colab.output.renderOutput(dataTable, element);\n",
              "          const docLink = document.createElement('div');\n",
              "          docLink.innerHTML = docLinkHtml;\n",
              "          element.appendChild(docLink);\n",
              "        }\n",
              "      </script>\n",
              "    </div>\n",
              "  </div>\n",
              "  "
            ]
          },
          "metadata": {},
          "execution_count": 13
        }
      ]
    },
    {
      "cell_type": "markdown",
      "source": [
        "> 결측치 처리를 위해 데이터를 살펴보겠습니다."
      ],
      "metadata": {
        "id": "cCpsWNjXxwLs"
      }
    },
    {
      "cell_type": "code",
      "source": [
        "ASOS_df_dict['고창군'].info()"
      ],
      "metadata": {
        "colab": {
          "base_uri": "https://localhost:8080/"
        },
        "id": "t17yY06Ex4Ha",
        "outputId": "94e72da4-634c-4a78-fce3-1ba40b8d2e5a"
      },
      "execution_count": 14,
      "outputs": [
        {
          "output_type": "stream",
          "name": "stdout",
          "text": [
            "<class 'pandas.core.frame.DataFrame'>\n",
            "RangeIndex: 2557 entries, 0 to 2556\n",
            "Data columns (total 6 columns):\n",
            " #   Column     Non-Null Count  Dtype \n",
            "---  ------     --------------  ----- \n",
            " 0   tm         2557 non-null   object\n",
            " 1   avgTa      2557 non-null   object\n",
            " 2   maxTa      2557 non-null   object\n",
            " 3   minTa      2557 non-null   object\n",
            " 4   avgCm30Te  2557 non-null   object\n",
            " 5   sumRn      2557 non-null   object\n",
            "dtypes: object(6)\n",
            "memory usage: 120.0+ KB\n"
          ]
        }
      ]
    },
    {
      "cell_type": "markdown",
      "source": [
        "> 모든 column의 값이 `float`과 같은 숫자 형태가 아닌 `object` 즉, 문자열인 것을 확인할 수 있습니다."
      ],
      "metadata": {
        "id": "Izu5kbiLyLTZ"
      }
    },
    {
      "cell_type": "markdown",
      "source": [
        "> 따라서 두 개의 함수를 만들어 결측치를 처리하고자 합니다.\n",
        ">> 1. `astype_float_fill_na_to_near_mean` : 결측치를 전체의 평균으로 처리하는 것이 아니라 해당 `인덱스 주변 10*step만큼의 값의 평균`으로 처리하는 함수입니다. `step`은 해당 범위 내에 값이 없을 것을 대비한 변수입니다. 이를 통해 온도의 경향성을 유지하도록 했습니다.\n",
        ">>\n",
        ">> 2. `astype_float_fill_na_to_zero` : 결측치를 단순히 0으로 처리하는 함수입니다. 강수량의 경우 비가 안내리면 0이라고 볼 수 있습니다."
      ],
      "metadata": {
        "id": "fYv7N9Gj4CDa"
      }
    },
    {
      "cell_type": "code",
      "source": [
        "def astype_float_fill_na_to_near_mean(X:list):\n",
        "    \"\"\"\n",
        "    각 원소가 문자열인 리스트를 입력으로 받아 값을 float으로 변환하고 결측치를 그 값들의 평균으로 처리하는 함수.\n",
        "    \"\"\"\n",
        "    result = []\n",
        "    for idx, x in enumerate(list(X)):\n",
        "        if x != '':\n",
        "            result.append(float(x))\n",
        "        else:\n",
        "            temp = [float(t) for t in X[idx-5:idx]+X[idx+1:idx+6] if t is not '']\n",
        "            mean = sum(temp)/len(temp)\n",
        "            step = 1 + 1\n",
        "            while math.isnan(mean):\n",
        "                temp = [float(t) for t in X[idx-(5*step):idx]+X[idx+1:idx+1+(5*step)] if t is not '']\n",
        "                mean = sum(temp)/len(temp)\n",
        "                step += 1\n",
        "            result.append(mean)\n",
        "    return result"
      ],
      "metadata": {
        "id": "JHkcOpI8ydO4"
      },
      "execution_count": 15,
      "outputs": []
    },
    {
      "cell_type": "code",
      "source": [
        "def astype_float_fill_na_to_zero(X:list):\n",
        "    \"\"\"\n",
        "    각 원소가 문자열인 리스트를 입력으로 받아 값을 float으로 변환하고 결측치를 0으로 처리하는 함수.\n",
        "    \"\"\"\n",
        "    return [float(x) if x is not '' else 0 for x in X]"
      ],
      "metadata": {
        "id": "g42DL1ly3_7u"
      },
      "execution_count": 16,
      "outputs": []
    },
    {
      "cell_type": "markdown",
      "source": [
        "> 위의 함수들로 결측치를 처리하기 전에 `정읍` 지역의 `avgCm30Te`의 값에서 특이점🚨을 발견했습니다."
      ],
      "metadata": {
        "id": "7GlUYlmICHBV"
      }
    },
    {
      "cell_type": "code",
      "source": [
        "ASOS_df_dict['정읍']['avgCm30Te'].value_counts()"
      ],
      "metadata": {
        "colab": {
          "base_uri": "https://localhost:8080/"
        },
        "id": "Ra0QZ4YE_3SU",
        "outputId": "aecf2c24-0b4a-42b4-8b35-79615bf5b001"
      },
      "execution_count": 17,
      "outputs": [
        {
          "output_type": "execute_result",
          "data": {
            "text/plain": [
              "    2557\n",
              "Name: avgCm30Te, dtype: int64"
            ]
          },
          "metadata": {},
          "execution_count": 17
        }
      ]
    },
    {
      "cell_type": "markdown",
      "source": [
        "> 위의 출력 결과 `아무것도 없는 것`을 확인할 수 있습니다.\n",
        ">\n",
        "> 정상적으로 출력된다면 다음과 같은 내용이 보여야합니다."
      ],
      "metadata": {
        "id": "FPcjjJ3LC84D"
      }
    },
    {
      "cell_type": "code",
      "source": [
        "ASOS_df_dict['고창군']['avgCm30Te'].value_counts()"
      ],
      "metadata": {
        "colab": {
          "base_uri": "https://localhost:8080/"
        },
        "id": "9DwJmVLNDCDX",
        "outputId": "397a7ce6-4ea4-49e5-9c8c-38af8b89169e"
      },
      "execution_count": 18,
      "outputs": [
        {
          "output_type": "execute_result",
          "data": {
            "text/plain": [
              "        40\n",
              "23.6    29\n",
              "23.7    25\n",
              "24.0    24\n",
              "6.2     22\n",
              "        ..\n",
              "2.7      1\n",
              "2.1      1\n",
              "2.5      1\n",
              "2.8      1\n",
              "2.9      1\n",
              "Name: avgCm30Te, Length: 289, dtype: int64"
            ]
          },
          "metadata": {},
          "execution_count": 18
        }
      ]
    },
    {
      "cell_type": "markdown",
      "source": [
        "> 즉, `정읍` 지역의 `avgCm30Te`는 모든 값이 `nan`입니다.\n",
        "> \n",
        "> 따라서 분석에 `정읍` 지역 자체를 제외시키려 했으나 지면 온도의 경우를 제외한 다른 가설에서의 유용성을 고려해 해당 column을 삭제하고 사용하도록 하겠습니다."
      ],
      "metadata": {
        "id": "s4TKd3ahDITw"
      }
    },
    {
      "cell_type": "code",
      "source": [
        "del ASOS_df_dict['정읍']['avgCm30Te']"
      ],
      "metadata": {
        "id": "du1wUX4KD0j1"
      },
      "execution_count": 19,
      "outputs": []
    },
    {
      "cell_type": "code",
      "source": [
        "ASOS_df_dict['정읍'].head(3)"
      ],
      "metadata": {
        "colab": {
          "base_uri": "https://localhost:8080/",
          "height": 143
        },
        "id": "TnTKqv5lD6B2",
        "outputId": "47778248-971b-40f3-f733-8073f6d23426"
      },
      "execution_count": 20,
      "outputs": [
        {
          "output_type": "execute_result",
          "data": {
            "text/plain": [
              "           tm avgTa maxTa minTa sumRn\n",
              "0  2015-01-01  -4.4  -1.5  -6.2   2.5\n",
              "1  2015-01-02  -3.9   0.4  -8.0   1.5\n",
              "2  2015-01-03  -2.3   4.7  -9.2      "
            ],
            "text/html": [
              "\n",
              "  <div id=\"df-9139788b-634a-440e-85b9-da2493c1a499\">\n",
              "    <div class=\"colab-df-container\">\n",
              "      <div>\n",
              "<style scoped>\n",
              "    .dataframe tbody tr th:only-of-type {\n",
              "        vertical-align: middle;\n",
              "    }\n",
              "\n",
              "    .dataframe tbody tr th {\n",
              "        vertical-align: top;\n",
              "    }\n",
              "\n",
              "    .dataframe thead th {\n",
              "        text-align: right;\n",
              "    }\n",
              "</style>\n",
              "<table border=\"1\" class=\"dataframe\">\n",
              "  <thead>\n",
              "    <tr style=\"text-align: right;\">\n",
              "      <th></th>\n",
              "      <th>tm</th>\n",
              "      <th>avgTa</th>\n",
              "      <th>maxTa</th>\n",
              "      <th>minTa</th>\n",
              "      <th>sumRn</th>\n",
              "    </tr>\n",
              "  </thead>\n",
              "  <tbody>\n",
              "    <tr>\n",
              "      <th>0</th>\n",
              "      <td>2015-01-01</td>\n",
              "      <td>-4.4</td>\n",
              "      <td>-1.5</td>\n",
              "      <td>-6.2</td>\n",
              "      <td>2.5</td>\n",
              "    </tr>\n",
              "    <tr>\n",
              "      <th>1</th>\n",
              "      <td>2015-01-02</td>\n",
              "      <td>-3.9</td>\n",
              "      <td>0.4</td>\n",
              "      <td>-8.0</td>\n",
              "      <td>1.5</td>\n",
              "    </tr>\n",
              "    <tr>\n",
              "      <th>2</th>\n",
              "      <td>2015-01-03</td>\n",
              "      <td>-2.3</td>\n",
              "      <td>4.7</td>\n",
              "      <td>-9.2</td>\n",
              "      <td></td>\n",
              "    </tr>\n",
              "  </tbody>\n",
              "</table>\n",
              "</div>\n",
              "      <button class=\"colab-df-convert\" onclick=\"convertToInteractive('df-9139788b-634a-440e-85b9-da2493c1a499')\"\n",
              "              title=\"Convert this dataframe to an interactive table.\"\n",
              "              style=\"display:none;\">\n",
              "        \n",
              "  <svg xmlns=\"http://www.w3.org/2000/svg\" height=\"24px\"viewBox=\"0 0 24 24\"\n",
              "       width=\"24px\">\n",
              "    <path d=\"M0 0h24v24H0V0z\" fill=\"none\"/>\n",
              "    <path d=\"M18.56 5.44l.94 2.06.94-2.06 2.06-.94-2.06-.94-.94-2.06-.94 2.06-2.06.94zm-11 1L8.5 8.5l.94-2.06 2.06-.94-2.06-.94L8.5 2.5l-.94 2.06-2.06.94zm10 10l.94 2.06.94-2.06 2.06-.94-2.06-.94-.94-2.06-.94 2.06-2.06.94z\"/><path d=\"M17.41 7.96l-1.37-1.37c-.4-.4-.92-.59-1.43-.59-.52 0-1.04.2-1.43.59L10.3 9.45l-7.72 7.72c-.78.78-.78 2.05 0 2.83L4 21.41c.39.39.9.59 1.41.59.51 0 1.02-.2 1.41-.59l7.78-7.78 2.81-2.81c.8-.78.8-2.07 0-2.86zM5.41 20L4 18.59l7.72-7.72 1.47 1.35L5.41 20z\"/>\n",
              "  </svg>\n",
              "      </button>\n",
              "      \n",
              "  <style>\n",
              "    .colab-df-container {\n",
              "      display:flex;\n",
              "      flex-wrap:wrap;\n",
              "      gap: 12px;\n",
              "    }\n",
              "\n",
              "    .colab-df-convert {\n",
              "      background-color: #E8F0FE;\n",
              "      border: none;\n",
              "      border-radius: 50%;\n",
              "      cursor: pointer;\n",
              "      display: none;\n",
              "      fill: #1967D2;\n",
              "      height: 32px;\n",
              "      padding: 0 0 0 0;\n",
              "      width: 32px;\n",
              "    }\n",
              "\n",
              "    .colab-df-convert:hover {\n",
              "      background-color: #E2EBFA;\n",
              "      box-shadow: 0px 1px 2px rgba(60, 64, 67, 0.3), 0px 1px 3px 1px rgba(60, 64, 67, 0.15);\n",
              "      fill: #174EA6;\n",
              "    }\n",
              "\n",
              "    [theme=dark] .colab-df-convert {\n",
              "      background-color: #3B4455;\n",
              "      fill: #D2E3FC;\n",
              "    }\n",
              "\n",
              "    [theme=dark] .colab-df-convert:hover {\n",
              "      background-color: #434B5C;\n",
              "      box-shadow: 0px 1px 3px 1px rgba(0, 0, 0, 0.15);\n",
              "      filter: drop-shadow(0px 1px 2px rgba(0, 0, 0, 0.3));\n",
              "      fill: #FFFFFF;\n",
              "    }\n",
              "  </style>\n",
              "\n",
              "      <script>\n",
              "        const buttonEl =\n",
              "          document.querySelector('#df-9139788b-634a-440e-85b9-da2493c1a499 button.colab-df-convert');\n",
              "        buttonEl.style.display =\n",
              "          google.colab.kernel.accessAllowed ? 'block' : 'none';\n",
              "\n",
              "        async function convertToInteractive(key) {\n",
              "          const element = document.querySelector('#df-9139788b-634a-440e-85b9-da2493c1a499');\n",
              "          const dataTable =\n",
              "            await google.colab.kernel.invokeFunction('convertToInteractive',\n",
              "                                                     [key], {});\n",
              "          if (!dataTable) return;\n",
              "\n",
              "          const docLinkHtml = 'Like what you see? Visit the ' +\n",
              "            '<a target=\"_blank\" href=https://colab.research.google.com/notebooks/data_table.ipynb>data table notebook</a>'\n",
              "            + ' to learn more about interactive tables.';\n",
              "          element.innerHTML = '';\n",
              "          dataTable['output_type'] = 'display_data';\n",
              "          await google.colab.output.renderOutput(dataTable, element);\n",
              "          const docLink = document.createElement('div');\n",
              "          docLink.innerHTML = docLinkHtml;\n",
              "          element.appendChild(docLink);\n",
              "        }\n",
              "      </script>\n",
              "    </div>\n",
              "  </div>\n",
              "  "
            ]
          },
          "metadata": {},
          "execution_count": 20
        }
      ]
    },
    {
      "cell_type": "markdown",
      "source": [
        "> 이제 만들어진 함수를 사용하여 `결측치`를 처리합니다."
      ],
      "metadata": {
        "id": "X_PzXRHV5gtO"
      }
    },
    {
      "cell_type": "code",
      "source": [
        "for k in stnIds.keys():\n",
        "    ASOS_df_dict[k]['avgTa'] = astype_float_fill_na_to_near_mean(list(ASOS_df_dict[k]['avgTa']))\n",
        "    ASOS_df_dict[k]['maxTa'] = astype_float_fill_na_to_near_mean(list(ASOS_df_dict[k]['maxTa']))\n",
        "    ASOS_df_dict[k]['minTa'] = astype_float_fill_na_to_near_mean(list(ASOS_df_dict[k]['minTa']))\n",
        "    ASOS_df_dict[k]['sumRn'] = astype_float_fill_na_to_zero(list(ASOS_df_dict[k]['sumRn']))\n",
        "    if k != '정읍':\n",
        "        ASOS_df_dict[k]['avgCm30Te'] = astype_float_fill_na_to_near_mean(list(ASOS_df_dict[k]['avgCm30Te']))"
      ],
      "metadata": {
        "id": "E0u8HD2e5wXm"
      },
      "execution_count": 21,
      "outputs": []
    },
    {
      "cell_type": "code",
      "source": [
        "ASOS_df_dict['고창군'].head()"
      ],
      "metadata": {
        "colab": {
          "base_uri": "https://localhost:8080/",
          "height": 206
        },
        "id": "MIwQhPmD6TDM",
        "outputId": "1b5554ac-5ad6-4c5e-ecbc-5f47c10b7836"
      },
      "execution_count": 22,
      "outputs": [
        {
          "output_type": "execute_result",
          "data": {
            "text/plain": [
              "           tm  avgTa  maxTa  minTa  avgCm30Te  sumRn\n",
              "0  2015-01-01   -4.1   -0.4   -5.5        4.5    8.5\n",
              "1  2015-01-02   -3.3    0.9   -7.5        4.3    5.5\n",
              "2  2015-01-03   -2.8    5.5  -10.9        4.3    0.0\n",
              "3  2015-01-04    3.0   10.8   -2.6        4.3    0.0\n",
              "4  2015-01-05    6.8   13.2   -4.8        4.1    8.5"
            ],
            "text/html": [
              "\n",
              "  <div id=\"df-1bd46523-7ac3-4ca0-bd80-962e00623aae\">\n",
              "    <div class=\"colab-df-container\">\n",
              "      <div>\n",
              "<style scoped>\n",
              "    .dataframe tbody tr th:only-of-type {\n",
              "        vertical-align: middle;\n",
              "    }\n",
              "\n",
              "    .dataframe tbody tr th {\n",
              "        vertical-align: top;\n",
              "    }\n",
              "\n",
              "    .dataframe thead th {\n",
              "        text-align: right;\n",
              "    }\n",
              "</style>\n",
              "<table border=\"1\" class=\"dataframe\">\n",
              "  <thead>\n",
              "    <tr style=\"text-align: right;\">\n",
              "      <th></th>\n",
              "      <th>tm</th>\n",
              "      <th>avgTa</th>\n",
              "      <th>maxTa</th>\n",
              "      <th>minTa</th>\n",
              "      <th>avgCm30Te</th>\n",
              "      <th>sumRn</th>\n",
              "    </tr>\n",
              "  </thead>\n",
              "  <tbody>\n",
              "    <tr>\n",
              "      <th>0</th>\n",
              "      <td>2015-01-01</td>\n",
              "      <td>-4.1</td>\n",
              "      <td>-0.4</td>\n",
              "      <td>-5.5</td>\n",
              "      <td>4.5</td>\n",
              "      <td>8.5</td>\n",
              "    </tr>\n",
              "    <tr>\n",
              "      <th>1</th>\n",
              "      <td>2015-01-02</td>\n",
              "      <td>-3.3</td>\n",
              "      <td>0.9</td>\n",
              "      <td>-7.5</td>\n",
              "      <td>4.3</td>\n",
              "      <td>5.5</td>\n",
              "    </tr>\n",
              "    <tr>\n",
              "      <th>2</th>\n",
              "      <td>2015-01-03</td>\n",
              "      <td>-2.8</td>\n",
              "      <td>5.5</td>\n",
              "      <td>-10.9</td>\n",
              "      <td>4.3</td>\n",
              "      <td>0.0</td>\n",
              "    </tr>\n",
              "    <tr>\n",
              "      <th>3</th>\n",
              "      <td>2015-01-04</td>\n",
              "      <td>3.0</td>\n",
              "      <td>10.8</td>\n",
              "      <td>-2.6</td>\n",
              "      <td>4.3</td>\n",
              "      <td>0.0</td>\n",
              "    </tr>\n",
              "    <tr>\n",
              "      <th>4</th>\n",
              "      <td>2015-01-05</td>\n",
              "      <td>6.8</td>\n",
              "      <td>13.2</td>\n",
              "      <td>-4.8</td>\n",
              "      <td>4.1</td>\n",
              "      <td>8.5</td>\n",
              "    </tr>\n",
              "  </tbody>\n",
              "</table>\n",
              "</div>\n",
              "      <button class=\"colab-df-convert\" onclick=\"convertToInteractive('df-1bd46523-7ac3-4ca0-bd80-962e00623aae')\"\n",
              "              title=\"Convert this dataframe to an interactive table.\"\n",
              "              style=\"display:none;\">\n",
              "        \n",
              "  <svg xmlns=\"http://www.w3.org/2000/svg\" height=\"24px\"viewBox=\"0 0 24 24\"\n",
              "       width=\"24px\">\n",
              "    <path d=\"M0 0h24v24H0V0z\" fill=\"none\"/>\n",
              "    <path d=\"M18.56 5.44l.94 2.06.94-2.06 2.06-.94-2.06-.94-.94-2.06-.94 2.06-2.06.94zm-11 1L8.5 8.5l.94-2.06 2.06-.94-2.06-.94L8.5 2.5l-.94 2.06-2.06.94zm10 10l.94 2.06.94-2.06 2.06-.94-2.06-.94-.94-2.06-.94 2.06-2.06.94z\"/><path d=\"M17.41 7.96l-1.37-1.37c-.4-.4-.92-.59-1.43-.59-.52 0-1.04.2-1.43.59L10.3 9.45l-7.72 7.72c-.78.78-.78 2.05 0 2.83L4 21.41c.39.39.9.59 1.41.59.51 0 1.02-.2 1.41-.59l7.78-7.78 2.81-2.81c.8-.78.8-2.07 0-2.86zM5.41 20L4 18.59l7.72-7.72 1.47 1.35L5.41 20z\"/>\n",
              "  </svg>\n",
              "      </button>\n",
              "      \n",
              "  <style>\n",
              "    .colab-df-container {\n",
              "      display:flex;\n",
              "      flex-wrap:wrap;\n",
              "      gap: 12px;\n",
              "    }\n",
              "\n",
              "    .colab-df-convert {\n",
              "      background-color: #E8F0FE;\n",
              "      border: none;\n",
              "      border-radius: 50%;\n",
              "      cursor: pointer;\n",
              "      display: none;\n",
              "      fill: #1967D2;\n",
              "      height: 32px;\n",
              "      padding: 0 0 0 0;\n",
              "      width: 32px;\n",
              "    }\n",
              "\n",
              "    .colab-df-convert:hover {\n",
              "      background-color: #E2EBFA;\n",
              "      box-shadow: 0px 1px 2px rgba(60, 64, 67, 0.3), 0px 1px 3px 1px rgba(60, 64, 67, 0.15);\n",
              "      fill: #174EA6;\n",
              "    }\n",
              "\n",
              "    [theme=dark] .colab-df-convert {\n",
              "      background-color: #3B4455;\n",
              "      fill: #D2E3FC;\n",
              "    }\n",
              "\n",
              "    [theme=dark] .colab-df-convert:hover {\n",
              "      background-color: #434B5C;\n",
              "      box-shadow: 0px 1px 3px 1px rgba(0, 0, 0, 0.15);\n",
              "      filter: drop-shadow(0px 1px 2px rgba(0, 0, 0, 0.3));\n",
              "      fill: #FFFFFF;\n",
              "    }\n",
              "  </style>\n",
              "\n",
              "      <script>\n",
              "        const buttonEl =\n",
              "          document.querySelector('#df-1bd46523-7ac3-4ca0-bd80-962e00623aae button.colab-df-convert');\n",
              "        buttonEl.style.display =\n",
              "          google.colab.kernel.accessAllowed ? 'block' : 'none';\n",
              "\n",
              "        async function convertToInteractive(key) {\n",
              "          const element = document.querySelector('#df-1bd46523-7ac3-4ca0-bd80-962e00623aae');\n",
              "          const dataTable =\n",
              "            await google.colab.kernel.invokeFunction('convertToInteractive',\n",
              "                                                     [key], {});\n",
              "          if (!dataTable) return;\n",
              "\n",
              "          const docLinkHtml = 'Like what you see? Visit the ' +\n",
              "            '<a target=\"_blank\" href=https://colab.research.google.com/notebooks/data_table.ipynb>data table notebook</a>'\n",
              "            + ' to learn more about interactive tables.';\n",
              "          element.innerHTML = '';\n",
              "          dataTable['output_type'] = 'display_data';\n",
              "          await google.colab.output.renderOutput(dataTable, element);\n",
              "          const docLink = document.createElement('div');\n",
              "          docLink.innerHTML = docLinkHtml;\n",
              "          element.appendChild(docLink);\n",
              "        }\n",
              "      </script>\n",
              "    </div>\n",
              "  </div>\n",
              "  "
            ]
          },
          "metadata": {},
          "execution_count": 22
        }
      ]
    },
    {
      "cell_type": "code",
      "source": [
        "ASOS_df_dict['고창군'].info()"
      ],
      "metadata": {
        "colab": {
          "base_uri": "https://localhost:8080/"
        },
        "id": "p20xzQdaNXDf",
        "outputId": "a4c2cdb9-38d9-4c47-8896-b71ca79ee5f0"
      },
      "execution_count": 23,
      "outputs": [
        {
          "output_type": "stream",
          "name": "stdout",
          "text": [
            "<class 'pandas.core.frame.DataFrame'>\n",
            "RangeIndex: 2557 entries, 0 to 2556\n",
            "Data columns (total 6 columns):\n",
            " #   Column     Non-Null Count  Dtype  \n",
            "---  ------     --------------  -----  \n",
            " 0   tm         2557 non-null   object \n",
            " 1   avgTa      2557 non-null   float64\n",
            " 2   maxTa      2557 non-null   float64\n",
            " 3   minTa      2557 non-null   float64\n",
            " 4   avgCm30Te  2557 non-null   float64\n",
            " 5   sumRn      2557 non-null   float64\n",
            "dtypes: float64(5), object(1)\n",
            "memory usage: 120.0+ KB\n"
          ]
        }
      ]
    },
    {
      "cell_type": "markdown",
      "source": [
        "> 가설을 검증하는 과정에서 `날짜` 데이터를 다루는 일이 잦습니다.\n",
        "> \n",
        "> 이 작업을 용이하게 하기 위해서 날짜를 `year`, `month`, `day`로 구분해주겠습니다."
      ],
      "metadata": {
        "id": "4m24t1stF1vs"
      }
    },
    {
      "cell_type": "code",
      "source": [
        "for k in ASOS_df_dict.keys():\n",
        "    temp = pd.to_datetime(ASOS_df_dict[k]['tm'])\n",
        "    ASOS_df_dict[k]['year'] = temp.dt.year\n",
        "    ASOS_df_dict[k]['month'] = temp.dt.month\n",
        "    ASOS_df_dict[k]['day'] = temp.dt.day\n",
        "    del ASOS_df_dict[k]['tm']"
      ],
      "metadata": {
        "id": "YhM9Je0tGGLB"
      },
      "execution_count": 24,
      "outputs": []
    },
    {
      "cell_type": "code",
      "source": [
        "ASOS_df_dict['고창군'].head(3)"
      ],
      "metadata": {
        "colab": {
          "base_uri": "https://localhost:8080/",
          "height": 143
        },
        "id": "-VfAMiFKH7nx",
        "outputId": "e0752115-cac7-469e-8b28-abd692663ea7"
      },
      "execution_count": 25,
      "outputs": [
        {
          "output_type": "execute_result",
          "data": {
            "text/plain": [
              "   avgTa  maxTa  minTa  avgCm30Te  sumRn  year  month  day\n",
              "0   -4.1   -0.4   -5.5        4.5    8.5  2015      1    1\n",
              "1   -3.3    0.9   -7.5        4.3    5.5  2015      1    2\n",
              "2   -2.8    5.5  -10.9        4.3    0.0  2015      1    3"
            ],
            "text/html": [
              "\n",
              "  <div id=\"df-86bebcdb-3dd7-4832-813c-a29dfc213804\">\n",
              "    <div class=\"colab-df-container\">\n",
              "      <div>\n",
              "<style scoped>\n",
              "    .dataframe tbody tr th:only-of-type {\n",
              "        vertical-align: middle;\n",
              "    }\n",
              "\n",
              "    .dataframe tbody tr th {\n",
              "        vertical-align: top;\n",
              "    }\n",
              "\n",
              "    .dataframe thead th {\n",
              "        text-align: right;\n",
              "    }\n",
              "</style>\n",
              "<table border=\"1\" class=\"dataframe\">\n",
              "  <thead>\n",
              "    <tr style=\"text-align: right;\">\n",
              "      <th></th>\n",
              "      <th>avgTa</th>\n",
              "      <th>maxTa</th>\n",
              "      <th>minTa</th>\n",
              "      <th>avgCm30Te</th>\n",
              "      <th>sumRn</th>\n",
              "      <th>year</th>\n",
              "      <th>month</th>\n",
              "      <th>day</th>\n",
              "    </tr>\n",
              "  </thead>\n",
              "  <tbody>\n",
              "    <tr>\n",
              "      <th>0</th>\n",
              "      <td>-4.1</td>\n",
              "      <td>-0.4</td>\n",
              "      <td>-5.5</td>\n",
              "      <td>4.5</td>\n",
              "      <td>8.5</td>\n",
              "      <td>2015</td>\n",
              "      <td>1</td>\n",
              "      <td>1</td>\n",
              "    </tr>\n",
              "    <tr>\n",
              "      <th>1</th>\n",
              "      <td>-3.3</td>\n",
              "      <td>0.9</td>\n",
              "      <td>-7.5</td>\n",
              "      <td>4.3</td>\n",
              "      <td>5.5</td>\n",
              "      <td>2015</td>\n",
              "      <td>1</td>\n",
              "      <td>2</td>\n",
              "    </tr>\n",
              "    <tr>\n",
              "      <th>2</th>\n",
              "      <td>-2.8</td>\n",
              "      <td>5.5</td>\n",
              "      <td>-10.9</td>\n",
              "      <td>4.3</td>\n",
              "      <td>0.0</td>\n",
              "      <td>2015</td>\n",
              "      <td>1</td>\n",
              "      <td>3</td>\n",
              "    </tr>\n",
              "  </tbody>\n",
              "</table>\n",
              "</div>\n",
              "      <button class=\"colab-df-convert\" onclick=\"convertToInteractive('df-86bebcdb-3dd7-4832-813c-a29dfc213804')\"\n",
              "              title=\"Convert this dataframe to an interactive table.\"\n",
              "              style=\"display:none;\">\n",
              "        \n",
              "  <svg xmlns=\"http://www.w3.org/2000/svg\" height=\"24px\"viewBox=\"0 0 24 24\"\n",
              "       width=\"24px\">\n",
              "    <path d=\"M0 0h24v24H0V0z\" fill=\"none\"/>\n",
              "    <path d=\"M18.56 5.44l.94 2.06.94-2.06 2.06-.94-2.06-.94-.94-2.06-.94 2.06-2.06.94zm-11 1L8.5 8.5l.94-2.06 2.06-.94-2.06-.94L8.5 2.5l-.94 2.06-2.06.94zm10 10l.94 2.06.94-2.06 2.06-.94-2.06-.94-.94-2.06-.94 2.06-2.06.94z\"/><path d=\"M17.41 7.96l-1.37-1.37c-.4-.4-.92-.59-1.43-.59-.52 0-1.04.2-1.43.59L10.3 9.45l-7.72 7.72c-.78.78-.78 2.05 0 2.83L4 21.41c.39.39.9.59 1.41.59.51 0 1.02-.2 1.41-.59l7.78-7.78 2.81-2.81c.8-.78.8-2.07 0-2.86zM5.41 20L4 18.59l7.72-7.72 1.47 1.35L5.41 20z\"/>\n",
              "  </svg>\n",
              "      </button>\n",
              "      \n",
              "  <style>\n",
              "    .colab-df-container {\n",
              "      display:flex;\n",
              "      flex-wrap:wrap;\n",
              "      gap: 12px;\n",
              "    }\n",
              "\n",
              "    .colab-df-convert {\n",
              "      background-color: #E8F0FE;\n",
              "      border: none;\n",
              "      border-radius: 50%;\n",
              "      cursor: pointer;\n",
              "      display: none;\n",
              "      fill: #1967D2;\n",
              "      height: 32px;\n",
              "      padding: 0 0 0 0;\n",
              "      width: 32px;\n",
              "    }\n",
              "\n",
              "    .colab-df-convert:hover {\n",
              "      background-color: #E2EBFA;\n",
              "      box-shadow: 0px 1px 2px rgba(60, 64, 67, 0.3), 0px 1px 3px 1px rgba(60, 64, 67, 0.15);\n",
              "      fill: #174EA6;\n",
              "    }\n",
              "\n",
              "    [theme=dark] .colab-df-convert {\n",
              "      background-color: #3B4455;\n",
              "      fill: #D2E3FC;\n",
              "    }\n",
              "\n",
              "    [theme=dark] .colab-df-convert:hover {\n",
              "      background-color: #434B5C;\n",
              "      box-shadow: 0px 1px 3px 1px rgba(0, 0, 0, 0.15);\n",
              "      filter: drop-shadow(0px 1px 2px rgba(0, 0, 0, 0.3));\n",
              "      fill: #FFFFFF;\n",
              "    }\n",
              "  </style>\n",
              "\n",
              "      <script>\n",
              "        const buttonEl =\n",
              "          document.querySelector('#df-86bebcdb-3dd7-4832-813c-a29dfc213804 button.colab-df-convert');\n",
              "        buttonEl.style.display =\n",
              "          google.colab.kernel.accessAllowed ? 'block' : 'none';\n",
              "\n",
              "        async function convertToInteractive(key) {\n",
              "          const element = document.querySelector('#df-86bebcdb-3dd7-4832-813c-a29dfc213804');\n",
              "          const dataTable =\n",
              "            await google.colab.kernel.invokeFunction('convertToInteractive',\n",
              "                                                     [key], {});\n",
              "          if (!dataTable) return;\n",
              "\n",
              "          const docLinkHtml = 'Like what you see? Visit the ' +\n",
              "            '<a target=\"_blank\" href=https://colab.research.google.com/notebooks/data_table.ipynb>data table notebook</a>'\n",
              "            + ' to learn more about interactive tables.';\n",
              "          element.innerHTML = '';\n",
              "          dataTable['output_type'] = 'display_data';\n",
              "          await google.colab.output.renderOutput(dataTable, element);\n",
              "          const docLink = document.createElement('div');\n",
              "          docLink.innerHTML = docLinkHtml;\n",
              "          element.appendChild(docLink);\n",
              "        }\n",
              "      </script>\n",
              "    </div>\n",
              "  </div>\n",
              "  "
            ]
          },
          "metadata": {},
          "execution_count": 25
        }
      ]
    },
    {
      "cell_type": "markdown",
      "source": [
        "> `column`의 순서를 보기 좋게 바꿔줍니다."
      ],
      "metadata": {
        "id": "LbXIs9UvIJwu"
      }
    },
    {
      "cell_type": "code",
      "source": [
        "for k in ASOS_df_dict.keys():\n",
        "    ASOS_df_dict[k] = ASOS_df_dict[k][list(ASOS_df_dict[k].columns[-3:]) + list(ASOS_df_dict[k].columns[:-3])]"
      ],
      "metadata": {
        "id": "JWihdbOxIPQO"
      },
      "execution_count": 26,
      "outputs": []
    },
    {
      "cell_type": "code",
      "source": [
        "ASOS_df_dict['고창군'].head(3)"
      ],
      "metadata": {
        "colab": {
          "base_uri": "https://localhost:8080/",
          "height": 143
        },
        "id": "i2BUVQhIJD6V",
        "outputId": "535c9df8-8fff-4dfc-ad40-395fa36858b8"
      },
      "execution_count": 27,
      "outputs": [
        {
          "output_type": "execute_result",
          "data": {
            "text/plain": [
              "   year  month  day  avgTa  maxTa  minTa  avgCm30Te  sumRn\n",
              "0  2015      1    1   -4.1   -0.4   -5.5        4.5    8.5\n",
              "1  2015      1    2   -3.3    0.9   -7.5        4.3    5.5\n",
              "2  2015      1    3   -2.8    5.5  -10.9        4.3    0.0"
            ],
            "text/html": [
              "\n",
              "  <div id=\"df-41d01d94-c317-4ba9-9b66-1068cf653af5\">\n",
              "    <div class=\"colab-df-container\">\n",
              "      <div>\n",
              "<style scoped>\n",
              "    .dataframe tbody tr th:only-of-type {\n",
              "        vertical-align: middle;\n",
              "    }\n",
              "\n",
              "    .dataframe tbody tr th {\n",
              "        vertical-align: top;\n",
              "    }\n",
              "\n",
              "    .dataframe thead th {\n",
              "        text-align: right;\n",
              "    }\n",
              "</style>\n",
              "<table border=\"1\" class=\"dataframe\">\n",
              "  <thead>\n",
              "    <tr style=\"text-align: right;\">\n",
              "      <th></th>\n",
              "      <th>year</th>\n",
              "      <th>month</th>\n",
              "      <th>day</th>\n",
              "      <th>avgTa</th>\n",
              "      <th>maxTa</th>\n",
              "      <th>minTa</th>\n",
              "      <th>avgCm30Te</th>\n",
              "      <th>sumRn</th>\n",
              "    </tr>\n",
              "  </thead>\n",
              "  <tbody>\n",
              "    <tr>\n",
              "      <th>0</th>\n",
              "      <td>2015</td>\n",
              "      <td>1</td>\n",
              "      <td>1</td>\n",
              "      <td>-4.1</td>\n",
              "      <td>-0.4</td>\n",
              "      <td>-5.5</td>\n",
              "      <td>4.5</td>\n",
              "      <td>8.5</td>\n",
              "    </tr>\n",
              "    <tr>\n",
              "      <th>1</th>\n",
              "      <td>2015</td>\n",
              "      <td>1</td>\n",
              "      <td>2</td>\n",
              "      <td>-3.3</td>\n",
              "      <td>0.9</td>\n",
              "      <td>-7.5</td>\n",
              "      <td>4.3</td>\n",
              "      <td>5.5</td>\n",
              "    </tr>\n",
              "    <tr>\n",
              "      <th>2</th>\n",
              "      <td>2015</td>\n",
              "      <td>1</td>\n",
              "      <td>3</td>\n",
              "      <td>-2.8</td>\n",
              "      <td>5.5</td>\n",
              "      <td>-10.9</td>\n",
              "      <td>4.3</td>\n",
              "      <td>0.0</td>\n",
              "    </tr>\n",
              "  </tbody>\n",
              "</table>\n",
              "</div>\n",
              "      <button class=\"colab-df-convert\" onclick=\"convertToInteractive('df-41d01d94-c317-4ba9-9b66-1068cf653af5')\"\n",
              "              title=\"Convert this dataframe to an interactive table.\"\n",
              "              style=\"display:none;\">\n",
              "        \n",
              "  <svg xmlns=\"http://www.w3.org/2000/svg\" height=\"24px\"viewBox=\"0 0 24 24\"\n",
              "       width=\"24px\">\n",
              "    <path d=\"M0 0h24v24H0V0z\" fill=\"none\"/>\n",
              "    <path d=\"M18.56 5.44l.94 2.06.94-2.06 2.06-.94-2.06-.94-.94-2.06-.94 2.06-2.06.94zm-11 1L8.5 8.5l.94-2.06 2.06-.94-2.06-.94L8.5 2.5l-.94 2.06-2.06.94zm10 10l.94 2.06.94-2.06 2.06-.94-2.06-.94-.94-2.06-.94 2.06-2.06.94z\"/><path d=\"M17.41 7.96l-1.37-1.37c-.4-.4-.92-.59-1.43-.59-.52 0-1.04.2-1.43.59L10.3 9.45l-7.72 7.72c-.78.78-.78 2.05 0 2.83L4 21.41c.39.39.9.59 1.41.59.51 0 1.02-.2 1.41-.59l7.78-7.78 2.81-2.81c.8-.78.8-2.07 0-2.86zM5.41 20L4 18.59l7.72-7.72 1.47 1.35L5.41 20z\"/>\n",
              "  </svg>\n",
              "      </button>\n",
              "      \n",
              "  <style>\n",
              "    .colab-df-container {\n",
              "      display:flex;\n",
              "      flex-wrap:wrap;\n",
              "      gap: 12px;\n",
              "    }\n",
              "\n",
              "    .colab-df-convert {\n",
              "      background-color: #E8F0FE;\n",
              "      border: none;\n",
              "      border-radius: 50%;\n",
              "      cursor: pointer;\n",
              "      display: none;\n",
              "      fill: #1967D2;\n",
              "      height: 32px;\n",
              "      padding: 0 0 0 0;\n",
              "      width: 32px;\n",
              "    }\n",
              "\n",
              "    .colab-df-convert:hover {\n",
              "      background-color: #E2EBFA;\n",
              "      box-shadow: 0px 1px 2px rgba(60, 64, 67, 0.3), 0px 1px 3px 1px rgba(60, 64, 67, 0.15);\n",
              "      fill: #174EA6;\n",
              "    }\n",
              "\n",
              "    [theme=dark] .colab-df-convert {\n",
              "      background-color: #3B4455;\n",
              "      fill: #D2E3FC;\n",
              "    }\n",
              "\n",
              "    [theme=dark] .colab-df-convert:hover {\n",
              "      background-color: #434B5C;\n",
              "      box-shadow: 0px 1px 3px 1px rgba(0, 0, 0, 0.15);\n",
              "      filter: drop-shadow(0px 1px 2px rgba(0, 0, 0, 0.3));\n",
              "      fill: #FFFFFF;\n",
              "    }\n",
              "  </style>\n",
              "\n",
              "      <script>\n",
              "        const buttonEl =\n",
              "          document.querySelector('#df-41d01d94-c317-4ba9-9b66-1068cf653af5 button.colab-df-convert');\n",
              "        buttonEl.style.display =\n",
              "          google.colab.kernel.accessAllowed ? 'block' : 'none';\n",
              "\n",
              "        async function convertToInteractive(key) {\n",
              "          const element = document.querySelector('#df-41d01d94-c317-4ba9-9b66-1068cf653af5');\n",
              "          const dataTable =\n",
              "            await google.colab.kernel.invokeFunction('convertToInteractive',\n",
              "                                                     [key], {});\n",
              "          if (!dataTable) return;\n",
              "\n",
              "          const docLinkHtml = 'Like what you see? Visit the ' +\n",
              "            '<a target=\"_blank\" href=https://colab.research.google.com/notebooks/data_table.ipynb>data table notebook</a>'\n",
              "            + ' to learn more about interactive tables.';\n",
              "          element.innerHTML = '';\n",
              "          dataTable['output_type'] = 'display_data';\n",
              "          await google.colab.output.renderOutput(dataTable, element);\n",
              "          const docLink = document.createElement('div');\n",
              "          docLink.innerHTML = docLinkHtml;\n",
              "          element.appendChild(docLink);\n",
              "        }\n",
              "      </script>\n",
              "    </div>\n",
              "  </div>\n",
              "  "
            ]
          },
          "metadata": {},
          "execution_count": 27
        }
      ]
    },
    {
      "cell_type": "markdown",
      "source": [
        "> 마지막으로 세 지역의 데이터를 csv 파일로 저장합니다."
      ],
      "metadata": {
        "id": "ihaUUOT2ReAW"
      }
    },
    {
      "cell_type": "code",
      "source": [
        "for k in ASOS_df_dict.keys():\n",
        "    ASOS_df_dict[k].to_csv(f'ASOS_{k}_기상데이터.csv', encoding='cp949', index=False)\n",
        "    # if you want to save these files to your google drive\n",
        "    # then change the file path to target directory.\n",
        "    # this code doesn't make csv file reusable."
      ],
      "metadata": {
        "id": "QF7_iHA4Rs50"
      },
      "execution_count": 28,
      "outputs": []
    },
    {
      "cell_type": "markdown",
      "source": [
        "Done✅"
      ],
      "metadata": {
        "id": "QzGtcfaMTRF1"
      }
    },
    {
      "cell_type": "markdown",
      "source": [
        "---"
      ],
      "metadata": {
        "id": "pC9f_zXy-NNM"
      }
    },
    {
      "cell_type": "markdown",
      "source": [
        "## 2. 🍄 임산물 데이터 전처리"
      ],
      "metadata": {
        "id": "OhWJVJwW-PSv"
      }
    },
    {
      "cell_type": "markdown",
      "source": [
        "> pathlib 라이브러리는 파일 구조의 탐색을 쉽게 해줍니다.\n",
        "> \n",
        "> 아래와 같이 rglob 메소드를 사용해 임산물 가격 데이터 디렉토리 내의 모든 csv 파일의 경로를 읽어올 수 있습니다."
      ],
      "metadata": {
        "id": "2zRkG5hDUFXT"
      }
    },
    {
      "cell_type": "code",
      "source": [
        "FORESTRY_DATA_PATHs = list(pathlib.Path(FORESTRY_DATA_PATH).rglob('**/*.csv'))\n",
        "\n",
        "for path in FORESTRY_DATA_PATHs[::12]:\n",
        "    print(path)"
      ],
      "metadata": {
        "colab": {
          "base_uri": "https://localhost:8080/"
        },
        "id": "ET4Vv0_7UUMx",
        "outputId": "c2ecf9d5-d0de-4aec-da28-0e3dec01ec74"
      },
      "execution_count": 29,
      "outputs": [
        {
          "output_type": "stream",
          "name": "stdout",
          "text": [
            "/content/gdrive/MyDrive/Classroom/[데이터분석 이론 및 실습(01)-강윤희] 컴퓨터공학부-2022-1/22-1_텀프로젝트/210405_월별_임산물_도매시장_가격정보_DB(2016_2021.03)/2021/202101.csv\n",
            "/content/gdrive/MyDrive/Classroom/[데이터분석 이론 및 실습(01)-강윤희] 컴퓨터공학부-2022-1/22-1_텀프로젝트/210405_월별_임산물_도매시장_가격정보_DB(2016_2021.03)/2018/201810.csv\n",
            "/content/gdrive/MyDrive/Classroom/[데이터분석 이론 및 실습(01)-강윤희] 컴퓨터공학부-2022-1/22-1_텀프로젝트/210405_월별_임산물_도매시장_가격정보_DB(2016_2021.03)/2019/201910.csv\n",
            "/content/gdrive/MyDrive/Classroom/[데이터분석 이론 및 실습(01)-강윤희] 컴퓨터공학부-2022-1/22-1_텀프로젝트/210405_월별_임산물_도매시장_가격정보_DB(2016_2021.03)/2020/202010.csv\n",
            "/content/gdrive/MyDrive/Classroom/[데이터분석 이론 및 실습(01)-강윤희] 컴퓨터공학부-2022-1/22-1_텀프로젝트/210405_월별_임산물_도매시장_가격정보_DB(2016_2021.03)/2017/201710.csv\n",
            "/content/gdrive/MyDrive/Classroom/[데이터분석 이론 및 실습(01)-강윤희] 컴퓨터공학부-2022-1/22-1_텀프로젝트/210405_월별_임산물_도매시장_가격정보_DB(2016_2021.03)/2016/201610.csv\n"
          ]
        }
      ]
    },
    {
      "cell_type": "markdown",
      "source": [
        "> 경로의 순서가 뒤죽박죽이지만 데이터 프레임으로 구성한 후 정렬해도 좋을 것 같습니다.\n",
        "> \n",
        "> 따라서, 디렉토리 내의 모든 파일을 하나의 데이터 프레임으로 읽어오겠습니다."
      ],
      "metadata": {
        "id": "x2VhAVIVUnX-"
      }
    },
    {
      "cell_type": "code",
      "source": [
        "Forestry_df = pd.read_csv(FORESTRY_DATA_PATHs[0], encoding='cp949')\n",
        "\n",
        "for path in tqdm(FORESTRY_DATA_PATHs[1:], desc=\"임산물 가격 데이터를 가져오고 있습니다..🌱\"):\n",
        "  Forestry_df = pd.concat([Forestry_df, pd.read_csv(path, encoding='cp949')])"
      ],
      "metadata": {
        "colab": {
          "base_uri": "https://localhost:8080/"
        },
        "id": "Y2fzSorf-YgR",
        "outputId": "ac08d3c7-4599-47b4-bc9e-8ae469aa0cdf"
      },
      "execution_count": 30,
      "outputs": [
        {
          "output_type": "stream",
          "name": "stderr",
          "text": [
            "임산물 가격 데이터를 가져오고 있습니다..🌱:  82%|████████▏ | 51/62 [00:23<00:05,  1.86it/s]/usr/local/lib/python3.7/dist-packages/IPython/core/interactiveshell.py:2882: DtypeWarning: Columns (3,5) have mixed types.Specify dtype option on import or set low_memory=False.\n",
            "  exec(code_obj, self.user_global_ns, self.user_ns)\n",
            "임산물 가격 데이터를 가져오고 있습니다..🌱: 100%|██████████| 62/62 [00:31<00:00,  2.00it/s]\n"
          ]
        }
      ]
    },
    {
      "cell_type": "code",
      "source": [
        "Forestry_df.iloc[[0, -1]]"
      ],
      "metadata": {
        "colab": {
          "base_uri": "https://localhost:8080/",
          "height": 112
        },
        "id": "oD5qk4fBVsJj",
        "outputId": "274ea966-5508-4ef4-8507-4abff0f726c4"
      },
      "execution_count": 31,
      "outputs": [
        {
          "output_type": "execute_result",
          "data": {
            "text/plain": [
              "            경락일  공영도매시장코드    도매시장  품목코드   품목  세부품목코드     세부품목  거래량  거래단량  \\\n",
              "0      20210102    380401  진주도매시장  1406  참나물  140601  참나물(일반)   16   4.0   \n",
              "20608  20161231    370401  안동도매시장   702   대추   70202      건대추  108  10.0   \n",
              "\n",
              "         규격코드       규격 등급코드  등급     가격  \n",
              "0      120100   kg 상자    11   특  10867  \n",
              "20608  120500  kg 그물망    10  없음  41663  "
            ],
            "text/html": [
              "\n",
              "  <div id=\"df-a6d64551-a9b3-4091-a49a-c35c5983b9b8\">\n",
              "    <div class=\"colab-df-container\">\n",
              "      <div>\n",
              "<style scoped>\n",
              "    .dataframe tbody tr th:only-of-type {\n",
              "        vertical-align: middle;\n",
              "    }\n",
              "\n",
              "    .dataframe tbody tr th {\n",
              "        vertical-align: top;\n",
              "    }\n",
              "\n",
              "    .dataframe thead th {\n",
              "        text-align: right;\n",
              "    }\n",
              "</style>\n",
              "<table border=\"1\" class=\"dataframe\">\n",
              "  <thead>\n",
              "    <tr style=\"text-align: right;\">\n",
              "      <th></th>\n",
              "      <th>경락일</th>\n",
              "      <th>공영도매시장코드</th>\n",
              "      <th>도매시장</th>\n",
              "      <th>품목코드</th>\n",
              "      <th>품목</th>\n",
              "      <th>세부품목코드</th>\n",
              "      <th>세부품목</th>\n",
              "      <th>거래량</th>\n",
              "      <th>거래단량</th>\n",
              "      <th>규격코드</th>\n",
              "      <th>규격</th>\n",
              "      <th>등급코드</th>\n",
              "      <th>등급</th>\n",
              "      <th>가격</th>\n",
              "    </tr>\n",
              "  </thead>\n",
              "  <tbody>\n",
              "    <tr>\n",
              "      <th>0</th>\n",
              "      <td>20210102</td>\n",
              "      <td>380401</td>\n",
              "      <td>진주도매시장</td>\n",
              "      <td>1406</td>\n",
              "      <td>참나물</td>\n",
              "      <td>140601</td>\n",
              "      <td>참나물(일반)</td>\n",
              "      <td>16</td>\n",
              "      <td>4.0</td>\n",
              "      <td>120100</td>\n",
              "      <td>kg 상자</td>\n",
              "      <td>11</td>\n",
              "      <td>특</td>\n",
              "      <td>10867</td>\n",
              "    </tr>\n",
              "    <tr>\n",
              "      <th>20608</th>\n",
              "      <td>20161231</td>\n",
              "      <td>370401</td>\n",
              "      <td>안동도매시장</td>\n",
              "      <td>702</td>\n",
              "      <td>대추</td>\n",
              "      <td>70202</td>\n",
              "      <td>건대추</td>\n",
              "      <td>108</td>\n",
              "      <td>10.0</td>\n",
              "      <td>120500</td>\n",
              "      <td>kg 그물망</td>\n",
              "      <td>10</td>\n",
              "      <td>없음</td>\n",
              "      <td>41663</td>\n",
              "    </tr>\n",
              "  </tbody>\n",
              "</table>\n",
              "</div>\n",
              "      <button class=\"colab-df-convert\" onclick=\"convertToInteractive('df-a6d64551-a9b3-4091-a49a-c35c5983b9b8')\"\n",
              "              title=\"Convert this dataframe to an interactive table.\"\n",
              "              style=\"display:none;\">\n",
              "        \n",
              "  <svg xmlns=\"http://www.w3.org/2000/svg\" height=\"24px\"viewBox=\"0 0 24 24\"\n",
              "       width=\"24px\">\n",
              "    <path d=\"M0 0h24v24H0V0z\" fill=\"none\"/>\n",
              "    <path d=\"M18.56 5.44l.94 2.06.94-2.06 2.06-.94-2.06-.94-.94-2.06-.94 2.06-2.06.94zm-11 1L8.5 8.5l.94-2.06 2.06-.94-2.06-.94L8.5 2.5l-.94 2.06-2.06.94zm10 10l.94 2.06.94-2.06 2.06-.94-2.06-.94-.94-2.06-.94 2.06-2.06.94z\"/><path d=\"M17.41 7.96l-1.37-1.37c-.4-.4-.92-.59-1.43-.59-.52 0-1.04.2-1.43.59L10.3 9.45l-7.72 7.72c-.78.78-.78 2.05 0 2.83L4 21.41c.39.39.9.59 1.41.59.51 0 1.02-.2 1.41-.59l7.78-7.78 2.81-2.81c.8-.78.8-2.07 0-2.86zM5.41 20L4 18.59l7.72-7.72 1.47 1.35L5.41 20z\"/>\n",
              "  </svg>\n",
              "      </button>\n",
              "      \n",
              "  <style>\n",
              "    .colab-df-container {\n",
              "      display:flex;\n",
              "      flex-wrap:wrap;\n",
              "      gap: 12px;\n",
              "    }\n",
              "\n",
              "    .colab-df-convert {\n",
              "      background-color: #E8F0FE;\n",
              "      border: none;\n",
              "      border-radius: 50%;\n",
              "      cursor: pointer;\n",
              "      display: none;\n",
              "      fill: #1967D2;\n",
              "      height: 32px;\n",
              "      padding: 0 0 0 0;\n",
              "      width: 32px;\n",
              "    }\n",
              "\n",
              "    .colab-df-convert:hover {\n",
              "      background-color: #E2EBFA;\n",
              "      box-shadow: 0px 1px 2px rgba(60, 64, 67, 0.3), 0px 1px 3px 1px rgba(60, 64, 67, 0.15);\n",
              "      fill: #174EA6;\n",
              "    }\n",
              "\n",
              "    [theme=dark] .colab-df-convert {\n",
              "      background-color: #3B4455;\n",
              "      fill: #D2E3FC;\n",
              "    }\n",
              "\n",
              "    [theme=dark] .colab-df-convert:hover {\n",
              "      background-color: #434B5C;\n",
              "      box-shadow: 0px 1px 3px 1px rgba(0, 0, 0, 0.15);\n",
              "      filter: drop-shadow(0px 1px 2px rgba(0, 0, 0, 0.3));\n",
              "      fill: #FFFFFF;\n",
              "    }\n",
              "  </style>\n",
              "\n",
              "      <script>\n",
              "        const buttonEl =\n",
              "          document.querySelector('#df-a6d64551-a9b3-4091-a49a-c35c5983b9b8 button.colab-df-convert');\n",
              "        buttonEl.style.display =\n",
              "          google.colab.kernel.accessAllowed ? 'block' : 'none';\n",
              "\n",
              "        async function convertToInteractive(key) {\n",
              "          const element = document.querySelector('#df-a6d64551-a9b3-4091-a49a-c35c5983b9b8');\n",
              "          const dataTable =\n",
              "            await google.colab.kernel.invokeFunction('convertToInteractive',\n",
              "                                                     [key], {});\n",
              "          if (!dataTable) return;\n",
              "\n",
              "          const docLinkHtml = 'Like what you see? Visit the ' +\n",
              "            '<a target=\"_blank\" href=https://colab.research.google.com/notebooks/data_table.ipynb>data table notebook</a>'\n",
              "            + ' to learn more about interactive tables.';\n",
              "          element.innerHTML = '';\n",
              "          dataTable['output_type'] = 'display_data';\n",
              "          await google.colab.output.renderOutput(dataTable, element);\n",
              "          const docLink = document.createElement('div');\n",
              "          docLink.innerHTML = docLinkHtml;\n",
              "          element.appendChild(docLink);\n",
              "        }\n",
              "      </script>\n",
              "    </div>\n",
              "  </div>\n",
              "  "
            ]
          },
          "metadata": {},
          "execution_count": 31
        }
      ]
    },
    {
      "cell_type": "markdown",
      "source": [
        "> 위에서 확인할 수 있듯이 데이터 프레임의 순서가 경락일 순서로 정렬되지 않음을 알 수 있습니다.\n",
        ">\n",
        "> 따라서 먼저 경락일 기준으로 데이터 프레임을 정렬합니다."
      ],
      "metadata": {
        "id": "svXFFE4MVp7F"
      }
    },
    {
      "cell_type": "code",
      "source": [
        "Forestry_df = Forestry_df.sort_values(by='경락일').reset_index(drop=True)"
      ],
      "metadata": {
        "id": "VlOzOABUCIq4"
      },
      "execution_count": 32,
      "outputs": []
    },
    {
      "cell_type": "code",
      "source": [
        "Forestry_df.iloc[[0, -1]]"
      ],
      "metadata": {
        "colab": {
          "base_uri": "https://localhost:8080/",
          "height": 112
        },
        "id": "tL4wfv3jWP9O",
        "outputId": "2fb5f10b-3ac0-4b68-9c2c-8277a242b2fd"
      },
      "execution_count": 33,
      "outputs": [
        {
          "output_type": "execute_result",
          "data": {
            "text/plain": [
              "              경락일  공영도매시장코드      도매시장  품목코드    품목  세부품목코드 세부품목  거래량  거래단량  \\\n",
              "0        20160102    350301    익산도매시장  1704  표고버섯  170499   기타    7   4.0   \n",
              "2234726  20210331    380303  창원내서도매시장  1403    두릅  140305  참두릅    1   0.5   \n",
              "\n",
              "           규격코드      규격 등급코드   등급     가격  \n",
              "0        120100  kg 상자    1C  무농약  37000  \n",
              "2234726  120100  kg 상자    13   보통   6000  "
            ],
            "text/html": [
              "\n",
              "  <div id=\"df-23b0b2d9-b67a-4e42-9c11-b9b7f551b9f3\">\n",
              "    <div class=\"colab-df-container\">\n",
              "      <div>\n",
              "<style scoped>\n",
              "    .dataframe tbody tr th:only-of-type {\n",
              "        vertical-align: middle;\n",
              "    }\n",
              "\n",
              "    .dataframe tbody tr th {\n",
              "        vertical-align: top;\n",
              "    }\n",
              "\n",
              "    .dataframe thead th {\n",
              "        text-align: right;\n",
              "    }\n",
              "</style>\n",
              "<table border=\"1\" class=\"dataframe\">\n",
              "  <thead>\n",
              "    <tr style=\"text-align: right;\">\n",
              "      <th></th>\n",
              "      <th>경락일</th>\n",
              "      <th>공영도매시장코드</th>\n",
              "      <th>도매시장</th>\n",
              "      <th>품목코드</th>\n",
              "      <th>품목</th>\n",
              "      <th>세부품목코드</th>\n",
              "      <th>세부품목</th>\n",
              "      <th>거래량</th>\n",
              "      <th>거래단량</th>\n",
              "      <th>규격코드</th>\n",
              "      <th>규격</th>\n",
              "      <th>등급코드</th>\n",
              "      <th>등급</th>\n",
              "      <th>가격</th>\n",
              "    </tr>\n",
              "  </thead>\n",
              "  <tbody>\n",
              "    <tr>\n",
              "      <th>0</th>\n",
              "      <td>20160102</td>\n",
              "      <td>350301</td>\n",
              "      <td>익산도매시장</td>\n",
              "      <td>1704</td>\n",
              "      <td>표고버섯</td>\n",
              "      <td>170499</td>\n",
              "      <td>기타</td>\n",
              "      <td>7</td>\n",
              "      <td>4.0</td>\n",
              "      <td>120100</td>\n",
              "      <td>kg 상자</td>\n",
              "      <td>1C</td>\n",
              "      <td>무농약</td>\n",
              "      <td>37000</td>\n",
              "    </tr>\n",
              "    <tr>\n",
              "      <th>2234726</th>\n",
              "      <td>20210331</td>\n",
              "      <td>380303</td>\n",
              "      <td>창원내서도매시장</td>\n",
              "      <td>1403</td>\n",
              "      <td>두릅</td>\n",
              "      <td>140305</td>\n",
              "      <td>참두릅</td>\n",
              "      <td>1</td>\n",
              "      <td>0.5</td>\n",
              "      <td>120100</td>\n",
              "      <td>kg 상자</td>\n",
              "      <td>13</td>\n",
              "      <td>보통</td>\n",
              "      <td>6000</td>\n",
              "    </tr>\n",
              "  </tbody>\n",
              "</table>\n",
              "</div>\n",
              "      <button class=\"colab-df-convert\" onclick=\"convertToInteractive('df-23b0b2d9-b67a-4e42-9c11-b9b7f551b9f3')\"\n",
              "              title=\"Convert this dataframe to an interactive table.\"\n",
              "              style=\"display:none;\">\n",
              "        \n",
              "  <svg xmlns=\"http://www.w3.org/2000/svg\" height=\"24px\"viewBox=\"0 0 24 24\"\n",
              "       width=\"24px\">\n",
              "    <path d=\"M0 0h24v24H0V0z\" fill=\"none\"/>\n",
              "    <path d=\"M18.56 5.44l.94 2.06.94-2.06 2.06-.94-2.06-.94-.94-2.06-.94 2.06-2.06.94zm-11 1L8.5 8.5l.94-2.06 2.06-.94-2.06-.94L8.5 2.5l-.94 2.06-2.06.94zm10 10l.94 2.06.94-2.06 2.06-.94-2.06-.94-.94-2.06-.94 2.06-2.06.94z\"/><path d=\"M17.41 7.96l-1.37-1.37c-.4-.4-.92-.59-1.43-.59-.52 0-1.04.2-1.43.59L10.3 9.45l-7.72 7.72c-.78.78-.78 2.05 0 2.83L4 21.41c.39.39.9.59 1.41.59.51 0 1.02-.2 1.41-.59l7.78-7.78 2.81-2.81c.8-.78.8-2.07 0-2.86zM5.41 20L4 18.59l7.72-7.72 1.47 1.35L5.41 20z\"/>\n",
              "  </svg>\n",
              "      </button>\n",
              "      \n",
              "  <style>\n",
              "    .colab-df-container {\n",
              "      display:flex;\n",
              "      flex-wrap:wrap;\n",
              "      gap: 12px;\n",
              "    }\n",
              "\n",
              "    .colab-df-convert {\n",
              "      background-color: #E8F0FE;\n",
              "      border: none;\n",
              "      border-radius: 50%;\n",
              "      cursor: pointer;\n",
              "      display: none;\n",
              "      fill: #1967D2;\n",
              "      height: 32px;\n",
              "      padding: 0 0 0 0;\n",
              "      width: 32px;\n",
              "    }\n",
              "\n",
              "    .colab-df-convert:hover {\n",
              "      background-color: #E2EBFA;\n",
              "      box-shadow: 0px 1px 2px rgba(60, 64, 67, 0.3), 0px 1px 3px 1px rgba(60, 64, 67, 0.15);\n",
              "      fill: #174EA6;\n",
              "    }\n",
              "\n",
              "    [theme=dark] .colab-df-convert {\n",
              "      background-color: #3B4455;\n",
              "      fill: #D2E3FC;\n",
              "    }\n",
              "\n",
              "    [theme=dark] .colab-df-convert:hover {\n",
              "      background-color: #434B5C;\n",
              "      box-shadow: 0px 1px 3px 1px rgba(0, 0, 0, 0.15);\n",
              "      filter: drop-shadow(0px 1px 2px rgba(0, 0, 0, 0.3));\n",
              "      fill: #FFFFFF;\n",
              "    }\n",
              "  </style>\n",
              "\n",
              "      <script>\n",
              "        const buttonEl =\n",
              "          document.querySelector('#df-23b0b2d9-b67a-4e42-9c11-b9b7f551b9f3 button.colab-df-convert');\n",
              "        buttonEl.style.display =\n",
              "          google.colab.kernel.accessAllowed ? 'block' : 'none';\n",
              "\n",
              "        async function convertToInteractive(key) {\n",
              "          const element = document.querySelector('#df-23b0b2d9-b67a-4e42-9c11-b9b7f551b9f3');\n",
              "          const dataTable =\n",
              "            await google.colab.kernel.invokeFunction('convertToInteractive',\n",
              "                                                     [key], {});\n",
              "          if (!dataTable) return;\n",
              "\n",
              "          const docLinkHtml = 'Like what you see? Visit the ' +\n",
              "            '<a target=\"_blank\" href=https://colab.research.google.com/notebooks/data_table.ipynb>data table notebook</a>'\n",
              "            + ' to learn more about interactive tables.';\n",
              "          element.innerHTML = '';\n",
              "          dataTable['output_type'] = 'display_data';\n",
              "          await google.colab.output.renderOutput(dataTable, element);\n",
              "          const docLink = document.createElement('div');\n",
              "          docLink.innerHTML = docLinkHtml;\n",
              "          element.appendChild(docLink);\n",
              "        }\n",
              "      </script>\n",
              "    </div>\n",
              "  </div>\n",
              "  "
            ]
          },
          "metadata": {},
          "execution_count": 33
        }
      ]
    },
    {
      "cell_type": "markdown",
      "source": [
        "> 다음으로 사용할 `column`으로 구성된 데이터 프레임을 구성합니다."
      ],
      "metadata": {
        "id": "4KMzRlO2WXJv"
      }
    },
    {
      "cell_type": "code",
      "source": [
        "target_columns = ['경락일', '도매시장', '품목', '세부품목', '거래단량', '거래량', '규격', '등급', '가격']"
      ],
      "metadata": {
        "id": "Dmaf3txJWaGg"
      },
      "execution_count": 34,
      "outputs": []
    },
    {
      "cell_type": "code",
      "source": [
        "Forestry_df = Forestry_df[target_columns]"
      ],
      "metadata": {
        "id": "j7loaUL0j10D"
      },
      "execution_count": 35,
      "outputs": []
    },
    {
      "cell_type": "code",
      "source": [
        "Forestry_df.head()"
      ],
      "metadata": {
        "colab": {
          "base_uri": "https://localhost:8080/",
          "height": 206
        },
        "id": "dgOYsvwrj_or",
        "outputId": "1663432e-9016-40a4-90a9-659758997c92"
      },
      "execution_count": 36,
      "outputs": [
        {
          "output_type": "execute_result",
          "data": {
            "text/plain": [
              "        경락일    도매시장    품목 세부품목  거래단량  거래량         규격   등급     가격\n",
              "0  20160102  익산도매시장  표고버섯   기타   4.0    7     kg 상자   무농약  37000\n",
              "1  20160102  부산엄궁도매  표고버섯  생표고   1.0    2  kg P-BOX    보통   4000\n",
              "2  20160102  부산엄궁도매  표고버섯  생표고   0.1  240  kg P-BOX    보통    260\n",
              "3  20160102  부산엄궁도매  표고버섯  생표고   0.1  190  kg P-BOX    보통    460\n",
              "4  20160102  부산엄궁도매  표고버섯  생표고   0.1  179  kg P-BOX    보통    280"
            ],
            "text/html": [
              "\n",
              "  <div id=\"df-de0ffa4d-a29c-4e77-a544-c458654dc77a\">\n",
              "    <div class=\"colab-df-container\">\n",
              "      <div>\n",
              "<style scoped>\n",
              "    .dataframe tbody tr th:only-of-type {\n",
              "        vertical-align: middle;\n",
              "    }\n",
              "\n",
              "    .dataframe tbody tr th {\n",
              "        vertical-align: top;\n",
              "    }\n",
              "\n",
              "    .dataframe thead th {\n",
              "        text-align: right;\n",
              "    }\n",
              "</style>\n",
              "<table border=\"1\" class=\"dataframe\">\n",
              "  <thead>\n",
              "    <tr style=\"text-align: right;\">\n",
              "      <th></th>\n",
              "      <th>경락일</th>\n",
              "      <th>도매시장</th>\n",
              "      <th>품목</th>\n",
              "      <th>세부품목</th>\n",
              "      <th>거래단량</th>\n",
              "      <th>거래량</th>\n",
              "      <th>규격</th>\n",
              "      <th>등급</th>\n",
              "      <th>가격</th>\n",
              "    </tr>\n",
              "  </thead>\n",
              "  <tbody>\n",
              "    <tr>\n",
              "      <th>0</th>\n",
              "      <td>20160102</td>\n",
              "      <td>익산도매시장</td>\n",
              "      <td>표고버섯</td>\n",
              "      <td>기타</td>\n",
              "      <td>4.0</td>\n",
              "      <td>7</td>\n",
              "      <td>kg 상자</td>\n",
              "      <td>무농약</td>\n",
              "      <td>37000</td>\n",
              "    </tr>\n",
              "    <tr>\n",
              "      <th>1</th>\n",
              "      <td>20160102</td>\n",
              "      <td>부산엄궁도매</td>\n",
              "      <td>표고버섯</td>\n",
              "      <td>생표고</td>\n",
              "      <td>1.0</td>\n",
              "      <td>2</td>\n",
              "      <td>kg P-BOX</td>\n",
              "      <td>보통</td>\n",
              "      <td>4000</td>\n",
              "    </tr>\n",
              "    <tr>\n",
              "      <th>2</th>\n",
              "      <td>20160102</td>\n",
              "      <td>부산엄궁도매</td>\n",
              "      <td>표고버섯</td>\n",
              "      <td>생표고</td>\n",
              "      <td>0.1</td>\n",
              "      <td>240</td>\n",
              "      <td>kg P-BOX</td>\n",
              "      <td>보통</td>\n",
              "      <td>260</td>\n",
              "    </tr>\n",
              "    <tr>\n",
              "      <th>3</th>\n",
              "      <td>20160102</td>\n",
              "      <td>부산엄궁도매</td>\n",
              "      <td>표고버섯</td>\n",
              "      <td>생표고</td>\n",
              "      <td>0.1</td>\n",
              "      <td>190</td>\n",
              "      <td>kg P-BOX</td>\n",
              "      <td>보통</td>\n",
              "      <td>460</td>\n",
              "    </tr>\n",
              "    <tr>\n",
              "      <th>4</th>\n",
              "      <td>20160102</td>\n",
              "      <td>부산엄궁도매</td>\n",
              "      <td>표고버섯</td>\n",
              "      <td>생표고</td>\n",
              "      <td>0.1</td>\n",
              "      <td>179</td>\n",
              "      <td>kg P-BOX</td>\n",
              "      <td>보통</td>\n",
              "      <td>280</td>\n",
              "    </tr>\n",
              "  </tbody>\n",
              "</table>\n",
              "</div>\n",
              "      <button class=\"colab-df-convert\" onclick=\"convertToInteractive('df-de0ffa4d-a29c-4e77-a544-c458654dc77a')\"\n",
              "              title=\"Convert this dataframe to an interactive table.\"\n",
              "              style=\"display:none;\">\n",
              "        \n",
              "  <svg xmlns=\"http://www.w3.org/2000/svg\" height=\"24px\"viewBox=\"0 0 24 24\"\n",
              "       width=\"24px\">\n",
              "    <path d=\"M0 0h24v24H0V0z\" fill=\"none\"/>\n",
              "    <path d=\"M18.56 5.44l.94 2.06.94-2.06 2.06-.94-2.06-.94-.94-2.06-.94 2.06-2.06.94zm-11 1L8.5 8.5l.94-2.06 2.06-.94-2.06-.94L8.5 2.5l-.94 2.06-2.06.94zm10 10l.94 2.06.94-2.06 2.06-.94-2.06-.94-.94-2.06-.94 2.06-2.06.94z\"/><path d=\"M17.41 7.96l-1.37-1.37c-.4-.4-.92-.59-1.43-.59-.52 0-1.04.2-1.43.59L10.3 9.45l-7.72 7.72c-.78.78-.78 2.05 0 2.83L4 21.41c.39.39.9.59 1.41.59.51 0 1.02-.2 1.41-.59l7.78-7.78 2.81-2.81c.8-.78.8-2.07 0-2.86zM5.41 20L4 18.59l7.72-7.72 1.47 1.35L5.41 20z\"/>\n",
              "  </svg>\n",
              "      </button>\n",
              "      \n",
              "  <style>\n",
              "    .colab-df-container {\n",
              "      display:flex;\n",
              "      flex-wrap:wrap;\n",
              "      gap: 12px;\n",
              "    }\n",
              "\n",
              "    .colab-df-convert {\n",
              "      background-color: #E8F0FE;\n",
              "      border: none;\n",
              "      border-radius: 50%;\n",
              "      cursor: pointer;\n",
              "      display: none;\n",
              "      fill: #1967D2;\n",
              "      height: 32px;\n",
              "      padding: 0 0 0 0;\n",
              "      width: 32px;\n",
              "    }\n",
              "\n",
              "    .colab-df-convert:hover {\n",
              "      background-color: #E2EBFA;\n",
              "      box-shadow: 0px 1px 2px rgba(60, 64, 67, 0.3), 0px 1px 3px 1px rgba(60, 64, 67, 0.15);\n",
              "      fill: #174EA6;\n",
              "    }\n",
              "\n",
              "    [theme=dark] .colab-df-convert {\n",
              "      background-color: #3B4455;\n",
              "      fill: #D2E3FC;\n",
              "    }\n",
              "\n",
              "    [theme=dark] .colab-df-convert:hover {\n",
              "      background-color: #434B5C;\n",
              "      box-shadow: 0px 1px 3px 1px rgba(0, 0, 0, 0.15);\n",
              "      filter: drop-shadow(0px 1px 2px rgba(0, 0, 0, 0.3));\n",
              "      fill: #FFFFFF;\n",
              "    }\n",
              "  </style>\n",
              "\n",
              "      <script>\n",
              "        const buttonEl =\n",
              "          document.querySelector('#df-de0ffa4d-a29c-4e77-a544-c458654dc77a button.colab-df-convert');\n",
              "        buttonEl.style.display =\n",
              "          google.colab.kernel.accessAllowed ? 'block' : 'none';\n",
              "\n",
              "        async function convertToInteractive(key) {\n",
              "          const element = document.querySelector('#df-de0ffa4d-a29c-4e77-a544-c458654dc77a');\n",
              "          const dataTable =\n",
              "            await google.colab.kernel.invokeFunction('convertToInteractive',\n",
              "                                                     [key], {});\n",
              "          if (!dataTable) return;\n",
              "\n",
              "          const docLinkHtml = 'Like what you see? Visit the ' +\n",
              "            '<a target=\"_blank\" href=https://colab.research.google.com/notebooks/data_table.ipynb>data table notebook</a>'\n",
              "            + ' to learn more about interactive tables.';\n",
              "          element.innerHTML = '';\n",
              "          dataTable['output_type'] = 'display_data';\n",
              "          await google.colab.output.renderOutput(dataTable, element);\n",
              "          const docLink = document.createElement('div');\n",
              "          docLink.innerHTML = docLinkHtml;\n",
              "          element.appendChild(docLink);\n",
              "        }\n",
              "      </script>\n",
              "    </div>\n",
              "  </div>\n",
              "  "
            ]
          },
          "metadata": {},
          "execution_count": 36
        }
      ]
    },
    {
      "cell_type": "markdown",
      "source": [
        "> 본 프로젝트에서 사용하고자 하는 데이터는 복분자에 관련된 데이터이므로 품목이 복분자인 데이터만 선택해 데이터 프레임을 생성합니다.\n",
        ">\n",
        ">> 생산지에서 생산된 복분자는 비단 전라북도 지역뿐만 아니라 전국적으로 거래될 것이라고 판단하므로 도매시장을 필터링할 필요는 없다고 생각했습니다."
      ],
      "metadata": {
        "id": "ZxbAwHMSkD-A"
      }
    },
    {
      "cell_type": "code",
      "source": [
        "korean_black_raspberry_df = Forestry_df[Forestry_df['품목']==\"복분자\"]"
      ],
      "metadata": {
        "id": "pSkN5MdEkpbL"
      },
      "execution_count": 37,
      "outputs": []
    },
    {
      "cell_type": "code",
      "source": [
        "korean_black_raspberry_df.head()"
      ],
      "metadata": {
        "colab": {
          "base_uri": "https://localhost:8080/",
          "height": 206
        },
        "id": "2BFjvh_olJot",
        "outputId": "d5da57ee-1477-4a9d-dc67-4b17a8de7696"
      },
      "execution_count": 38,
      "outputs": [
        {
          "output_type": "execute_result",
          "data": {
            "text/plain": [
              "             경락일    도매시장   품목     세부품목  거래단량  거래량     규격 등급     가격\n",
              "552457  20160426  부산반여도매  복분자  복분자(일반)   1.0    1  kg     특  10000\n",
              "560385  20160427  부산반여도매  복분자  복분자(일반)   1.0    1  kg     특   9000\n",
              "573904  20160429  부산반여도매  복분자  복분자(일반)   1.0    3  kg     특  10200\n",
              "590930  20160502  부산반여도매  복분자  복분자(일반)   1.0   10  kg     특  11500\n",
              "603463  20160504  부산반여도매  복분자  복분자(일반)   1.0   10  kg     특  11700"
            ],
            "text/html": [
              "\n",
              "  <div id=\"df-8835bd9c-a79b-4fe7-8bc8-f97732495a00\">\n",
              "    <div class=\"colab-df-container\">\n",
              "      <div>\n",
              "<style scoped>\n",
              "    .dataframe tbody tr th:only-of-type {\n",
              "        vertical-align: middle;\n",
              "    }\n",
              "\n",
              "    .dataframe tbody tr th {\n",
              "        vertical-align: top;\n",
              "    }\n",
              "\n",
              "    .dataframe thead th {\n",
              "        text-align: right;\n",
              "    }\n",
              "</style>\n",
              "<table border=\"1\" class=\"dataframe\">\n",
              "  <thead>\n",
              "    <tr style=\"text-align: right;\">\n",
              "      <th></th>\n",
              "      <th>경락일</th>\n",
              "      <th>도매시장</th>\n",
              "      <th>품목</th>\n",
              "      <th>세부품목</th>\n",
              "      <th>거래단량</th>\n",
              "      <th>거래량</th>\n",
              "      <th>규격</th>\n",
              "      <th>등급</th>\n",
              "      <th>가격</th>\n",
              "    </tr>\n",
              "  </thead>\n",
              "  <tbody>\n",
              "    <tr>\n",
              "      <th>552457</th>\n",
              "      <td>20160426</td>\n",
              "      <td>부산반여도매</td>\n",
              "      <td>복분자</td>\n",
              "      <td>복분자(일반)</td>\n",
              "      <td>1.0</td>\n",
              "      <td>1</td>\n",
              "      <td>kg</td>\n",
              "      <td>특</td>\n",
              "      <td>10000</td>\n",
              "    </tr>\n",
              "    <tr>\n",
              "      <th>560385</th>\n",
              "      <td>20160427</td>\n",
              "      <td>부산반여도매</td>\n",
              "      <td>복분자</td>\n",
              "      <td>복분자(일반)</td>\n",
              "      <td>1.0</td>\n",
              "      <td>1</td>\n",
              "      <td>kg</td>\n",
              "      <td>특</td>\n",
              "      <td>9000</td>\n",
              "    </tr>\n",
              "    <tr>\n",
              "      <th>573904</th>\n",
              "      <td>20160429</td>\n",
              "      <td>부산반여도매</td>\n",
              "      <td>복분자</td>\n",
              "      <td>복분자(일반)</td>\n",
              "      <td>1.0</td>\n",
              "      <td>3</td>\n",
              "      <td>kg</td>\n",
              "      <td>특</td>\n",
              "      <td>10200</td>\n",
              "    </tr>\n",
              "    <tr>\n",
              "      <th>590930</th>\n",
              "      <td>20160502</td>\n",
              "      <td>부산반여도매</td>\n",
              "      <td>복분자</td>\n",
              "      <td>복분자(일반)</td>\n",
              "      <td>1.0</td>\n",
              "      <td>10</td>\n",
              "      <td>kg</td>\n",
              "      <td>특</td>\n",
              "      <td>11500</td>\n",
              "    </tr>\n",
              "    <tr>\n",
              "      <th>603463</th>\n",
              "      <td>20160504</td>\n",
              "      <td>부산반여도매</td>\n",
              "      <td>복분자</td>\n",
              "      <td>복분자(일반)</td>\n",
              "      <td>1.0</td>\n",
              "      <td>10</td>\n",
              "      <td>kg</td>\n",
              "      <td>특</td>\n",
              "      <td>11700</td>\n",
              "    </tr>\n",
              "  </tbody>\n",
              "</table>\n",
              "</div>\n",
              "      <button class=\"colab-df-convert\" onclick=\"convertToInteractive('df-8835bd9c-a79b-4fe7-8bc8-f97732495a00')\"\n",
              "              title=\"Convert this dataframe to an interactive table.\"\n",
              "              style=\"display:none;\">\n",
              "        \n",
              "  <svg xmlns=\"http://www.w3.org/2000/svg\" height=\"24px\"viewBox=\"0 0 24 24\"\n",
              "       width=\"24px\">\n",
              "    <path d=\"M0 0h24v24H0V0z\" fill=\"none\"/>\n",
              "    <path d=\"M18.56 5.44l.94 2.06.94-2.06 2.06-.94-2.06-.94-.94-2.06-.94 2.06-2.06.94zm-11 1L8.5 8.5l.94-2.06 2.06-.94-2.06-.94L8.5 2.5l-.94 2.06-2.06.94zm10 10l.94 2.06.94-2.06 2.06-.94-2.06-.94-.94-2.06-.94 2.06-2.06.94z\"/><path d=\"M17.41 7.96l-1.37-1.37c-.4-.4-.92-.59-1.43-.59-.52 0-1.04.2-1.43.59L10.3 9.45l-7.72 7.72c-.78.78-.78 2.05 0 2.83L4 21.41c.39.39.9.59 1.41.59.51 0 1.02-.2 1.41-.59l7.78-7.78 2.81-2.81c.8-.78.8-2.07 0-2.86zM5.41 20L4 18.59l7.72-7.72 1.47 1.35L5.41 20z\"/>\n",
              "  </svg>\n",
              "      </button>\n",
              "      \n",
              "  <style>\n",
              "    .colab-df-container {\n",
              "      display:flex;\n",
              "      flex-wrap:wrap;\n",
              "      gap: 12px;\n",
              "    }\n",
              "\n",
              "    .colab-df-convert {\n",
              "      background-color: #E8F0FE;\n",
              "      border: none;\n",
              "      border-radius: 50%;\n",
              "      cursor: pointer;\n",
              "      display: none;\n",
              "      fill: #1967D2;\n",
              "      height: 32px;\n",
              "      padding: 0 0 0 0;\n",
              "      width: 32px;\n",
              "    }\n",
              "\n",
              "    .colab-df-convert:hover {\n",
              "      background-color: #E2EBFA;\n",
              "      box-shadow: 0px 1px 2px rgba(60, 64, 67, 0.3), 0px 1px 3px 1px rgba(60, 64, 67, 0.15);\n",
              "      fill: #174EA6;\n",
              "    }\n",
              "\n",
              "    [theme=dark] .colab-df-convert {\n",
              "      background-color: #3B4455;\n",
              "      fill: #D2E3FC;\n",
              "    }\n",
              "\n",
              "    [theme=dark] .colab-df-convert:hover {\n",
              "      background-color: #434B5C;\n",
              "      box-shadow: 0px 1px 3px 1px rgba(0, 0, 0, 0.15);\n",
              "      filter: drop-shadow(0px 1px 2px rgba(0, 0, 0, 0.3));\n",
              "      fill: #FFFFFF;\n",
              "    }\n",
              "  </style>\n",
              "\n",
              "      <script>\n",
              "        const buttonEl =\n",
              "          document.querySelector('#df-8835bd9c-a79b-4fe7-8bc8-f97732495a00 button.colab-df-convert');\n",
              "        buttonEl.style.display =\n",
              "          google.colab.kernel.accessAllowed ? 'block' : 'none';\n",
              "\n",
              "        async function convertToInteractive(key) {\n",
              "          const element = document.querySelector('#df-8835bd9c-a79b-4fe7-8bc8-f97732495a00');\n",
              "          const dataTable =\n",
              "            await google.colab.kernel.invokeFunction('convertToInteractive',\n",
              "                                                     [key], {});\n",
              "          if (!dataTable) return;\n",
              "\n",
              "          const docLinkHtml = 'Like what you see? Visit the ' +\n",
              "            '<a target=\"_blank\" href=https://colab.research.google.com/notebooks/data_table.ipynb>data table notebook</a>'\n",
              "            + ' to learn more about interactive tables.';\n",
              "          element.innerHTML = '';\n",
              "          dataTable['output_type'] = 'display_data';\n",
              "          await google.colab.output.renderOutput(dataTable, element);\n",
              "          const docLink = document.createElement('div');\n",
              "          docLink.innerHTML = docLinkHtml;\n",
              "          element.appendChild(docLink);\n",
              "        }\n",
              "      </script>\n",
              "    </div>\n",
              "  </div>\n",
              "  "
            ]
          },
          "metadata": {},
          "execution_count": 38
        }
      ]
    },
    {
      "cell_type": "markdown",
      "source": [
        "> `규격`의 경우 추후 계산을 위해 동일한 문자열로 구성되어있는지 확인할 필요가 있습니다."
      ],
      "metadata": {
        "id": "4DK67_lJlMnG"
      }
    },
    {
      "cell_type": "code",
      "source": [
        "korean_black_raspberry_df['규격'].unique()"
      ],
      "metadata": {
        "colab": {
          "base_uri": "https://localhost:8080/"
        },
        "id": "dVbceUF-lXER",
        "outputId": "90c1e6b3-b9ce-442a-e0b8-c6d6c903b549"
      },
      "execution_count": 39,
      "outputs": [
        {
          "output_type": "execute_result",
          "data": {
            "text/plain": [
              "array(['kg   ', 'kg 상자 ', 'kg 개 ', 'kg 접시용기 트레이 ', 'kg 상자 1개',\n",
              "       'kg P-BOX ', 'kg   1개', 'g P-BOX ', 'kg 상자 11개', 'kg 그물망 ',\n",
              "       'kg PE대 ', 'g 단 ', 'kg 파렛트 ', 'kg 상자 50내'], dtype=object)"
            ]
          },
          "metadata": {},
          "execution_count": 39
        }
      ]
    },
    {
      "cell_type": "markdown",
      "source": [
        "> 하지만 이처럼 다양한 규격 표기법이 있음을 발견할 수 있습니다.\n",
        ">\n",
        "> 잘 살펴보면 kg이 포함된 문자열 또는 g이 포함된 문자열로 구성되어 있음을 알 수 있습니다.\n",
        "> \n",
        "> 따라서 kg을 포함한 문자열이라면 kg으로 변환해주고 아니라면 g으로 변환해줍니다."
      ],
      "metadata": {
        "id": "ACGHV86wlbbj"
      }
    },
    {
      "cell_type": "code",
      "source": [
        "new_standard_representations = ['kg' if 'kg' in rep else 'g' for rep in korean_black_raspberry_df['규격']]\n",
        "korean_black_raspberry_df.loc[:, '규격'] = new_standard_representations"
      ],
      "metadata": {
        "id": "Cg4L2ZI8lsP0",
        "colab": {
          "base_uri": "https://localhost:8080/"
        },
        "outputId": "2152974d-4f9e-407e-a468-5b9a1be9ed25"
      },
      "execution_count": 40,
      "outputs": [
        {
          "output_type": "stream",
          "name": "stderr",
          "text": [
            "/usr/local/lib/python3.7/dist-packages/pandas/core/indexing.py:1773: SettingWithCopyWarning: \n",
            "A value is trying to be set on a copy of a slice from a DataFrame.\n",
            "Try using .loc[row_indexer,col_indexer] = value instead\n",
            "\n",
            "See the caveats in the documentation: https://pandas.pydata.org/pandas-docs/stable/user_guide/indexing.html#returning-a-view-versus-a-copy\n",
            "  self._setitem_single_column(ilocs[0], value, pi)\n"
          ]
        }
      ]
    },
    {
      "cell_type": "code",
      "source": [
        "korean_black_raspberry_df['규격'].unique()"
      ],
      "metadata": {
        "colab": {
          "base_uri": "https://localhost:8080/"
        },
        "id": "rXd_NPMKnfqe",
        "outputId": "4581762c-4f57-4d1b-c5a6-567effe8afcb"
      },
      "execution_count": 41,
      "outputs": [
        {
          "output_type": "execute_result",
          "data": {
            "text/plain": [
              "array(['kg', 'g'], dtype=object)"
            ]
          },
          "metadata": {},
          "execution_count": 41
        }
      ]
    },
    {
      "cell_type": "code",
      "source": [
        "korean_black_raspberry_df.head()"
      ],
      "metadata": {
        "colab": {
          "base_uri": "https://localhost:8080/",
          "height": 206
        },
        "id": "dj6e_2-lmqqf",
        "outputId": "151c8626-aa42-47b4-84be-3a078882b366"
      },
      "execution_count": 42,
      "outputs": [
        {
          "output_type": "execute_result",
          "data": {
            "text/plain": [
              "             경락일    도매시장   품목     세부품목  거래단량  거래량  규격 등급     가격\n",
              "552457  20160426  부산반여도매  복분자  복분자(일반)   1.0    1  kg  특  10000\n",
              "560385  20160427  부산반여도매  복분자  복분자(일반)   1.0    1  kg  특   9000\n",
              "573904  20160429  부산반여도매  복분자  복분자(일반)   1.0    3  kg  특  10200\n",
              "590930  20160502  부산반여도매  복분자  복분자(일반)   1.0   10  kg  특  11500\n",
              "603463  20160504  부산반여도매  복분자  복분자(일반)   1.0   10  kg  특  11700"
            ],
            "text/html": [
              "\n",
              "  <div id=\"df-5fa7c682-15c6-4619-9d11-03235cc8a0ba\">\n",
              "    <div class=\"colab-df-container\">\n",
              "      <div>\n",
              "<style scoped>\n",
              "    .dataframe tbody tr th:only-of-type {\n",
              "        vertical-align: middle;\n",
              "    }\n",
              "\n",
              "    .dataframe tbody tr th {\n",
              "        vertical-align: top;\n",
              "    }\n",
              "\n",
              "    .dataframe thead th {\n",
              "        text-align: right;\n",
              "    }\n",
              "</style>\n",
              "<table border=\"1\" class=\"dataframe\">\n",
              "  <thead>\n",
              "    <tr style=\"text-align: right;\">\n",
              "      <th></th>\n",
              "      <th>경락일</th>\n",
              "      <th>도매시장</th>\n",
              "      <th>품목</th>\n",
              "      <th>세부품목</th>\n",
              "      <th>거래단량</th>\n",
              "      <th>거래량</th>\n",
              "      <th>규격</th>\n",
              "      <th>등급</th>\n",
              "      <th>가격</th>\n",
              "    </tr>\n",
              "  </thead>\n",
              "  <tbody>\n",
              "    <tr>\n",
              "      <th>552457</th>\n",
              "      <td>20160426</td>\n",
              "      <td>부산반여도매</td>\n",
              "      <td>복분자</td>\n",
              "      <td>복분자(일반)</td>\n",
              "      <td>1.0</td>\n",
              "      <td>1</td>\n",
              "      <td>kg</td>\n",
              "      <td>특</td>\n",
              "      <td>10000</td>\n",
              "    </tr>\n",
              "    <tr>\n",
              "      <th>560385</th>\n",
              "      <td>20160427</td>\n",
              "      <td>부산반여도매</td>\n",
              "      <td>복분자</td>\n",
              "      <td>복분자(일반)</td>\n",
              "      <td>1.0</td>\n",
              "      <td>1</td>\n",
              "      <td>kg</td>\n",
              "      <td>특</td>\n",
              "      <td>9000</td>\n",
              "    </tr>\n",
              "    <tr>\n",
              "      <th>573904</th>\n",
              "      <td>20160429</td>\n",
              "      <td>부산반여도매</td>\n",
              "      <td>복분자</td>\n",
              "      <td>복분자(일반)</td>\n",
              "      <td>1.0</td>\n",
              "      <td>3</td>\n",
              "      <td>kg</td>\n",
              "      <td>특</td>\n",
              "      <td>10200</td>\n",
              "    </tr>\n",
              "    <tr>\n",
              "      <th>590930</th>\n",
              "      <td>20160502</td>\n",
              "      <td>부산반여도매</td>\n",
              "      <td>복분자</td>\n",
              "      <td>복분자(일반)</td>\n",
              "      <td>1.0</td>\n",
              "      <td>10</td>\n",
              "      <td>kg</td>\n",
              "      <td>특</td>\n",
              "      <td>11500</td>\n",
              "    </tr>\n",
              "    <tr>\n",
              "      <th>603463</th>\n",
              "      <td>20160504</td>\n",
              "      <td>부산반여도매</td>\n",
              "      <td>복분자</td>\n",
              "      <td>복분자(일반)</td>\n",
              "      <td>1.0</td>\n",
              "      <td>10</td>\n",
              "      <td>kg</td>\n",
              "      <td>특</td>\n",
              "      <td>11700</td>\n",
              "    </tr>\n",
              "  </tbody>\n",
              "</table>\n",
              "</div>\n",
              "      <button class=\"colab-df-convert\" onclick=\"convertToInteractive('df-5fa7c682-15c6-4619-9d11-03235cc8a0ba')\"\n",
              "              title=\"Convert this dataframe to an interactive table.\"\n",
              "              style=\"display:none;\">\n",
              "        \n",
              "  <svg xmlns=\"http://www.w3.org/2000/svg\" height=\"24px\"viewBox=\"0 0 24 24\"\n",
              "       width=\"24px\">\n",
              "    <path d=\"M0 0h24v24H0V0z\" fill=\"none\"/>\n",
              "    <path d=\"M18.56 5.44l.94 2.06.94-2.06 2.06-.94-2.06-.94-.94-2.06-.94 2.06-2.06.94zm-11 1L8.5 8.5l.94-2.06 2.06-.94-2.06-.94L8.5 2.5l-.94 2.06-2.06.94zm10 10l.94 2.06.94-2.06 2.06-.94-2.06-.94-.94-2.06-.94 2.06-2.06.94z\"/><path d=\"M17.41 7.96l-1.37-1.37c-.4-.4-.92-.59-1.43-.59-.52 0-1.04.2-1.43.59L10.3 9.45l-7.72 7.72c-.78.78-.78 2.05 0 2.83L4 21.41c.39.39.9.59 1.41.59.51 0 1.02-.2 1.41-.59l7.78-7.78 2.81-2.81c.8-.78.8-2.07 0-2.86zM5.41 20L4 18.59l7.72-7.72 1.47 1.35L5.41 20z\"/>\n",
              "  </svg>\n",
              "      </button>\n",
              "      \n",
              "  <style>\n",
              "    .colab-df-container {\n",
              "      display:flex;\n",
              "      flex-wrap:wrap;\n",
              "      gap: 12px;\n",
              "    }\n",
              "\n",
              "    .colab-df-convert {\n",
              "      background-color: #E8F0FE;\n",
              "      border: none;\n",
              "      border-radius: 50%;\n",
              "      cursor: pointer;\n",
              "      display: none;\n",
              "      fill: #1967D2;\n",
              "      height: 32px;\n",
              "      padding: 0 0 0 0;\n",
              "      width: 32px;\n",
              "    }\n",
              "\n",
              "    .colab-df-convert:hover {\n",
              "      background-color: #E2EBFA;\n",
              "      box-shadow: 0px 1px 2px rgba(60, 64, 67, 0.3), 0px 1px 3px 1px rgba(60, 64, 67, 0.15);\n",
              "      fill: #174EA6;\n",
              "    }\n",
              "\n",
              "    [theme=dark] .colab-df-convert {\n",
              "      background-color: #3B4455;\n",
              "      fill: #D2E3FC;\n",
              "    }\n",
              "\n",
              "    [theme=dark] .colab-df-convert:hover {\n",
              "      background-color: #434B5C;\n",
              "      box-shadow: 0px 1px 3px 1px rgba(0, 0, 0, 0.15);\n",
              "      filter: drop-shadow(0px 1px 2px rgba(0, 0, 0, 0.3));\n",
              "      fill: #FFFFFF;\n",
              "    }\n",
              "  </style>\n",
              "\n",
              "      <script>\n",
              "        const buttonEl =\n",
              "          document.querySelector('#df-5fa7c682-15c6-4619-9d11-03235cc8a0ba button.colab-df-convert');\n",
              "        buttonEl.style.display =\n",
              "          google.colab.kernel.accessAllowed ? 'block' : 'none';\n",
              "\n",
              "        async function convertToInteractive(key) {\n",
              "          const element = document.querySelector('#df-5fa7c682-15c6-4619-9d11-03235cc8a0ba');\n",
              "          const dataTable =\n",
              "            await google.colab.kernel.invokeFunction('convertToInteractive',\n",
              "                                                     [key], {});\n",
              "          if (!dataTable) return;\n",
              "\n",
              "          const docLinkHtml = 'Like what you see? Visit the ' +\n",
              "            '<a target=\"_blank\" href=https://colab.research.google.com/notebooks/data_table.ipynb>data table notebook</a>'\n",
              "            + ' to learn more about interactive tables.';\n",
              "          element.innerHTML = '';\n",
              "          dataTable['output_type'] = 'display_data';\n",
              "          await google.colab.output.renderOutput(dataTable, element);\n",
              "          const docLink = document.createElement('div');\n",
              "          docLink.innerHTML = docLinkHtml;\n",
              "          element.appendChild(docLink);\n",
              "        }\n",
              "      </script>\n",
              "    </div>\n",
              "  </div>\n",
              "  "
            ]
          },
          "metadata": {},
          "execution_count": 42
        }
      ]
    },
    {
      "cell_type": "markdown",
      "source": [
        "> 복분자만 가져와 인덱스가 섞였으므로 인덱스를 초기화시켜줍니다."
      ],
      "metadata": {
        "id": "GbWHPreGotou"
      }
    },
    {
      "cell_type": "code",
      "source": [
        "korean_black_raspberry_df = korean_black_raspberry_df.reset_index(drop=True)"
      ],
      "metadata": {
        "id": "M6Fkzy8MoznW"
      },
      "execution_count": 43,
      "outputs": []
    },
    {
      "cell_type": "code",
      "source": [
        "korean_black_raspberry_df.head()"
      ],
      "metadata": {
        "colab": {
          "base_uri": "https://localhost:8080/",
          "height": 206
        },
        "id": "OtRpmlvVo76K",
        "outputId": "477194b3-5a96-445b-88d8-3ae0f2ae606f"
      },
      "execution_count": 44,
      "outputs": [
        {
          "output_type": "execute_result",
          "data": {
            "text/plain": [
              "        경락일    도매시장   품목     세부품목  거래단량  거래량  규격 등급     가격\n",
              "0  20160426  부산반여도매  복분자  복분자(일반)   1.0    1  kg  특  10000\n",
              "1  20160427  부산반여도매  복분자  복분자(일반)   1.0    1  kg  특   9000\n",
              "2  20160429  부산반여도매  복분자  복분자(일반)   1.0    3  kg  특  10200\n",
              "3  20160502  부산반여도매  복분자  복분자(일반)   1.0   10  kg  특  11500\n",
              "4  20160504  부산반여도매  복분자  복분자(일반)   1.0   10  kg  특  11700"
            ],
            "text/html": [
              "\n",
              "  <div id=\"df-1a21e89b-c96a-4fc8-8552-ccb99e6fa686\">\n",
              "    <div class=\"colab-df-container\">\n",
              "      <div>\n",
              "<style scoped>\n",
              "    .dataframe tbody tr th:only-of-type {\n",
              "        vertical-align: middle;\n",
              "    }\n",
              "\n",
              "    .dataframe tbody tr th {\n",
              "        vertical-align: top;\n",
              "    }\n",
              "\n",
              "    .dataframe thead th {\n",
              "        text-align: right;\n",
              "    }\n",
              "</style>\n",
              "<table border=\"1\" class=\"dataframe\">\n",
              "  <thead>\n",
              "    <tr style=\"text-align: right;\">\n",
              "      <th></th>\n",
              "      <th>경락일</th>\n",
              "      <th>도매시장</th>\n",
              "      <th>품목</th>\n",
              "      <th>세부품목</th>\n",
              "      <th>거래단량</th>\n",
              "      <th>거래량</th>\n",
              "      <th>규격</th>\n",
              "      <th>등급</th>\n",
              "      <th>가격</th>\n",
              "    </tr>\n",
              "  </thead>\n",
              "  <tbody>\n",
              "    <tr>\n",
              "      <th>0</th>\n",
              "      <td>20160426</td>\n",
              "      <td>부산반여도매</td>\n",
              "      <td>복분자</td>\n",
              "      <td>복분자(일반)</td>\n",
              "      <td>1.0</td>\n",
              "      <td>1</td>\n",
              "      <td>kg</td>\n",
              "      <td>특</td>\n",
              "      <td>10000</td>\n",
              "    </tr>\n",
              "    <tr>\n",
              "      <th>1</th>\n",
              "      <td>20160427</td>\n",
              "      <td>부산반여도매</td>\n",
              "      <td>복분자</td>\n",
              "      <td>복분자(일반)</td>\n",
              "      <td>1.0</td>\n",
              "      <td>1</td>\n",
              "      <td>kg</td>\n",
              "      <td>특</td>\n",
              "      <td>9000</td>\n",
              "    </tr>\n",
              "    <tr>\n",
              "      <th>2</th>\n",
              "      <td>20160429</td>\n",
              "      <td>부산반여도매</td>\n",
              "      <td>복분자</td>\n",
              "      <td>복분자(일반)</td>\n",
              "      <td>1.0</td>\n",
              "      <td>3</td>\n",
              "      <td>kg</td>\n",
              "      <td>특</td>\n",
              "      <td>10200</td>\n",
              "    </tr>\n",
              "    <tr>\n",
              "      <th>3</th>\n",
              "      <td>20160502</td>\n",
              "      <td>부산반여도매</td>\n",
              "      <td>복분자</td>\n",
              "      <td>복분자(일반)</td>\n",
              "      <td>1.0</td>\n",
              "      <td>10</td>\n",
              "      <td>kg</td>\n",
              "      <td>특</td>\n",
              "      <td>11500</td>\n",
              "    </tr>\n",
              "    <tr>\n",
              "      <th>4</th>\n",
              "      <td>20160504</td>\n",
              "      <td>부산반여도매</td>\n",
              "      <td>복분자</td>\n",
              "      <td>복분자(일반)</td>\n",
              "      <td>1.0</td>\n",
              "      <td>10</td>\n",
              "      <td>kg</td>\n",
              "      <td>특</td>\n",
              "      <td>11700</td>\n",
              "    </tr>\n",
              "  </tbody>\n",
              "</table>\n",
              "</div>\n",
              "      <button class=\"colab-df-convert\" onclick=\"convertToInteractive('df-1a21e89b-c96a-4fc8-8552-ccb99e6fa686')\"\n",
              "              title=\"Convert this dataframe to an interactive table.\"\n",
              "              style=\"display:none;\">\n",
              "        \n",
              "  <svg xmlns=\"http://www.w3.org/2000/svg\" height=\"24px\"viewBox=\"0 0 24 24\"\n",
              "       width=\"24px\">\n",
              "    <path d=\"M0 0h24v24H0V0z\" fill=\"none\"/>\n",
              "    <path d=\"M18.56 5.44l.94 2.06.94-2.06 2.06-.94-2.06-.94-.94-2.06-.94 2.06-2.06.94zm-11 1L8.5 8.5l.94-2.06 2.06-.94-2.06-.94L8.5 2.5l-.94 2.06-2.06.94zm10 10l.94 2.06.94-2.06 2.06-.94-2.06-.94-.94-2.06-.94 2.06-2.06.94z\"/><path d=\"M17.41 7.96l-1.37-1.37c-.4-.4-.92-.59-1.43-.59-.52 0-1.04.2-1.43.59L10.3 9.45l-7.72 7.72c-.78.78-.78 2.05 0 2.83L4 21.41c.39.39.9.59 1.41.59.51 0 1.02-.2 1.41-.59l7.78-7.78 2.81-2.81c.8-.78.8-2.07 0-2.86zM5.41 20L4 18.59l7.72-7.72 1.47 1.35L5.41 20z\"/>\n",
              "  </svg>\n",
              "      </button>\n",
              "      \n",
              "  <style>\n",
              "    .colab-df-container {\n",
              "      display:flex;\n",
              "      flex-wrap:wrap;\n",
              "      gap: 12px;\n",
              "    }\n",
              "\n",
              "    .colab-df-convert {\n",
              "      background-color: #E8F0FE;\n",
              "      border: none;\n",
              "      border-radius: 50%;\n",
              "      cursor: pointer;\n",
              "      display: none;\n",
              "      fill: #1967D2;\n",
              "      height: 32px;\n",
              "      padding: 0 0 0 0;\n",
              "      width: 32px;\n",
              "    }\n",
              "\n",
              "    .colab-df-convert:hover {\n",
              "      background-color: #E2EBFA;\n",
              "      box-shadow: 0px 1px 2px rgba(60, 64, 67, 0.3), 0px 1px 3px 1px rgba(60, 64, 67, 0.15);\n",
              "      fill: #174EA6;\n",
              "    }\n",
              "\n",
              "    [theme=dark] .colab-df-convert {\n",
              "      background-color: #3B4455;\n",
              "      fill: #D2E3FC;\n",
              "    }\n",
              "\n",
              "    [theme=dark] .colab-df-convert:hover {\n",
              "      background-color: #434B5C;\n",
              "      box-shadow: 0px 1px 3px 1px rgba(0, 0, 0, 0.15);\n",
              "      filter: drop-shadow(0px 1px 2px rgba(0, 0, 0, 0.3));\n",
              "      fill: #FFFFFF;\n",
              "    }\n",
              "  </style>\n",
              "\n",
              "      <script>\n",
              "        const buttonEl =\n",
              "          document.querySelector('#df-1a21e89b-c96a-4fc8-8552-ccb99e6fa686 button.colab-df-convert');\n",
              "        buttonEl.style.display =\n",
              "          google.colab.kernel.accessAllowed ? 'block' : 'none';\n",
              "\n",
              "        async function convertToInteractive(key) {\n",
              "          const element = document.querySelector('#df-1a21e89b-c96a-4fc8-8552-ccb99e6fa686');\n",
              "          const dataTable =\n",
              "            await google.colab.kernel.invokeFunction('convertToInteractive',\n",
              "                                                     [key], {});\n",
              "          if (!dataTable) return;\n",
              "\n",
              "          const docLinkHtml = 'Like what you see? Visit the ' +\n",
              "            '<a target=\"_blank\" href=https://colab.research.google.com/notebooks/data_table.ipynb>data table notebook</a>'\n",
              "            + ' to learn more about interactive tables.';\n",
              "          element.innerHTML = '';\n",
              "          dataTable['output_type'] = 'display_data';\n",
              "          await google.colab.output.renderOutput(dataTable, element);\n",
              "          const docLink = document.createElement('div');\n",
              "          docLink.innerHTML = docLinkHtml;\n",
              "          element.appendChild(docLink);\n",
              "        }\n",
              "      </script>\n",
              "    </div>\n",
              "  </div>\n",
              "  "
            ]
          },
          "metadata": {},
          "execution_count": 44
        }
      ]
    },
    {
      "cell_type": "markdown",
      "source": [
        "> 다음으로 결측치를 처리하기 위해 데이터 프레임의 `info()` 메소드로 확인해보겠습니다."
      ],
      "metadata": {
        "id": "mtMRCZ1ETWRf"
      }
    },
    {
      "cell_type": "code",
      "source": [
        "korean_black_raspberry_df.info()"
      ],
      "metadata": {
        "colab": {
          "base_uri": "https://localhost:8080/"
        },
        "id": "DjPsMVcDTOre",
        "outputId": "1a028c06-368a-4bec-d017-6990965da82f"
      },
      "execution_count": 45,
      "outputs": [
        {
          "output_type": "stream",
          "name": "stdout",
          "text": [
            "<class 'pandas.core.frame.DataFrame'>\n",
            "RangeIndex: 3532 entries, 0 to 3531\n",
            "Data columns (total 9 columns):\n",
            " #   Column  Non-Null Count  Dtype  \n",
            "---  ------  --------------  -----  \n",
            " 0   경락일     3532 non-null   int64  \n",
            " 1   도매시장    3532 non-null   object \n",
            " 2   품목      3532 non-null   object \n",
            " 3   세부품목    3532 non-null   object \n",
            " 4   거래단량    3532 non-null   float64\n",
            " 5   거래량     3532 non-null   int64  \n",
            " 6   규격      3532 non-null   object \n",
            " 7   등급      3532 non-null   object \n",
            " 8   가격      3532 non-null   int64  \n",
            "dtypes: float64(1), int64(3), object(5)\n",
            "memory usage: 248.5+ KB\n"
          ]
        }
      ]
    },
    {
      "cell_type": "markdown",
      "source": [
        "> 따로 결측치가 발견되지 않았으므로 `날짜` 형식을 앞선 기상 데이터와 마찬가지로 바꿔줍니다.\n",
        ">\n",
        "> 먼저 기존의 `경락일` column의 데이터 타입이 int이므로 str로 형 변환해주고, 데이터의 column들이 모두 한글인 관계로 `경락일` column은 유지하고 `year`, `month`, `day` column만 추가하여 다루기 용이하도록 하겠습니다."
      ],
      "metadata": {
        "id": "5PLDIkvSniLx"
      }
    },
    {
      "cell_type": "code",
      "source": [
        "korean_black_raspberry_df['경락일'] = korean_black_raspberry_df['경락일'].astype(str)\n",
        "\n",
        "temp = pd.to_datetime(korean_black_raspberry_df['경락일'])\n",
        "korean_black_raspberry_df['year'] = temp.dt.year\n",
        "korean_black_raspberry_df['month'] = temp.dt.month\n",
        "korean_black_raspberry_df['day'] = temp.dt.day"
      ],
      "metadata": {
        "id": "QqLl98jnJMdN"
      },
      "execution_count": 46,
      "outputs": []
    },
    {
      "cell_type": "code",
      "source": [
        "korean_black_raspberry_df.head(1)"
      ],
      "metadata": {
        "colab": {
          "base_uri": "https://localhost:8080/",
          "height": 81
        },
        "id": "UoE7naqbK0oM",
        "outputId": "8e88440e-373f-4f9a-d5ee-8b6ed69934d1"
      },
      "execution_count": 47,
      "outputs": [
        {
          "output_type": "execute_result",
          "data": {
            "text/plain": [
              "        경락일    도매시장   품목     세부품목  거래단량  거래량  규격 등급     가격  year  month  day\n",
              "0  20160426  부산반여도매  복분자  복분자(일반)   1.0    1  kg  특  10000  2016      4   26"
            ],
            "text/html": [
              "\n",
              "  <div id=\"df-7dab0fb7-3e73-4a3b-8b58-e3b66202fd5b\">\n",
              "    <div class=\"colab-df-container\">\n",
              "      <div>\n",
              "<style scoped>\n",
              "    .dataframe tbody tr th:only-of-type {\n",
              "        vertical-align: middle;\n",
              "    }\n",
              "\n",
              "    .dataframe tbody tr th {\n",
              "        vertical-align: top;\n",
              "    }\n",
              "\n",
              "    .dataframe thead th {\n",
              "        text-align: right;\n",
              "    }\n",
              "</style>\n",
              "<table border=\"1\" class=\"dataframe\">\n",
              "  <thead>\n",
              "    <tr style=\"text-align: right;\">\n",
              "      <th></th>\n",
              "      <th>경락일</th>\n",
              "      <th>도매시장</th>\n",
              "      <th>품목</th>\n",
              "      <th>세부품목</th>\n",
              "      <th>거래단량</th>\n",
              "      <th>거래량</th>\n",
              "      <th>규격</th>\n",
              "      <th>등급</th>\n",
              "      <th>가격</th>\n",
              "      <th>year</th>\n",
              "      <th>month</th>\n",
              "      <th>day</th>\n",
              "    </tr>\n",
              "  </thead>\n",
              "  <tbody>\n",
              "    <tr>\n",
              "      <th>0</th>\n",
              "      <td>20160426</td>\n",
              "      <td>부산반여도매</td>\n",
              "      <td>복분자</td>\n",
              "      <td>복분자(일반)</td>\n",
              "      <td>1.0</td>\n",
              "      <td>1</td>\n",
              "      <td>kg</td>\n",
              "      <td>특</td>\n",
              "      <td>10000</td>\n",
              "      <td>2016</td>\n",
              "      <td>4</td>\n",
              "      <td>26</td>\n",
              "    </tr>\n",
              "  </tbody>\n",
              "</table>\n",
              "</div>\n",
              "      <button class=\"colab-df-convert\" onclick=\"convertToInteractive('df-7dab0fb7-3e73-4a3b-8b58-e3b66202fd5b')\"\n",
              "              title=\"Convert this dataframe to an interactive table.\"\n",
              "              style=\"display:none;\">\n",
              "        \n",
              "  <svg xmlns=\"http://www.w3.org/2000/svg\" height=\"24px\"viewBox=\"0 0 24 24\"\n",
              "       width=\"24px\">\n",
              "    <path d=\"M0 0h24v24H0V0z\" fill=\"none\"/>\n",
              "    <path d=\"M18.56 5.44l.94 2.06.94-2.06 2.06-.94-2.06-.94-.94-2.06-.94 2.06-2.06.94zm-11 1L8.5 8.5l.94-2.06 2.06-.94-2.06-.94L8.5 2.5l-.94 2.06-2.06.94zm10 10l.94 2.06.94-2.06 2.06-.94-2.06-.94-.94-2.06-.94 2.06-2.06.94z\"/><path d=\"M17.41 7.96l-1.37-1.37c-.4-.4-.92-.59-1.43-.59-.52 0-1.04.2-1.43.59L10.3 9.45l-7.72 7.72c-.78.78-.78 2.05 0 2.83L4 21.41c.39.39.9.59 1.41.59.51 0 1.02-.2 1.41-.59l7.78-7.78 2.81-2.81c.8-.78.8-2.07 0-2.86zM5.41 20L4 18.59l7.72-7.72 1.47 1.35L5.41 20z\"/>\n",
              "  </svg>\n",
              "      </button>\n",
              "      \n",
              "  <style>\n",
              "    .colab-df-container {\n",
              "      display:flex;\n",
              "      flex-wrap:wrap;\n",
              "      gap: 12px;\n",
              "    }\n",
              "\n",
              "    .colab-df-convert {\n",
              "      background-color: #E8F0FE;\n",
              "      border: none;\n",
              "      border-radius: 50%;\n",
              "      cursor: pointer;\n",
              "      display: none;\n",
              "      fill: #1967D2;\n",
              "      height: 32px;\n",
              "      padding: 0 0 0 0;\n",
              "      width: 32px;\n",
              "    }\n",
              "\n",
              "    .colab-df-convert:hover {\n",
              "      background-color: #E2EBFA;\n",
              "      box-shadow: 0px 1px 2px rgba(60, 64, 67, 0.3), 0px 1px 3px 1px rgba(60, 64, 67, 0.15);\n",
              "      fill: #174EA6;\n",
              "    }\n",
              "\n",
              "    [theme=dark] .colab-df-convert {\n",
              "      background-color: #3B4455;\n",
              "      fill: #D2E3FC;\n",
              "    }\n",
              "\n",
              "    [theme=dark] .colab-df-convert:hover {\n",
              "      background-color: #434B5C;\n",
              "      box-shadow: 0px 1px 3px 1px rgba(0, 0, 0, 0.15);\n",
              "      filter: drop-shadow(0px 1px 2px rgba(0, 0, 0, 0.3));\n",
              "      fill: #FFFFFF;\n",
              "    }\n",
              "  </style>\n",
              "\n",
              "      <script>\n",
              "        const buttonEl =\n",
              "          document.querySelector('#df-7dab0fb7-3e73-4a3b-8b58-e3b66202fd5b button.colab-df-convert');\n",
              "        buttonEl.style.display =\n",
              "          google.colab.kernel.accessAllowed ? 'block' : 'none';\n",
              "\n",
              "        async function convertToInteractive(key) {\n",
              "          const element = document.querySelector('#df-7dab0fb7-3e73-4a3b-8b58-e3b66202fd5b');\n",
              "          const dataTable =\n",
              "            await google.colab.kernel.invokeFunction('convertToInteractive',\n",
              "                                                     [key], {});\n",
              "          if (!dataTable) return;\n",
              "\n",
              "          const docLinkHtml = 'Like what you see? Visit the ' +\n",
              "            '<a target=\"_blank\" href=https://colab.research.google.com/notebooks/data_table.ipynb>data table notebook</a>'\n",
              "            + ' to learn more about interactive tables.';\n",
              "          element.innerHTML = '';\n",
              "          dataTable['output_type'] = 'display_data';\n",
              "          await google.colab.output.renderOutput(dataTable, element);\n",
              "          const docLink = document.createElement('div');\n",
              "          docLink.innerHTML = docLinkHtml;\n",
              "          element.appendChild(docLink);\n",
              "        }\n",
              "      </script>\n",
              "    </div>\n",
              "  </div>\n",
              "  "
            ]
          },
          "metadata": {},
          "execution_count": 47
        }
      ]
    },
    {
      "cell_type": "code",
      "source": [
        "korean_black_raspberry_df = korean_black_raspberry_df[['year', 'month', 'day', '경락일', '도매시장', '품목', '세부품목', '거래단량', '거래량', '규격', '등급', '가격']]"
      ],
      "metadata": {
        "id": "0z9Rnq9VK6_I"
      },
      "execution_count": 48,
      "outputs": []
    },
    {
      "cell_type": "code",
      "source": [
        "korean_black_raspberry_df.head(1)"
      ],
      "metadata": {
        "colab": {
          "base_uri": "https://localhost:8080/",
          "height": 81
        },
        "id": "716B3iC8K3ru",
        "outputId": "a3deed8d-6a89-4cd6-ce0b-3cc1d38c5a57"
      },
      "execution_count": 49,
      "outputs": [
        {
          "output_type": "execute_result",
          "data": {
            "text/plain": [
              "   year  month  day       경락일    도매시장   품목     세부품목  거래단량  거래량  규격 등급     가격\n",
              "0  2016      4   26  20160426  부산반여도매  복분자  복분자(일반)   1.0    1  kg  특  10000"
            ],
            "text/html": [
              "\n",
              "  <div id=\"df-1d694f43-1177-411e-b507-c4c4df338f5a\">\n",
              "    <div class=\"colab-df-container\">\n",
              "      <div>\n",
              "<style scoped>\n",
              "    .dataframe tbody tr th:only-of-type {\n",
              "        vertical-align: middle;\n",
              "    }\n",
              "\n",
              "    .dataframe tbody tr th {\n",
              "        vertical-align: top;\n",
              "    }\n",
              "\n",
              "    .dataframe thead th {\n",
              "        text-align: right;\n",
              "    }\n",
              "</style>\n",
              "<table border=\"1\" class=\"dataframe\">\n",
              "  <thead>\n",
              "    <tr style=\"text-align: right;\">\n",
              "      <th></th>\n",
              "      <th>year</th>\n",
              "      <th>month</th>\n",
              "      <th>day</th>\n",
              "      <th>경락일</th>\n",
              "      <th>도매시장</th>\n",
              "      <th>품목</th>\n",
              "      <th>세부품목</th>\n",
              "      <th>거래단량</th>\n",
              "      <th>거래량</th>\n",
              "      <th>규격</th>\n",
              "      <th>등급</th>\n",
              "      <th>가격</th>\n",
              "    </tr>\n",
              "  </thead>\n",
              "  <tbody>\n",
              "    <tr>\n",
              "      <th>0</th>\n",
              "      <td>2016</td>\n",
              "      <td>4</td>\n",
              "      <td>26</td>\n",
              "      <td>20160426</td>\n",
              "      <td>부산반여도매</td>\n",
              "      <td>복분자</td>\n",
              "      <td>복분자(일반)</td>\n",
              "      <td>1.0</td>\n",
              "      <td>1</td>\n",
              "      <td>kg</td>\n",
              "      <td>특</td>\n",
              "      <td>10000</td>\n",
              "    </tr>\n",
              "  </tbody>\n",
              "</table>\n",
              "</div>\n",
              "      <button class=\"colab-df-convert\" onclick=\"convertToInteractive('df-1d694f43-1177-411e-b507-c4c4df338f5a')\"\n",
              "              title=\"Convert this dataframe to an interactive table.\"\n",
              "              style=\"display:none;\">\n",
              "        \n",
              "  <svg xmlns=\"http://www.w3.org/2000/svg\" height=\"24px\"viewBox=\"0 0 24 24\"\n",
              "       width=\"24px\">\n",
              "    <path d=\"M0 0h24v24H0V0z\" fill=\"none\"/>\n",
              "    <path d=\"M18.56 5.44l.94 2.06.94-2.06 2.06-.94-2.06-.94-.94-2.06-.94 2.06-2.06.94zm-11 1L8.5 8.5l.94-2.06 2.06-.94-2.06-.94L8.5 2.5l-.94 2.06-2.06.94zm10 10l.94 2.06.94-2.06 2.06-.94-2.06-.94-.94-2.06-.94 2.06-2.06.94z\"/><path d=\"M17.41 7.96l-1.37-1.37c-.4-.4-.92-.59-1.43-.59-.52 0-1.04.2-1.43.59L10.3 9.45l-7.72 7.72c-.78.78-.78 2.05 0 2.83L4 21.41c.39.39.9.59 1.41.59.51 0 1.02-.2 1.41-.59l7.78-7.78 2.81-2.81c.8-.78.8-2.07 0-2.86zM5.41 20L4 18.59l7.72-7.72 1.47 1.35L5.41 20z\"/>\n",
              "  </svg>\n",
              "      </button>\n",
              "      \n",
              "  <style>\n",
              "    .colab-df-container {\n",
              "      display:flex;\n",
              "      flex-wrap:wrap;\n",
              "      gap: 12px;\n",
              "    }\n",
              "\n",
              "    .colab-df-convert {\n",
              "      background-color: #E8F0FE;\n",
              "      border: none;\n",
              "      border-radius: 50%;\n",
              "      cursor: pointer;\n",
              "      display: none;\n",
              "      fill: #1967D2;\n",
              "      height: 32px;\n",
              "      padding: 0 0 0 0;\n",
              "      width: 32px;\n",
              "    }\n",
              "\n",
              "    .colab-df-convert:hover {\n",
              "      background-color: #E2EBFA;\n",
              "      box-shadow: 0px 1px 2px rgba(60, 64, 67, 0.3), 0px 1px 3px 1px rgba(60, 64, 67, 0.15);\n",
              "      fill: #174EA6;\n",
              "    }\n",
              "\n",
              "    [theme=dark] .colab-df-convert {\n",
              "      background-color: #3B4455;\n",
              "      fill: #D2E3FC;\n",
              "    }\n",
              "\n",
              "    [theme=dark] .colab-df-convert:hover {\n",
              "      background-color: #434B5C;\n",
              "      box-shadow: 0px 1px 3px 1px rgba(0, 0, 0, 0.15);\n",
              "      filter: drop-shadow(0px 1px 2px rgba(0, 0, 0, 0.3));\n",
              "      fill: #FFFFFF;\n",
              "    }\n",
              "  </style>\n",
              "\n",
              "      <script>\n",
              "        const buttonEl =\n",
              "          document.querySelector('#df-1d694f43-1177-411e-b507-c4c4df338f5a button.colab-df-convert');\n",
              "        buttonEl.style.display =\n",
              "          google.colab.kernel.accessAllowed ? 'block' : 'none';\n",
              "\n",
              "        async function convertToInteractive(key) {\n",
              "          const element = document.querySelector('#df-1d694f43-1177-411e-b507-c4c4df338f5a');\n",
              "          const dataTable =\n",
              "            await google.colab.kernel.invokeFunction('convertToInteractive',\n",
              "                                                     [key], {});\n",
              "          if (!dataTable) return;\n",
              "\n",
              "          const docLinkHtml = 'Like what you see? Visit the ' +\n",
              "            '<a target=\"_blank\" href=https://colab.research.google.com/notebooks/data_table.ipynb>data table notebook</a>'\n",
              "            + ' to learn more about interactive tables.';\n",
              "          element.innerHTML = '';\n",
              "          dataTable['output_type'] = 'display_data';\n",
              "          await google.colab.output.renderOutput(dataTable, element);\n",
              "          const docLink = document.createElement('div');\n",
              "          docLink.innerHTML = docLinkHtml;\n",
              "          element.appendChild(docLink);\n",
              "        }\n",
              "      </script>\n",
              "    </div>\n",
              "  </div>\n",
              "  "
            ]
          },
          "metadata": {},
          "execution_count": 49
        }
      ]
    },
    {
      "cell_type": "markdown",
      "source": [
        "> 마지막으로 만들어진 복분자 데이터 프레임을 csv로 저장합니다."
      ],
      "metadata": {
        "id": "yIxnb-s5JM1N"
      }
    },
    {
      "cell_type": "code",
      "source": [
        "korean_black_raspberry_df.to_csv('복분자_가격_데이터.csv', encoding='cp949', index=False)"
      ],
      "metadata": {
        "id": "f8U8g1DmnpkU"
      },
      "execution_count": 50,
      "outputs": []
    },
    {
      "cell_type": "markdown",
      "source": [
        "## 이상으로 전처리 과정을 마쳤습니다!\n",
        "> [데이터 분석 노트북](https://colab.research.google.com/drive/1yp1nZzreOTXOF0Rf5oVQhH89Ut6crOTw?usp=sharing)으로 이어집니다.\n",
        ">\n",
        "> 소중한 시간 내어주셔서 감사합니다.😄\n"
      ],
      "metadata": {
        "id": "4iO_8HtZoMMt"
      }
    }
  ]
}